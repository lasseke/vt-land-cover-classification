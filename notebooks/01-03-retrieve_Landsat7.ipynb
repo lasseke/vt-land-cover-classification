{
 "cells": [
  {
   "cell_type": "markdown",
   "id": "70e26d23-223a-4ed7-8410-44cd00a45996",
   "metadata": {},
   "source": [
    "# Use the Google Earth Engine API to retrieve Landsat-7 surface reflectance, calculate spectral indices, and extract values at VT occurrences\n",
    "#### 0. Set up authentification key (Requires GEE account, one-time execution)"
   ]
  },
  {
   "cell_type": "code",
   "execution_count": null,
   "id": "twenty-fundamental",
   "metadata": {},
   "outputs": [],
   "source": [
    "#!earthengine authenticate # Remove first hashtag (uncomment) to execute, only needs to be done once."
   ]
  },
  {
   "cell_type": "markdown",
   "id": "funded-family",
   "metadata": {},
   "source": [
    "## 1. Import and initialize Google Earth Engine and helpers"
   ]
  },
  {
   "cell_type": "code",
   "execution_count": 1,
   "id": "palestinian-foundation",
   "metadata": {},
   "outputs": [],
   "source": [
    "import ee\n",
    "ee.Initialize()"
   ]
  },
  {
   "cell_type": "code",
   "execution_count": 2,
   "id": "special-character",
   "metadata": {},
   "outputs": [
    {
     "name": "stdout",
     "output_type": "stream",
     "text": [
      "lassekee\n"
     ]
    }
   ],
   "source": [
    "# Retrieve GEE acount information\n",
    "project_credentials = !earthengine ls\n",
    "# Extract user name\n",
    "user_name = project_credentials.s.split(\"/\")[-1]\n",
    "print(user_name)"
   ]
  },
  {
   "cell_type": "code",
   "execution_count": 3,
   "id": "otherwise-leave",
   "metadata": {},
   "outputs": [],
   "source": [
    "from src.data import eehelpers as eeh"
   ]
  },
  {
   "cell_type": "markdown",
   "id": "greenhouse-blink",
   "metadata": {},
   "source": [
    "## 2. Load Landsat-7 imagery\n",
    "##### Define date filters"
   ]
  },
  {
   "cell_type": "code",
   "execution_count": 4,
   "id": "33df7f57-b64c-48d4-867a-943965bf26e2",
   "metadata": {},
   "outputs": [],
   "source": [
    "# Date filters\n",
    "start_date_str = \"2005-06-01\"  # First day to use, inclusive\n",
    "end_date_str = \"2014-09-01\"  # Last day to use, exclusive\n",
    "\n",
    "gs_start_month = 6  # Corresponds to June\n",
    "gs_end_month = 8  # Corresponds to August"
   ]
  },
  {
   "cell_type": "markdown",
   "id": "identical-acceptance",
   "metadata": {},
   "source": [
    "##### Get Norway geometry"
   ]
  },
  {
   "cell_type": "code",
   "execution_count": 5,
   "id": "final-gather",
   "metadata": {},
   "outputs": [],
   "source": [
    "nor_geometry = eeh.get_norway_geometry()"
   ]
  },
  {
   "cell_type": "markdown",
   "id": "hazardous-banner",
   "metadata": {},
   "source": [
    "#### Filter all images that contain the outlier pixels"
   ]
  },
  {
   "cell_type": "code",
   "execution_count": 6,
   "id": "moved-catalyst",
   "metadata": {},
   "outputs": [],
   "source": [
    "# Load Landsat7 Tier1 surface reflectance data. Filter dates, clouds, bounds, and calculate spectral indices.\n",
    "collection_gs2005to2014 = ee.ImageCollection(\"LANDSAT/LE07/C01/T1_SR\") \\\n",
    ".filterDate(start_date_str, end_date_str) \\\n",
    ".filter(ee.Filter.calendarRange(gs_start_month, gs_end_month, 'month')) \\\n",
    ".filterBounds(nor_geometry) \\\n",
    ".map(eeh.mask_clouds_landsat7) \\\n",
    ".map(eeh.clip_to_nor_geometry)"
   ]
  },
  {
   "cell_type": "code",
   "execution_count": 7,
   "id": "1b2508d9-1231-4b02-a67f-f3f1dcde247e",
   "metadata": {},
   "outputs": [],
   "source": [
    "collection_gs2005to2014 = collection_gs2005to2014.map(eeh.apply_landsat_scale_factors)"
   ]
  },
  {
   "cell_type": "markdown",
   "id": "8509fcfd-6cbf-4080-bfa6-8e85abdc0641",
   "metadata": {},
   "source": [
    "#### Calculate 5th and 95th percentile to filter outliers"
   ]
  },
  {
   "cell_type": "code",
   "execution_count": 8,
   "id": "animated-heavy",
   "metadata": {},
   "outputs": [],
   "source": [
    "bottom_percentile_img, top_percentile_img = \\\n",
    "eeh.get_lower_and_upper_quantiles(\n",
    "    img_collection=collection_gs2005to2014,\n",
    "    lower=10,\n",
    "    upper=90\n",
    ")"
   ]
  },
  {
   "cell_type": "markdown",
   "id": "59432ff9-369a-40bd-a68b-9821c4dc2f56",
   "metadata": {},
   "source": [
    "#### Replace outliers in each image with percentile values"
   ]
  },
  {
   "cell_type": "code",
   "execution_count": 9,
   "id": "dried-easter",
   "metadata": {},
   "outputs": [],
   "source": [
    "collection_gs2005to2014 = collection_gs2005to2014 \\\n",
    ".map(lambda img: img.updateMask(img.lt(top_percentile_img))) \\\n",
    ".map(lambda img: img.unmask(top_percentile_img)) \\\n",
    ".map(lambda img: img.updateMask(img.gt(bottom_percentile_img))) \\\n",
    ".map(lambda img: img.unmask(bottom_percentile_img))"
   ]
  },
  {
   "cell_type": "markdown",
   "id": "dec03e7f-c79b-4182-ba83-20036a621d9f",
   "metadata": {},
   "source": [
    "#### Calculate spectral indices for each filtered image"
   ]
  },
  {
   "cell_type": "code",
   "execution_count": 10,
   "id": "6a1041a7-f2e3-4060-b900-b3aada7a4e20",
   "metadata": {},
   "outputs": [
    {
     "data": {
      "text/plain": [
       "['B1', 'B2', 'B3', 'B4', 'B5', 'B7', 'B6']"
      ]
     },
     "execution_count": 10,
     "metadata": {},
     "output_type": "execute_result"
    }
   ],
   "source": [
    "collection_gs2005to2014.first().bandNames().getInfo()"
   ]
  },
  {
   "cell_type": "code",
   "execution_count": 11,
   "id": "offensive-silly",
   "metadata": {},
   "outputs": [],
   "source": [
    "collection_gs2005to2014 = collection_gs2005to2014 \\\n",
    ".map(eeh.map_ndvi_landsat7) \\\n",
    ".map(eeh.map_gndvi_landsat7) \\\n",
    ".map(eeh.map_evi_landsat7) \\\n",
    ".map(eeh.map_savi_landsat7) \\\n",
    ".map(eeh.map_ndmi_landsat7)"
   ]
  },
  {
   "cell_type": "code",
   "execution_count": 12,
   "id": "128eae8a-1773-437d-b180-f2c4e42de6f9",
   "metadata": {},
   "outputs": [
    {
     "data": {
      "text/plain": [
       "1633"
      ]
     },
     "execution_count": 12,
     "metadata": {},
     "output_type": "execute_result"
    }
   ],
   "source": [
    "# Print number of images in collection\n",
    "collection_gs2005to2014.size().getInfo()"
   ]
  },
  {
   "cell_type": "code",
   "execution_count": 13,
   "id": "63f85516-8a11-4c38-af69-1da8d36dcc47",
   "metadata": {},
   "outputs": [],
   "source": [
    "### Also load names of spectral indices\n",
    "import json\n",
    "import re\n",
    "\n",
    "with open('../data/dict/spectral_indices.json') as json_file:\n",
    "    indices_dict = json.load(json_file)\n",
    "    \n",
    "spectral_index_names = [key for key in indices_dict.keys()]\n",
    "\n",
    "band_names = collection_gs2005to2014.first().bandNames().getInfo()\n",
    "band_names = [sr_band_str for sr_band_str in band_names if re.findall(r'\\bB\\w+', sr_band_str)]  # Only include SR bands"
   ]
  },
  {
   "cell_type": "code",
   "execution_count": 14,
   "id": "7b6c17b3-2183-44e3-b380-c80cf18f1897",
   "metadata": {},
   "outputs": [
    {
     "name": "stdout",
     "output_type": "stream",
     "text": [
      "['B1', 'B2', 'B3', 'B4', 'B5', 'B7', 'B6']\n",
      "['NDVI', 'GNDVI', 'EVI', 'SAVI', 'NDMI']\n"
     ]
    }
   ],
   "source": [
    "print(band_names)\n",
    "print(spectral_index_names)"
   ]
  },
  {
   "cell_type": "markdown",
   "id": "4d4c78a0-d3d8-4bc9-a467-f9b7ef6f5750",
   "metadata": {},
   "source": [
    "---\n",
    "#### Create median composite of spectral indices"
   ]
  },
  {
   "cell_type": "code",
   "execution_count": 15,
   "id": "61d6b46f-d1df-4389-9885-f6a1883dfa45",
   "metadata": {},
   "outputs": [],
   "source": [
    "# Create a median composite image, but keep (and rename) only the spectral indices\n",
    "gs2005to2014_out_img = \\\n",
    "collection_gs2005to2014.median().select(\n",
    "    band_names+spectral_index_names,\n",
    "    [band_name + \"_median_comp\" for band_name in band_names+spectral_index_names]\n",
    ")"
   ]
  },
  {
   "cell_type": "markdown",
   "id": "e9996069-a66d-4e3e-8463-d3e474cd9758",
   "metadata": {},
   "source": [
    "---\n",
    "#### Create quality band composites of spectral indices"
   ]
  },
  {
   "cell_type": "code",
   "execution_count": 16,
   "id": "25222ab0-a158-4eee-9b09-ed9b22d2225c",
   "metadata": {},
   "outputs": [],
   "source": [
    "gs2005to2014_out_img = gs2005to2014_out_img.addBands(\n",
    "    collection_gs2005to2014.qualityMosaic('NDVI').select(\n",
    "        spectral_index_names,\n",
    "        [idx_name + \"_greenest_pixel\" for idx_name in spectral_index_names]\n",
    "    )\n",
    ")"
   ]
  },
  {
   "cell_type": "code",
   "execution_count": 17,
   "id": "bdd3b4f6-1040-49be-bf35-9111b15d123c",
   "metadata": {
    "collapsed": true,
    "jupyter": {
     "outputs_hidden": true
    },
    "tags": []
   },
   "outputs": [
    {
     "data": {
      "text/plain": [
       "{'type': 'Image',\n",
       " 'bands': [{'id': 'B1_median_comp',\n",
       "   'data_type': {'type': 'PixelType',\n",
       "    'precision': 'double',\n",
       "    'min': -3.2768,\n",
       "    'max': 3.2767},\n",
       "   'crs': 'EPSG:4326',\n",
       "   'crs_transform': [1, 0, 0, 0, 1, 0]},\n",
       "  {'id': 'B2_median_comp',\n",
       "   'data_type': {'type': 'PixelType',\n",
       "    'precision': 'double',\n",
       "    'min': -3.2768,\n",
       "    'max': 3.2767},\n",
       "   'crs': 'EPSG:4326',\n",
       "   'crs_transform': [1, 0, 0, 0, 1, 0]},\n",
       "  {'id': 'B3_median_comp',\n",
       "   'data_type': {'type': 'PixelType',\n",
       "    'precision': 'double',\n",
       "    'min': -3.2768,\n",
       "    'max': 3.2767},\n",
       "   'crs': 'EPSG:4326',\n",
       "   'crs_transform': [1, 0, 0, 0, 1, 0]},\n",
       "  {'id': 'B4_median_comp',\n",
       "   'data_type': {'type': 'PixelType',\n",
       "    'precision': 'double',\n",
       "    'min': -3.2768,\n",
       "    'max': 3.2767},\n",
       "   'crs': 'EPSG:4326',\n",
       "   'crs_transform': [1, 0, 0, 0, 1, 0]},\n",
       "  {'id': 'B5_median_comp',\n",
       "   'data_type': {'type': 'PixelType',\n",
       "    'precision': 'double',\n",
       "    'min': -3.2768,\n",
       "    'max': 3.2767},\n",
       "   'crs': 'EPSG:4326',\n",
       "   'crs_transform': [1, 0, 0, 0, 1, 0]},\n",
       "  {'id': 'B7_median_comp',\n",
       "   'data_type': {'type': 'PixelType',\n",
       "    'precision': 'double',\n",
       "    'min': -3.2768,\n",
       "    'max': 3.2767},\n",
       "   'crs': 'EPSG:4326',\n",
       "   'crs_transform': [1, 0, 0, 0, 1, 0]},\n",
       "  {'id': 'B6_median_comp',\n",
       "   'data_type': {'type': 'PixelType',\n",
       "    'precision': 'double',\n",
       "    'min': -3276.8,\n",
       "    'max': 3276.7000000000003},\n",
       "   'crs': 'EPSG:4326',\n",
       "   'crs_transform': [1, 0, 0, 0, 1, 0]},\n",
       "  {'id': 'NDVI_median_comp',\n",
       "   'data_type': {'type': 'PixelType', 'precision': 'float'},\n",
       "   'crs': 'EPSG:4326',\n",
       "   'crs_transform': [1, 0, 0, 0, 1, 0]},\n",
       "  {'id': 'GNDVI_median_comp',\n",
       "   'data_type': {'type': 'PixelType', 'precision': 'float'},\n",
       "   'crs': 'EPSG:4326',\n",
       "   'crs_transform': [1, 0, 0, 0, 1, 0]},\n",
       "  {'id': 'EVI_median_comp',\n",
       "   'data_type': {'type': 'PixelType', 'precision': 'float'},\n",
       "   'crs': 'EPSG:4326',\n",
       "   'crs_transform': [1, 0, 0, 0, 1, 0]},\n",
       "  {'id': 'SAVI_median_comp',\n",
       "   'data_type': {'type': 'PixelType', 'precision': 'float'},\n",
       "   'crs': 'EPSG:4326',\n",
       "   'crs_transform': [1, 0, 0, 0, 1, 0]},\n",
       "  {'id': 'NDMI_median_comp',\n",
       "   'data_type': {'type': 'PixelType', 'precision': 'float'},\n",
       "   'crs': 'EPSG:4326',\n",
       "   'crs_transform': [1, 0, 0, 0, 1, 0]},\n",
       "  {'id': 'NDVI_greenest_pixel',\n",
       "   'data_type': {'type': 'PixelType', 'precision': 'float'},\n",
       "   'crs': 'EPSG:4326',\n",
       "   'crs_transform': [1, 0, 0, 0, 1, 0]},\n",
       "  {'id': 'GNDVI_greenest_pixel',\n",
       "   'data_type': {'type': 'PixelType', 'precision': 'float'},\n",
       "   'crs': 'EPSG:4326',\n",
       "   'crs_transform': [1, 0, 0, 0, 1, 0]},\n",
       "  {'id': 'EVI_greenest_pixel',\n",
       "   'data_type': {'type': 'PixelType', 'precision': 'float'},\n",
       "   'crs': 'EPSG:4326',\n",
       "   'crs_transform': [1, 0, 0, 0, 1, 0]},\n",
       "  {'id': 'SAVI_greenest_pixel',\n",
       "   'data_type': {'type': 'PixelType', 'precision': 'float'},\n",
       "   'crs': 'EPSG:4326',\n",
       "   'crs_transform': [1, 0, 0, 0, 1, 0]},\n",
       "  {'id': 'NDMI_greenest_pixel',\n",
       "   'data_type': {'type': 'PixelType', 'precision': 'float'},\n",
       "   'crs': 'EPSG:4326',\n",
       "   'crs_transform': [1, 0, 0, 0, 1, 0]}]}"
      ]
     },
     "execution_count": 17,
     "metadata": {},
     "output_type": "execute_result"
    }
   ],
   "source": [
    "gs2005to2014_out_img.getInfo()"
   ]
  },
  {
   "cell_type": "markdown",
   "id": "46104174-6d36-4d0a-bf46-4b98755f0179",
   "metadata": {},
   "source": [
    "---\n",
    "---\n",
    "---"
   ]
  },
  {
   "cell_type": "markdown",
   "id": "031e1557-4ffe-4a65-90c5-d6ad47feddf4",
   "metadata": {},
   "source": [
    "### Visualize results (optional)"
   ]
  },
  {
   "cell_type": "markdown",
   "id": "643cf5be-597f-4b1b-9de1-c3ba47082240",
   "metadata": {},
   "source": [
    "##### Pick map to visualize"
   ]
  },
  {
   "cell_type": "code",
   "execution_count": 18,
   "id": "0658e742-b14e-4447-9e9a-0eff7143b0bf",
   "metadata": {},
   "outputs": [],
   "source": [
    "img_to_map = gs2005to2014_out_img"
   ]
  },
  {
   "cell_type": "markdown",
   "id": "00bb1a1a-d565-4d59-942b-5421d626eeb0",
   "metadata": {},
   "source": [
    "##### Prepare folium library"
   ]
  },
  {
   "cell_type": "code",
   "execution_count": 19,
   "id": "c2afa2c1-034a-47d2-81f6-6a666cc7c5c7",
   "metadata": {},
   "outputs": [],
   "source": [
    "# Library to display WMS map in notebook\n",
    "import folium"
   ]
  },
  {
   "cell_type": "code",
   "execution_count": 20,
   "id": "ae3b6ec9-a8dc-4b6b-b701-bff9194d802c",
   "metadata": {},
   "outputs": [],
   "source": [
    "# Add EE drawing method to folium, i.e. overwrite method as a monkey patch\n",
    "folium.Map.add_ee_layer = eeh.add_ee_layer"
   ]
  },
  {
   "cell_type": "code",
   "execution_count": 21,
   "id": "bff00696-e013-4507-b5fc-c97ab0c77c86",
   "metadata": {},
   "outputs": [
    {
     "name": "stdout",
     "output_type": "stream",
     "text": [
      "[13.209238450857365, 64.68724893483645]\n"
     ]
    }
   ],
   "source": [
    "# Calculate center point of polygon\n",
    "geom_centroid = nor_geometry.centroid(100).getInfo().get('coordinates')\n",
    "print(geom_centroid)"
   ]
  },
  {
   "cell_type": "markdown",
   "id": "dc6ca952-573d-4aaa-b7cb-29b91f421ec4",
   "metadata": {},
   "source": [
    "### RGB composite on streetmap"
   ]
  },
  {
   "cell_type": "code",
   "execution_count": 22,
   "id": "b50d79e8-6444-45b8-a593-357e2d7c19a7",
   "metadata": {},
   "outputs": [],
   "source": [
    "### Set visualization parameters\n",
    "vis_rgb = {\n",
    "    'bands': ['B3_median_comp', 'B2_median_comp', 'B1_median_comp'],\n",
    "    'min': 0,\n",
    "    'max': 0.3,\n",
    "    'gamma': 1.4\n",
    "}"
   ]
  },
  {
   "cell_type": "code",
   "execution_count": 23,
   "id": "14ef8c2d-93ca-44f6-8601-ad9e41662721",
   "metadata": {},
   "outputs": [],
   "source": [
    "eeMap_rgb = folium.Map(location=geom_centroid[::-1], zoom_start=4, height='100%', width='100%')"
   ]
  },
  {
   "cell_type": "code",
   "execution_count": 24,
   "id": "971f832d-2e91-4f89-bdaf-6dfb472c63f9",
   "metadata": {},
   "outputs": [],
   "source": [
    "eeMap_rgb.add_ee_layer(img_to_map, vis_rgb, 'Norway Sentinel-2 RBG')"
   ]
  },
  {
   "cell_type": "code",
   "execution_count": 25,
   "id": "7058fb9a-ef04-4fa3-8913-554d8e32a423",
   "metadata": {},
   "outputs": [
    {
     "data": {
      "text/html": [
       "<div style=\"width:100%;\"><div style=\"position:relative;width:100%;height:0;padding-bottom:60%;\"><span style=\"color:#565656\">Make this Notebook Trusted to load map: File -> Trust Notebook</span><iframe srcdoc=\"&lt;!DOCTYPE html&gt;\n",
       "&lt;html&gt;\n",
       "&lt;head&gt;\n",
       "    \n",
       "    &lt;meta http-equiv=&quot;content-type&quot; content=&quot;text/html; charset=UTF-8&quot; /&gt;\n",
       "    \n",
       "        &lt;script&gt;\n",
       "            L_NO_TOUCH = false;\n",
       "            L_DISABLE_3D = false;\n",
       "        &lt;/script&gt;\n",
       "    \n",
       "    &lt;style&gt;html, body {width: 100%;height: 100%;margin: 0;padding: 0;}&lt;/style&gt;\n",
       "    &lt;style&gt;#map {position:absolute;top:0;bottom:0;right:0;left:0;}&lt;/style&gt;\n",
       "    &lt;script src=&quot;https://cdn.jsdelivr.net/npm/leaflet@1.9.3/dist/leaflet.js&quot;&gt;&lt;/script&gt;\n",
       "    &lt;script src=&quot;https://code.jquery.com/jquery-1.12.4.min.js&quot;&gt;&lt;/script&gt;\n",
       "    &lt;script src=&quot;https://cdn.jsdelivr.net/npm/bootstrap@5.2.2/dist/js/bootstrap.bundle.min.js&quot;&gt;&lt;/script&gt;\n",
       "    &lt;script src=&quot;https://cdnjs.cloudflare.com/ajax/libs/Leaflet.awesome-markers/2.0.2/leaflet.awesome-markers.js&quot;&gt;&lt;/script&gt;\n",
       "    &lt;link rel=&quot;stylesheet&quot; href=&quot;https://cdn.jsdelivr.net/npm/leaflet@1.9.3/dist/leaflet.css&quot;/&gt;\n",
       "    &lt;link rel=&quot;stylesheet&quot; href=&quot;https://cdn.jsdelivr.net/npm/bootstrap@5.2.2/dist/css/bootstrap.min.css&quot;/&gt;\n",
       "    &lt;link rel=&quot;stylesheet&quot; href=&quot;https://netdna.bootstrapcdn.com/bootstrap/3.0.0/css/bootstrap.min.css&quot;/&gt;\n",
       "    &lt;link rel=&quot;stylesheet&quot; href=&quot;https://cdn.jsdelivr.net/npm/@fortawesome/fontawesome-free@6.2.0/css/all.min.css&quot;/&gt;\n",
       "    &lt;link rel=&quot;stylesheet&quot; href=&quot;https://cdnjs.cloudflare.com/ajax/libs/Leaflet.awesome-markers/2.0.2/leaflet.awesome-markers.css&quot;/&gt;\n",
       "    &lt;link rel=&quot;stylesheet&quot; href=&quot;https://cdn.jsdelivr.net/gh/python-visualization/folium/folium/templates/leaflet.awesome.rotate.min.css&quot;/&gt;\n",
       "    \n",
       "            &lt;meta name=&quot;viewport&quot; content=&quot;width=device-width,\n",
       "                initial-scale=1.0, maximum-scale=1.0, user-scalable=no&quot; /&gt;\n",
       "            &lt;style&gt;\n",
       "                #map_ff7b9ae96d0b4dce80cf81b90b3cdffd {\n",
       "                    position: relative;\n",
       "                    width: 100.0%;\n",
       "                    height: 100.0%;\n",
       "                    left: 0.0%;\n",
       "                    top: 0.0%;\n",
       "                }\n",
       "                .leaflet-container { font-size: 1rem; }\n",
       "            &lt;/style&gt;\n",
       "        \n",
       "&lt;/head&gt;\n",
       "&lt;body&gt;\n",
       "    \n",
       "    \n",
       "            &lt;div class=&quot;folium-map&quot; id=&quot;map_ff7b9ae96d0b4dce80cf81b90b3cdffd&quot; &gt;&lt;/div&gt;\n",
       "        \n",
       "&lt;/body&gt;\n",
       "&lt;script&gt;\n",
       "    \n",
       "    \n",
       "            var map_ff7b9ae96d0b4dce80cf81b90b3cdffd = L.map(\n",
       "                &quot;map_ff7b9ae96d0b4dce80cf81b90b3cdffd&quot;,\n",
       "                {\n",
       "                    center: [64.68724893483645, 13.209238450857365],\n",
       "                    crs: L.CRS.EPSG3857,\n",
       "                    zoom: 4,\n",
       "                    zoomControl: true,\n",
       "                    preferCanvas: false,\n",
       "                }\n",
       "            );\n",
       "\n",
       "            \n",
       "\n",
       "        \n",
       "    \n",
       "            var tile_layer_f469182ba92dda8016a6c79329b1cc64 = L.tileLayer(\n",
       "                &quot;https://{s}.tile.openstreetmap.org/{z}/{x}/{y}.png&quot;,\n",
       "                {&quot;attribution&quot;: &quot;Data by \\u0026copy; \\u003ca target=\\&quot;_blank\\&quot; href=\\&quot;http://openstreetmap.org\\&quot;\\u003eOpenStreetMap\\u003c/a\\u003e, under \\u003ca target=\\&quot;_blank\\&quot; href=\\&quot;http://www.openstreetmap.org/copyright\\&quot;\\u003eODbL\\u003c/a\\u003e.&quot;, &quot;detectRetina&quot;: false, &quot;maxNativeZoom&quot;: 18, &quot;maxZoom&quot;: 18, &quot;minZoom&quot;: 0, &quot;noWrap&quot;: false, &quot;opacity&quot;: 1, &quot;subdomains&quot;: &quot;abc&quot;, &quot;tms&quot;: false}\n",
       "            ).addTo(map_ff7b9ae96d0b4dce80cf81b90b3cdffd);\n",
       "        \n",
       "    \n",
       "            var tile_layer_6fb5b672ad6eded48d745bc5f957b993 = L.tileLayer(\n",
       "                &quot;https://earthengine.googleapis.com/v1alpha/projects/earthengine-legacy/maps/8f45656c06b9656e86a5ff85da86ce98-3098c6382b6416333e36c20a301fc436/tiles/{z}/{x}/{y}&quot;,\n",
       "                {&quot;attribution&quot;: &quot;Google Earth Engine&quot;, &quot;detectRetina&quot;: false, &quot;maxNativeZoom&quot;: 18, &quot;maxZoom&quot;: 18, &quot;minZoom&quot;: 0, &quot;noWrap&quot;: false, &quot;opacity&quot;: 1, &quot;subdomains&quot;: &quot;abc&quot;, &quot;tms&quot;: false}\n",
       "            ).addTo(map_ff7b9ae96d0b4dce80cf81b90b3cdffd);\n",
       "        \n",
       "&lt;/script&gt;\n",
       "&lt;/html&gt;\" style=\"position:absolute;width:100%;height:100%;left:0;top:0;border:none !important;\" allowfullscreen webkitallowfullscreen mozallowfullscreen></iframe></div></div>"
      ],
      "text/plain": [
       "<folium.folium.Map at 0x202ed8504f0>"
      ]
     },
     "metadata": {},
     "output_type": "display_data"
    }
   ],
   "source": [
    "display(eeMap_rgb) # Display map, may take a while to load!"
   ]
  },
  {
   "cell_type": "markdown",
   "id": "d1984449-3f13-4e4b-b7a2-7cb38b338658",
   "metadata": {},
   "source": [
    "##### Visualize spectral index"
   ]
  },
  {
   "cell_type": "code",
   "execution_count": 26,
   "id": "14ed6cea-c828-42d3-baa4-6056c62ad8d2",
   "metadata": {},
   "outputs": [],
   "source": [
    "vis_idx_name = \"NDVI_greenest_pixel\""
   ]
  },
  {
   "cell_type": "code",
   "execution_count": 27,
   "id": "d7285ae9-cadd-4a16-ad27-57ffdc9b75d9",
   "metadata": {},
   "outputs": [],
   "source": [
    "# Visualization parameters for map representation \n",
    "# (display values from -1 to 1, blue areas = -1, white = 0, green = 1)\n",
    "ndvi_vis = {'min': -1, 'max': 1, 'palette': ['blue', 'white', 'green']}\n",
    "# Select NDVI band\n",
    "vis_idx_img = img_to_map.select(vis_idx_name)"
   ]
  },
  {
   "cell_type": "code",
   "execution_count": 28,
   "id": "eb00b0d2-c26e-4285-8fbb-ee4c57223160",
   "metadata": {},
   "outputs": [],
   "source": [
    "# Create map instance\n",
    "eeMap_ndvi = folium.Map(location=geom_centroid[::-1], zoom_start=4, height='100%', width='100%')"
   ]
  },
  {
   "cell_type": "code",
   "execution_count": 29,
   "id": "b4ddbd74-63bd-4b9e-9d9b-46af5fda42c8",
   "metadata": {},
   "outputs": [],
   "source": [
    "# Display NDVI image with chosen display parameters\n",
    "eeMap_ndvi.add_ee_layer(vis_idx_img, ndvi_vis, f'Norway Sentinel2 - {vis_idx_name}')"
   ]
  },
  {
   "cell_type": "code",
   "execution_count": 30,
   "id": "33df8303-14ff-40c5-ada9-0e5540608e6d",
   "metadata": {},
   "outputs": [
    {
     "data": {
      "text/html": [
       "<div style=\"width:100%;\"><div style=\"position:relative;width:100%;height:0;padding-bottom:60%;\"><span style=\"color:#565656\">Make this Notebook Trusted to load map: File -> Trust Notebook</span><iframe srcdoc=\"&lt;!DOCTYPE html&gt;\n",
       "&lt;html&gt;\n",
       "&lt;head&gt;\n",
       "    \n",
       "    &lt;meta http-equiv=&quot;content-type&quot; content=&quot;text/html; charset=UTF-8&quot; /&gt;\n",
       "    \n",
       "        &lt;script&gt;\n",
       "            L_NO_TOUCH = false;\n",
       "            L_DISABLE_3D = false;\n",
       "        &lt;/script&gt;\n",
       "    \n",
       "    &lt;style&gt;html, body {width: 100%;height: 100%;margin: 0;padding: 0;}&lt;/style&gt;\n",
       "    &lt;style&gt;#map {position:absolute;top:0;bottom:0;right:0;left:0;}&lt;/style&gt;\n",
       "    &lt;script src=&quot;https://cdn.jsdelivr.net/npm/leaflet@1.9.3/dist/leaflet.js&quot;&gt;&lt;/script&gt;\n",
       "    &lt;script src=&quot;https://code.jquery.com/jquery-1.12.4.min.js&quot;&gt;&lt;/script&gt;\n",
       "    &lt;script src=&quot;https://cdn.jsdelivr.net/npm/bootstrap@5.2.2/dist/js/bootstrap.bundle.min.js&quot;&gt;&lt;/script&gt;\n",
       "    &lt;script src=&quot;https://cdnjs.cloudflare.com/ajax/libs/Leaflet.awesome-markers/2.0.2/leaflet.awesome-markers.js&quot;&gt;&lt;/script&gt;\n",
       "    &lt;link rel=&quot;stylesheet&quot; href=&quot;https://cdn.jsdelivr.net/npm/leaflet@1.9.3/dist/leaflet.css&quot;/&gt;\n",
       "    &lt;link rel=&quot;stylesheet&quot; href=&quot;https://cdn.jsdelivr.net/npm/bootstrap@5.2.2/dist/css/bootstrap.min.css&quot;/&gt;\n",
       "    &lt;link rel=&quot;stylesheet&quot; href=&quot;https://netdna.bootstrapcdn.com/bootstrap/3.0.0/css/bootstrap.min.css&quot;/&gt;\n",
       "    &lt;link rel=&quot;stylesheet&quot; href=&quot;https://cdn.jsdelivr.net/npm/@fortawesome/fontawesome-free@6.2.0/css/all.min.css&quot;/&gt;\n",
       "    &lt;link rel=&quot;stylesheet&quot; href=&quot;https://cdnjs.cloudflare.com/ajax/libs/Leaflet.awesome-markers/2.0.2/leaflet.awesome-markers.css&quot;/&gt;\n",
       "    &lt;link rel=&quot;stylesheet&quot; href=&quot;https://cdn.jsdelivr.net/gh/python-visualization/folium/folium/templates/leaflet.awesome.rotate.min.css&quot;/&gt;\n",
       "    \n",
       "            &lt;meta name=&quot;viewport&quot; content=&quot;width=device-width,\n",
       "                initial-scale=1.0, maximum-scale=1.0, user-scalable=no&quot; /&gt;\n",
       "            &lt;style&gt;\n",
       "                #map_e24add2a3eb0efe287ce5d14b58fb7ee {\n",
       "                    position: relative;\n",
       "                    width: 100.0%;\n",
       "                    height: 100.0%;\n",
       "                    left: 0.0%;\n",
       "                    top: 0.0%;\n",
       "                }\n",
       "                .leaflet-container { font-size: 1rem; }\n",
       "            &lt;/style&gt;\n",
       "        \n",
       "&lt;/head&gt;\n",
       "&lt;body&gt;\n",
       "    \n",
       "    \n",
       "            &lt;div class=&quot;folium-map&quot; id=&quot;map_e24add2a3eb0efe287ce5d14b58fb7ee&quot; &gt;&lt;/div&gt;\n",
       "        \n",
       "&lt;/body&gt;\n",
       "&lt;script&gt;\n",
       "    \n",
       "    \n",
       "            var map_e24add2a3eb0efe287ce5d14b58fb7ee = L.map(\n",
       "                &quot;map_e24add2a3eb0efe287ce5d14b58fb7ee&quot;,\n",
       "                {\n",
       "                    center: [64.68724893483645, 13.209238450857365],\n",
       "                    crs: L.CRS.EPSG3857,\n",
       "                    zoom: 4,\n",
       "                    zoomControl: true,\n",
       "                    preferCanvas: false,\n",
       "                }\n",
       "            );\n",
       "\n",
       "            \n",
       "\n",
       "        \n",
       "    \n",
       "            var tile_layer_5a7d8d962e0b31ba749dff5fc99d1da0 = L.tileLayer(\n",
       "                &quot;https://{s}.tile.openstreetmap.org/{z}/{x}/{y}.png&quot;,\n",
       "                {&quot;attribution&quot;: &quot;Data by \\u0026copy; \\u003ca target=\\&quot;_blank\\&quot; href=\\&quot;http://openstreetmap.org\\&quot;\\u003eOpenStreetMap\\u003c/a\\u003e, under \\u003ca target=\\&quot;_blank\\&quot; href=\\&quot;http://www.openstreetmap.org/copyright\\&quot;\\u003eODbL\\u003c/a\\u003e.&quot;, &quot;detectRetina&quot;: false, &quot;maxNativeZoom&quot;: 18, &quot;maxZoom&quot;: 18, &quot;minZoom&quot;: 0, &quot;noWrap&quot;: false, &quot;opacity&quot;: 1, &quot;subdomains&quot;: &quot;abc&quot;, &quot;tms&quot;: false}\n",
       "            ).addTo(map_e24add2a3eb0efe287ce5d14b58fb7ee);\n",
       "        \n",
       "    \n",
       "            var tile_layer_88c2acc4e666a4a35bff5db0b0bd2544 = L.tileLayer(\n",
       "                &quot;https://earthengine.googleapis.com/v1alpha/projects/earthengine-legacy/maps/5adbed637d4480df72c6663bd7ac1fdc-4d98a4de0f249edb3659667ba0fb6773/tiles/{z}/{x}/{y}&quot;,\n",
       "                {&quot;attribution&quot;: &quot;Google Earth Engine&quot;, &quot;detectRetina&quot;: false, &quot;maxNativeZoom&quot;: 18, &quot;maxZoom&quot;: 18, &quot;minZoom&quot;: 0, &quot;noWrap&quot;: false, &quot;opacity&quot;: 1, &quot;subdomains&quot;: &quot;abc&quot;, &quot;tms&quot;: false}\n",
       "            ).addTo(map_e24add2a3eb0efe287ce5d14b58fb7ee);\n",
       "        \n",
       "&lt;/script&gt;\n",
       "&lt;/html&gt;\" style=\"position:absolute;width:100%;height:100%;left:0;top:0;border:none !important;\" allowfullscreen webkitallowfullscreen mozallowfullscreen></iframe></div></div>"
      ],
      "text/plain": [
       "<folium.folium.Map at 0x202ec1c2f50>"
      ]
     },
     "metadata": {},
     "output_type": "display_data"
    }
   ],
   "source": [
    "# Display map\n",
    "display(eeMap_ndvi) # Obs! It may take a while to load the tiles!"
   ]
  },
  {
   "cell_type": "markdown",
   "id": "16135b73-5a7d-4e4e-b1f9-3202c3379a0e",
   "metadata": {},
   "source": [
    "---------\n",
    "## Extract Values at Vegetation Type locations"
   ]
  },
  {
   "cell_type": "markdown",
   "id": "8002aeb2-ef90-4e7a-b9d8-c51cbfb80e12",
   "metadata": {},
   "source": [
    "#### Retrieve Vegetation Type data"
   ]
  },
  {
   "cell_type": "code",
   "execution_count": 31,
   "id": "3800fa4d-3a56-4f05-8f7a-bf8797b3f269",
   "metadata": {},
   "outputs": [],
   "source": [
    "# Define the image you want to use for extraction\n",
    "img_to_extr = gs2005to2014_out_img"
   ]
  },
  {
   "cell_type": "code",
   "execution_count": 32,
   "id": "647334d0-3c1f-4c72-8530-5e0884cde5cb",
   "metadata": {},
   "outputs": [
    {
     "name": "stdout",
     "output_type": "stream",
     "text": [
      "FeatureCollection initialized, number of rows: 25679\n"
     ]
    }
   ],
   "source": [
    "# Initialize VT FeatureCollection\n",
    "vt_presence_fc = eeh.VTFeatureCollection(\n",
    "    user_name=user_name,\n",
    "    vt_asset_name='vtprespoints',\n",
    "    extract_columns=['POINT_X', 'POINT_Y', 'FLATE_NR', 'layer']\n",
    ")"
   ]
  },
  {
   "cell_type": "markdown",
   "id": "ac955efd-bf23-44a2-bbf8-94ef8b14059b",
   "metadata": {},
   "source": [
    "#### Extract image data\n",
    "_Increase tileScale (default:1) in 2^n steps (2,4,...) if computation times out!_"
   ]
  },
  {
   "cell_type": "code",
   "execution_count": 34,
   "id": "7e6cbd55-3360-4f8e-8b2e-2c1ca7d08127",
   "metadata": {
    "collapsed": true,
    "jupyter": {
     "outputs_hidden": true
    },
    "tags": []
   },
   "outputs": [
    {
     "name": "stdout",
     "output_type": "stream",
     "text": [
      "Starting extraction. This process can take 5-10 minutes.\n"
     ]
    },
    {
     "ename": "EEException",
     "evalue": "User memory limit exceeded.",
     "output_type": "error",
     "traceback": [
      "\u001b[1;31m---------------------------------------------------------------------------\u001b[0m",
      "\u001b[1;31mHttpError\u001b[0m                                 Traceback (most recent call last)",
      "File \u001b[1;32mC:\\Anaconda3\\envs\\dmvtnor\\lib\\site-packages\\ee\\data.py:329\u001b[0m, in \u001b[0;36m_execute_cloud_call\u001b[1;34m(call, num_retries)\u001b[0m\n\u001b[0;32m    328\u001b[0m \u001b[38;5;28;01mtry\u001b[39;00m:\n\u001b[1;32m--> 329\u001b[0m   \u001b[38;5;28;01mreturn\u001b[39;00m \u001b[43mcall\u001b[49m\u001b[38;5;241;43m.\u001b[39;49m\u001b[43mexecute\u001b[49m\u001b[43m(\u001b[49m\u001b[43mnum_retries\u001b[49m\u001b[38;5;241;43m=\u001b[39;49m\u001b[43mnum_retries\u001b[49m\u001b[43m)\u001b[49m\n\u001b[0;32m    330\u001b[0m \u001b[38;5;28;01mexcept\u001b[39;00m googleapiclient\u001b[38;5;241m.\u001b[39merrors\u001b[38;5;241m.\u001b[39mHttpError \u001b[38;5;28;01mas\u001b[39;00m e:\n",
      "File \u001b[1;32mC:\\Anaconda3\\envs\\dmvtnor\\lib\\site-packages\\googleapiclient\\_helpers.py:130\u001b[0m, in \u001b[0;36mpositional.<locals>.positional_decorator.<locals>.positional_wrapper\u001b[1;34m(*args, **kwargs)\u001b[0m\n\u001b[0;32m    129\u001b[0m         logger\u001b[38;5;241m.\u001b[39mwarning(message)\n\u001b[1;32m--> 130\u001b[0m \u001b[38;5;28;01mreturn\u001b[39;00m wrapped(\u001b[38;5;241m*\u001b[39margs, \u001b[38;5;241m*\u001b[39m\u001b[38;5;241m*\u001b[39mkwargs)\n",
      "File \u001b[1;32mC:\\Anaconda3\\envs\\dmvtnor\\lib\\site-packages\\googleapiclient\\http.py:938\u001b[0m, in \u001b[0;36mHttpRequest.execute\u001b[1;34m(self, http, num_retries)\u001b[0m\n\u001b[0;32m    937\u001b[0m \u001b[38;5;28;01mif\u001b[39;00m resp\u001b[38;5;241m.\u001b[39mstatus \u001b[38;5;241m>\u001b[39m\u001b[38;5;241m=\u001b[39m \u001b[38;5;241m300\u001b[39m:\n\u001b[1;32m--> 938\u001b[0m     \u001b[38;5;28;01mraise\u001b[39;00m HttpError(resp, content, uri\u001b[38;5;241m=\u001b[39m\u001b[38;5;28mself\u001b[39m\u001b[38;5;241m.\u001b[39muri)\n\u001b[0;32m    939\u001b[0m \u001b[38;5;28;01mreturn\u001b[39;00m \u001b[38;5;28mself\u001b[39m\u001b[38;5;241m.\u001b[39mpostproc(resp, content)\n",
      "\u001b[1;31mHttpError\u001b[0m: <HttpError 400 when requesting https://earthengine.googleapis.com/v1alpha/projects/earthengine-legacy/value:compute?prettyPrint=false&alt=json returned \"User memory limit exceeded.\". Details: \"User memory limit exceeded.\">",
      "\nDuring handling of the above exception, another exception occurred:\n",
      "\u001b[1;31mEEException\u001b[0m                               Traceback (most recent call last)",
      "Cell \u001b[1;32mIn[34], line 1\u001b[0m\n\u001b[1;32m----> 1\u001b[0m sampled_lands_list \u001b[38;5;241m=\u001b[39m \u001b[43mvt_presence_fc\u001b[49m\u001b[38;5;241;43m.\u001b[39;49m\u001b[43mextract_from_eeimg\u001b[49m\u001b[43m(\u001b[49m\n\u001b[0;32m      2\u001b[0m \u001b[43m    \u001b[49m\u001b[43mimg\u001b[49m\u001b[38;5;241;43m=\u001b[39;49m\u001b[43mimg_to_extr\u001b[49m\u001b[43m,\u001b[49m\n\u001b[0;32m      3\u001b[0m \u001b[43m    \u001b[49m\u001b[43mscale\u001b[49m\u001b[38;5;241;43m=\u001b[39;49m\u001b[38;5;241;43m30\u001b[39;49m\u001b[43m,\u001b[49m\u001b[43m \u001b[49m\u001b[38;5;66;43;03m# Spatial scale to resample to\u001b[39;49;00m\n\u001b[0;32m      4\u001b[0m \u001b[43m    \u001b[49m\u001b[43mtile_scale\u001b[49m\u001b[38;5;241;43m=\u001b[39;49m\u001b[38;5;241;43m2\u001b[39;49m\u001b[43m \u001b[49m\u001b[38;5;66;43;03m# Parameter to control GEE memory usage, increase in steps of 2^n if it crashes\u001b[39;49;00m\n\u001b[0;32m      5\u001b[0m \u001b[43m)\u001b[49m\n",
      "File \u001b[1;32mc:\\git_repos\\dm-vegetation-types-norway\\src\\data\\eehelpers.py:357\u001b[0m, in \u001b[0;36mVTFeatureCollection.extract_from_eeimg\u001b[1;34m(self, img, scale, tile_scale)\u001b[0m\n\u001b[0;32m    353\u001b[0m \u001b[38;5;28mprint\u001b[39m(\u001b[38;5;124m\"\u001b[39m\u001b[38;5;124mStarting extraction. This process can take 5-10 minutes.\u001b[39m\u001b[38;5;124m\"\u001b[39m)\n\u001b[0;32m    355\u001b[0m \u001b[38;5;66;03m# Warning, takes time! Example timing output:\u001b[39;00m\n\u001b[0;32m    356\u001b[0m \u001b[38;5;66;03m# 5min 22s ± 0 ns per loop (mean ± std. dev. of 1 run, 1 loop each)\u001b[39;00m\n\u001b[1;32m--> 357\u001b[0m sampled_list \u001b[38;5;241m=\u001b[39m \u001b[43msampled_fc\u001b[49m\u001b[38;5;241;43m.\u001b[39;49m\u001b[43mtoList\u001b[49m\u001b[43m(\u001b[49m\u001b[38;5;28;43mself\u001b[39;49m\u001b[38;5;241;43m.\u001b[39;49m\u001b[43mn_points\u001b[49m\u001b[43m)\u001b[49m\u001b[38;5;241;43m.\u001b[39;49m\u001b[43mgetInfo\u001b[49m\u001b[43m(\u001b[49m\u001b[43m)\u001b[49m\n\u001b[0;32m    359\u001b[0m \u001b[38;5;28;01mreturn\u001b[39;00m sampled_list\n",
      "File \u001b[1;32mC:\\Anaconda3\\envs\\dmvtnor\\lib\\site-packages\\ee\\computedobject.py:96\u001b[0m, in \u001b[0;36mComputedObject.getInfo\u001b[1;34m(self)\u001b[0m\n\u001b[0;32m     90\u001b[0m \u001b[38;5;28;01mdef\u001b[39;00m \u001b[38;5;21mgetInfo\u001b[39m(\u001b[38;5;28mself\u001b[39m):\n\u001b[0;32m     91\u001b[0m \u001b[38;5;250m  \u001b[39m\u001b[38;5;124;03m\"\"\"Fetch and return information about this object.\u001b[39;00m\n\u001b[0;32m     92\u001b[0m \n\u001b[0;32m     93\u001b[0m \u001b[38;5;124;03m  Returns:\u001b[39;00m\n\u001b[0;32m     94\u001b[0m \u001b[38;5;124;03m    The object can evaluate to anything.\u001b[39;00m\n\u001b[0;32m     95\u001b[0m \u001b[38;5;124;03m  \"\"\"\u001b[39;00m\n\u001b[1;32m---> 96\u001b[0m   \u001b[38;5;28;01mreturn\u001b[39;00m \u001b[43mdata\u001b[49m\u001b[38;5;241;43m.\u001b[39;49m\u001b[43mcomputeValue\u001b[49m\u001b[43m(\u001b[49m\u001b[38;5;28;43mself\u001b[39;49m\u001b[43m)\u001b[49m\n",
      "File \u001b[1;32mC:\\Anaconda3\\envs\\dmvtnor\\lib\\site-packages\\ee\\data.py:786\u001b[0m, in \u001b[0;36mcomputeValue\u001b[1;34m(obj)\u001b[0m\n\u001b[0;32m    783\u001b[0m body \u001b[38;5;241m=\u001b[39m {\u001b[38;5;124m'\u001b[39m\u001b[38;5;124mexpression\u001b[39m\u001b[38;5;124m'\u001b[39m: serializer\u001b[38;5;241m.\u001b[39mencode(obj, for_cloud_api\u001b[38;5;241m=\u001b[39m\u001b[38;5;28;01mTrue\u001b[39;00m)}\n\u001b[0;32m    784\u001b[0m _maybe_populate_workload_tag(body)\n\u001b[1;32m--> 786\u001b[0m \u001b[38;5;28;01mreturn\u001b[39;00m \u001b[43m_execute_cloud_call\u001b[49m\u001b[43m(\u001b[49m\n\u001b[0;32m    787\u001b[0m \u001b[43m    \u001b[49m\u001b[43m_get_cloud_api_resource\u001b[49m\u001b[43m(\u001b[49m\u001b[43m)\u001b[49m\u001b[38;5;241;43m.\u001b[39;49m\u001b[43mprojects\u001b[49m\u001b[43m(\u001b[49m\u001b[43m)\u001b[49m\u001b[38;5;241;43m.\u001b[39;49m\u001b[43mvalue\u001b[49m\u001b[43m(\u001b[49m\u001b[43m)\u001b[49m\u001b[38;5;241;43m.\u001b[39;49m\u001b[43mcompute\u001b[49m\u001b[43m(\u001b[49m\n\u001b[0;32m    788\u001b[0m \u001b[43m        \u001b[49m\u001b[43mbody\u001b[49m\u001b[38;5;241;43m=\u001b[39;49m\u001b[43mbody\u001b[49m\u001b[43m,\u001b[49m\n\u001b[0;32m    789\u001b[0m \u001b[43m        \u001b[49m\u001b[43mproject\u001b[49m\u001b[38;5;241;43m=\u001b[39;49m\u001b[43m_get_projects_path\u001b[49m\u001b[43m(\u001b[49m\u001b[43m)\u001b[49m\u001b[43m,\u001b[49m\n\u001b[0;32m    790\u001b[0m \u001b[43m        \u001b[49m\u001b[43mprettyPrint\u001b[49m\u001b[38;5;241;43m=\u001b[39;49m\u001b[38;5;28;43;01mFalse\u001b[39;49;00m\u001b[43m)\u001b[49m\u001b[43m)\u001b[49m[\u001b[38;5;124m'\u001b[39m\u001b[38;5;124mresult\u001b[39m\u001b[38;5;124m'\u001b[39m]\n",
      "File \u001b[1;32mC:\\Anaconda3\\envs\\dmvtnor\\lib\\site-packages\\ee\\data.py:331\u001b[0m, in \u001b[0;36m_execute_cloud_call\u001b[1;34m(call, num_retries)\u001b[0m\n\u001b[0;32m    329\u001b[0m   \u001b[38;5;28;01mreturn\u001b[39;00m call\u001b[38;5;241m.\u001b[39mexecute(num_retries\u001b[38;5;241m=\u001b[39mnum_retries)\n\u001b[0;32m    330\u001b[0m \u001b[38;5;28;01mexcept\u001b[39;00m googleapiclient\u001b[38;5;241m.\u001b[39merrors\u001b[38;5;241m.\u001b[39mHttpError \u001b[38;5;28;01mas\u001b[39;00m e:\n\u001b[1;32m--> 331\u001b[0m   \u001b[38;5;28;01mraise\u001b[39;00m _translate_cloud_exception(e)\n",
      "\u001b[1;31mEEException\u001b[0m: User memory limit exceeded."
     ]
    }
   ],
   "source": [
    "sampled_lands_list = vt_presence_fc.extract_from_eeimg(\n",
    "    img=img_to_extr,\n",
    "    scale=30, # Spatial scale to resample to\n",
    "    tile_scale=2 # Parameter to control GEE memory usage, increase in steps of 2^n if it crashes\n",
    ")"
   ]
  },
  {
   "cell_type": "code",
   "execution_count": 46,
   "id": "fb97c127-4dde-4ea7-a586-dbeb8d242018",
   "metadata": {
    "tags": []
   },
   "outputs": [
    {
     "name": "stdout",
     "output_type": "stream",
     "text": [
      "{'type': 'Feature', 'geometry': None, 'id': '000000000000000008d6_0', 'properties': {'B1_median_comp': 2, 'B2_median_comp': 2, 'B3_median_comp': 2, 'B4_median_comp': 0.6845, 'B5_median_comp': 0.2879, 'B6_median_comp': 291.3, 'B7_median_comp': 0.14650000000000002, 'EVI_greenest_pixel': 0.43883976340293884, 'EVI_median_comp': 2.5, 'FLATE_NR': 2028, 'GNDVI_greenest_pixel': 0.6153236627578735, 'GNDVI_median_comp': -0.49003538489341736, 'NDMI_greenest_pixel': 0.0728197917342186, 'NDMI_median_comp': 0.40785685181617737, 'NDVI_greenest_pixel': 0.6208907961845398, 'NDVI_median_comp': -0.49003538489341736, 'POINT_X': 270096.623609, 'POINT_Y': 6948291.74892, 'SAVI_greenest_pixel': 0.4004788100719452, 'SAVI_median_comp': -0.6196420192718506, 'layer': '1ab_p'}}\n"
     ]
    }
   ],
   "source": [
    "### Print first entry for testing\n",
    "print(sampled_lands_list[0])"
   ]
  },
  {
   "cell_type": "markdown",
   "id": "e74d5d24-7583-4a16-9312-3945dc7dbdab",
   "metadata": {},
   "source": [
    "<h3 style=\"color:salmon\">Create result DataFrame and save as csv</h3>"
   ]
  },
  {
   "cell_type": "code",
   "execution_count": 47,
   "id": "3ee9cb24-8450-4098-a519-72691871c6c2",
   "metadata": {},
   "outputs": [
    {
     "name": "stdout",
     "output_type": "stream",
     "text": [
      "Duplicate entries in raw df: 2943.\n",
      "Removing duplicates...\n",
      "Finished! Duplicated entries in output df: 0 (should be 0).\n"
     ]
    }
   ],
   "source": [
    "feature_mat = \\\n",
    "eeh.df_from_sampled_list(\n",
    "    sampled_list=sampled_lands_list,\n",
    "    saveas=\"Lands7_gs2005to2014_median_and_greenpix.csv\",\n",
    "    drop_cols=[\"type\", \"geometry\", \"id\"]\n",
    ")"
   ]
  },
  {
   "cell_type": "code",
   "execution_count": 48,
   "id": "b6701ff0-2668-47a2-8526-bd6bce355cb4",
   "metadata": {},
   "outputs": [
    {
     "name": "stdout",
     "output_type": "stream",
     "text": [
      "(22736, 21)\n"
     ]
    },
    {
     "data": {
      "text/html": [
       "<div>\n",
       "<style scoped>\n",
       "    .dataframe tbody tr th:only-of-type {\n",
       "        vertical-align: middle;\n",
       "    }\n",
       "\n",
       "    .dataframe tbody tr th {\n",
       "        vertical-align: top;\n",
       "    }\n",
       "\n",
       "    .dataframe thead th {\n",
       "        text-align: right;\n",
       "    }\n",
       "</style>\n",
       "<table border=\"1\" class=\"dataframe\">\n",
       "  <thead>\n",
       "    <tr style=\"text-align: right;\">\n",
       "      <th></th>\n",
       "      <th>B1_median_comp</th>\n",
       "      <th>B2_median_comp</th>\n",
       "      <th>B3_median_comp</th>\n",
       "      <th>B4_median_comp</th>\n",
       "      <th>B5_median_comp</th>\n",
       "      <th>B6_median_comp</th>\n",
       "      <th>B7_median_comp</th>\n",
       "      <th>EVI_greenest_pixel</th>\n",
       "      <th>EVI_median_comp</th>\n",
       "      <th>FLATE_NR</th>\n",
       "      <th>...</th>\n",
       "      <th>GNDVI_median_comp</th>\n",
       "      <th>NDMI_greenest_pixel</th>\n",
       "      <th>NDMI_median_comp</th>\n",
       "      <th>NDVI_greenest_pixel</th>\n",
       "      <th>NDVI_median_comp</th>\n",
       "      <th>POINT_X</th>\n",
       "      <th>POINT_Y</th>\n",
       "      <th>SAVI_greenest_pixel</th>\n",
       "      <th>SAVI_median_comp</th>\n",
       "      <th>layer</th>\n",
       "    </tr>\n",
       "  </thead>\n",
       "  <tbody>\n",
       "    <tr>\n",
       "      <th>0</th>\n",
       "      <td>2.0</td>\n",
       "      <td>2.0</td>\n",
       "      <td>2.0</td>\n",
       "      <td>0.6845</td>\n",
       "      <td>0.2879</td>\n",
       "      <td>291.3</td>\n",
       "      <td>0.1465</td>\n",
       "      <td>0.43884</td>\n",
       "      <td>2.5</td>\n",
       "      <td>2028</td>\n",
       "      <td>...</td>\n",
       "      <td>-0.490035</td>\n",
       "      <td>0.07282</td>\n",
       "      <td>0.407857</td>\n",
       "      <td>0.620891</td>\n",
       "      <td>-0.490035</td>\n",
       "      <td>270096.623609</td>\n",
       "      <td>6948291.74892</td>\n",
       "      <td>0.400479</td>\n",
       "      <td>-0.619642</td>\n",
       "      <td>1ab_p</td>\n",
       "    </tr>\n",
       "    <tr>\n",
       "      <th>1</th>\n",
       "      <td>2.0</td>\n",
       "      <td>2.0</td>\n",
       "      <td>2.0</td>\n",
       "      <td>0.7734</td>\n",
       "      <td>0.25155</td>\n",
       "      <td>290.45</td>\n",
       "      <td>0.13335</td>\n",
       "      <td>0.426163</td>\n",
       "      <td>2.5</td>\n",
       "      <td>2028</td>\n",
       "      <td>...</td>\n",
       "      <td>-0.442273</td>\n",
       "      <td>0.089</td>\n",
       "      <td>0.509147</td>\n",
       "      <td>0.637354</td>\n",
       "      <td>-0.442273</td>\n",
       "      <td>270602.657518</td>\n",
       "      <td>6948119.426</td>\n",
       "      <td>0.404877</td>\n",
       "      <td>-0.562076</td>\n",
       "      <td>1ab_p</td>\n",
       "    </tr>\n",
       "    <tr>\n",
       "      <th>2</th>\n",
       "      <td>2.0</td>\n",
       "      <td>2.0</td>\n",
       "      <td>2.0</td>\n",
       "      <td>0.8127</td>\n",
       "      <td>0.2332</td>\n",
       "      <td>291.3</td>\n",
       "      <td>0.1264</td>\n",
       "      <td>0.358472</td>\n",
       "      <td>2.5</td>\n",
       "      <td>2028</td>\n",
       "      <td>...</td>\n",
       "      <td>-0.422121</td>\n",
       "      <td>0.06869</td>\n",
       "      <td>0.554068</td>\n",
       "      <td>0.503371</td>\n",
       "      <td>-0.422121</td>\n",
       "      <td>269874.742198</td>\n",
       "      <td>6947897.06576</td>\n",
       "      <td>0.314019</td>\n",
       "      <td>-0.537613</td>\n",
       "      <td>1ab_p</td>\n",
       "    </tr>\n",
       "    <tr>\n",
       "      <th>3</th>\n",
       "      <td>2.0</td>\n",
       "      <td>2.0</td>\n",
       "      <td>2.0</td>\n",
       "      <td>0.5182</td>\n",
       "      <td>0.3239</td>\n",
       "      <td>292.9</td>\n",
       "      <td>0.2098</td>\n",
       "      <td>0.266672</td>\n",
       "      <td>2.5</td>\n",
       "      <td>2227</td>\n",
       "      <td>...</td>\n",
       "      <td>-0.588436</td>\n",
       "      <td>-0.053536</td>\n",
       "      <td>0.230733</td>\n",
       "      <td>0.484592</td>\n",
       "      <td>-0.588436</td>\n",
       "      <td>306729.777239</td>\n",
       "      <td>6930089.83465</td>\n",
       "      <td>0.24842</td>\n",
       "      <td>-0.736432</td>\n",
       "      <td>1ab_p</td>\n",
       "    </tr>\n",
       "    <tr>\n",
       "      <th>4</th>\n",
       "      <td>0.4278</td>\n",
       "      <td>0.4075</td>\n",
       "      <td>0.3767</td>\n",
       "      <td>0.4398</td>\n",
       "      <td>0.2434</td>\n",
       "      <td>293.9</td>\n",
       "      <td>0.1337</td>\n",
       "      <td>0.450762</td>\n",
       "      <td>0.320956</td>\n",
       "      <td>1526</td>\n",
       "      <td>...</td>\n",
       "      <td>0.038121</td>\n",
       "      <td>0.110543</td>\n",
       "      <td>0.287471</td>\n",
       "      <td>0.63519</td>\n",
       "      <td>0.077281</td>\n",
       "      <td>179272.4371</td>\n",
       "      <td>6912279.28174</td>\n",
       "      <td>0.406275</td>\n",
       "      <td>0.071895</td>\n",
       "      <td>1ab_p</td>\n",
       "    </tr>\n",
       "  </tbody>\n",
       "</table>\n",
       "<p>5 rows × 21 columns</p>\n",
       "</div>"
      ],
      "text/plain": [
       "   B1_median_comp  B2_median_comp  B3_median_comp  B4_median_comp  \\\n",
       "0             2.0             2.0             2.0          0.6845   \n",
       "1             2.0             2.0             2.0          0.7734   \n",
       "2             2.0             2.0             2.0          0.8127   \n",
       "3             2.0             2.0             2.0          0.5182   \n",
       "4          0.4278          0.4075          0.3767          0.4398   \n",
       "\n",
       "   B5_median_comp  B6_median_comp  B7_median_comp  EVI_greenest_pixel  \\\n",
       "0          0.2879           291.3          0.1465             0.43884   \n",
       "1         0.25155          290.45         0.13335            0.426163   \n",
       "2          0.2332           291.3          0.1264            0.358472   \n",
       "3          0.3239           292.9          0.2098            0.266672   \n",
       "4          0.2434           293.9          0.1337            0.450762   \n",
       "\n",
       "   EVI_median_comp  FLATE_NR  ...  GNDVI_median_comp  NDMI_greenest_pixel  \\\n",
       "0              2.5      2028  ...          -0.490035              0.07282   \n",
       "1              2.5      2028  ...          -0.442273                0.089   \n",
       "2              2.5      2028  ...          -0.422121              0.06869   \n",
       "3              2.5      2227  ...          -0.588436            -0.053536   \n",
       "4         0.320956      1526  ...           0.038121             0.110543   \n",
       "\n",
       "   NDMI_median_comp  NDVI_greenest_pixel  NDVI_median_comp        POINT_X  \\\n",
       "0          0.407857             0.620891         -0.490035  270096.623609   \n",
       "1          0.509147             0.637354         -0.442273  270602.657518   \n",
       "2          0.554068             0.503371         -0.422121  269874.742198   \n",
       "3          0.230733             0.484592         -0.588436  306729.777239   \n",
       "4          0.287471              0.63519          0.077281    179272.4371   \n",
       "\n",
       "         POINT_Y  SAVI_greenest_pixel  SAVI_median_comp  layer  \n",
       "0  6948291.74892             0.400479         -0.619642  1ab_p  \n",
       "1    6948119.426             0.404877         -0.562076  1ab_p  \n",
       "2  6947897.06576             0.314019         -0.537613  1ab_p  \n",
       "3  6930089.83465              0.24842         -0.736432  1ab_p  \n",
       "4  6912279.28174             0.406275          0.071895  1ab_p  \n",
       "\n",
       "[5 rows x 21 columns]"
      ]
     },
     "execution_count": 48,
     "metadata": {},
     "output_type": "execute_result"
    }
   ],
   "source": [
    "### Print results\n",
    "print(feature_mat.shape)\n",
    "feature_mat.head()"
   ]
  },
  {
   "cell_type": "code",
   "execution_count": 49,
   "id": "b5e67cd7-0a72-4311-bd39-8779a310e564",
   "metadata": {},
   "outputs": [
    {
     "data": {
      "text/plain": [
       "Index(['B1_median_comp', 'B2_median_comp', 'B3_median_comp', 'B4_median_comp',\n",
       "       'B5_median_comp', 'B6_median_comp', 'B7_median_comp',\n",
       "       'EVI_greenest_pixel', 'EVI_median_comp', 'FLATE_NR',\n",
       "       'GNDVI_greenest_pixel', 'GNDVI_median_comp', 'NDMI_greenest_pixel',\n",
       "       'NDMI_median_comp', 'NDVI_greenest_pixel', 'NDVI_median_comp',\n",
       "       'POINT_X', 'POINT_Y', 'SAVI_greenest_pixel', 'SAVI_median_comp',\n",
       "       'layer'],\n",
       "      dtype='object')"
      ]
     },
     "execution_count": 49,
     "metadata": {},
     "output_type": "execute_result"
    }
   ],
   "source": [
    "feature_mat.columns"
   ]
  },
  {
   "cell_type": "markdown",
   "id": "5a522c6c-91f0-4798-8eb9-4b56f069ec15",
   "metadata": {},
   "source": [
    "<h2 style=\"color:salmon;font-weight:bold\">The end.</h2>\n",
    "\n",
    "---\n",
    "---\n",
    "---\n",
    "---\n",
    "---"
   ]
  }
 ],
 "metadata": {
  "kernelspec": {
   "display_name": "Python 3 (ipykernel)",
   "language": "python",
   "name": "python3"
  },
  "language_info": {
   "codemirror_mode": {
    "name": "ipython",
    "version": 3
   },
   "file_extension": ".py",
   "mimetype": "text/x-python",
   "name": "python",
   "nbconvert_exporter": "python",
   "pygments_lexer": "ipython3",
   "version": "3.10.8"
  }
 },
 "nbformat": 4,
 "nbformat_minor": 5
}
