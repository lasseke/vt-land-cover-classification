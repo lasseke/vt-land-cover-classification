{
 "cells": [
  {
   "cell_type": "markdown",
   "id": "019fb51e-614b-4ff8-9223-36f212288075",
   "metadata": {},
   "source": [
    "# Edit and clean Vegetation Type data\n",
    "Optional. Created after analysis was finished, mainly to create a map in QGIS."
   ]
  },
  {
   "cell_type": "code",
   "execution_count": 1,
   "id": "5bb83083-83b4-48f5-a1cc-f4062a066492",
   "metadata": {},
   "outputs": [],
   "source": [
    "import geopandas as gpd\n",
    "import json"
   ]
  },
  {
   "cell_type": "code",
   "execution_count": 2,
   "id": "708f5deb-85b7-4a7f-a27f-ef4f076547de",
   "metadata": {},
   "outputs": [],
   "source": [
    "### File path to raw Vegetation Type data (AR18x18)\n",
    "file_path = \\\n",
    "\"C:/Users/lassetk/OneDrive - Universitetet i Oslo/DataSets/VegetationData/AR18x18/Edited/\""
   ]
  },
  {
   "cell_type": "code",
   "execution_count": 3,
   "id": "0827c243-88f5-4f8e-9e33-92525e12a56d",
   "metadata": {},
   "outputs": [],
   "source": [
    "# Load shapefiles for presence points...\n",
    "vt_pres_shp = gpd.read_file(\n",
    "    file_path+\"VT_presences.shp\"\n",
    ")"
   ]
  },
  {
   "cell_type": "code",
   "execution_count": 4,
   "id": "d19332f8-070c-4754-8f51-f537ca2a307c",
   "metadata": {},
   "outputs": [],
   "source": [
    "# Load AR18x18 polygons\n",
    "vt_poly_shp = gpd.read_file(\n",
    "    file_path+\"AR18x18_fixedgeom.shp\"\n",
    ")"
   ]
  },
  {
   "cell_type": "code",
   "execution_count": 5,
   "id": "78863c3e-fc4a-498f-9d1a-79fd42d3d2b5",
   "metadata": {
    "tags": []
   },
   "outputs": [],
   "source": [
    "# Load VT dict\n",
    "with open('../data/dict/vt_classes.json', encoding=\"utf-8\") as vt_json:\n",
    "    vt_dict = json.load(vt_json)"
   ]
  },
  {
   "cell_type": "markdown",
   "id": "6a13982c-a70b-48a2-9443-e0c2eb0ae0bd",
   "metadata": {},
   "source": [
    "---\n",
    "## 1 Add ecosystem type column to AR18x18 polygons\n",
    "Used to create AR18x18 map with QGIS for the publication."
   ]
  },
  {
   "cell_type": "code",
   "execution_count": 6,
   "id": "de842da5-6301-401f-9ae0-8b437bf159c7",
   "metadata": {},
   "outputs": [],
   "source": [
    "# Create a list for a new column with VT polygon ecosystem groups\n",
    "ecosys_list = [None] * vt_poly_shp.shape[0]\n",
    "vt_names = vt_dict.keys()\n",
    "\n",
    "# Loop through polygons, determine ecosystem type from dictionary\n",
    "for row_idx, series in vt_poly_shp.iterrows():\n",
    "    cur_vt = series[\"VEG1\"]\n",
    "    ecosys_list[row_idx] = \"Excluded\" if ((cur_vt not in vt_names) or (vt_dict[cur_vt]['excluded'])) \\\n",
    "    else vt_dict[cur_vt]['ecosys_group']"
   ]
  },
  {
   "cell_type": "code",
   "execution_count": 7,
   "id": "ebf86df9-679a-4991-9815-a60bb0f63192",
   "metadata": {},
   "outputs": [
    {
     "data": {
      "text/plain": [
       "0                    Forest\n",
       "1                    Forest\n",
       "2                    Forest\n",
       "3                  Excluded\n",
       "4                     Other\n",
       "                ...        \n",
       "42518    Heath and mountain\n",
       "42519                 Other\n",
       "42520                 Other\n",
       "42521    Heath and mountain\n",
       "42522                 Other\n",
       "Name: Ecosystem_type, Length: 42523, dtype: object"
      ]
     },
     "execution_count": 7,
     "metadata": {},
     "output_type": "execute_result"
    }
   ],
   "source": [
    "vt_poly_shp['Ecosystem_type'] = ecosys_list\n",
    "vt_poly_shp['Ecosystem_type']"
   ]
  },
  {
   "cell_type": "code",
   "execution_count": null,
   "id": "8b76e693-9e0c-4bd1-8342-8a22c0a28bb8",
   "metadata": {},
   "outputs": [],
   "source": [
    "vt_poly_shp.to_file(\n",
    "    '../data/processed/ar18x18_ecosys_column.geojson',\n",
    "    driver=\"GeoJSON\"\n",
    ")"
   ]
  },
  {
   "cell_type": "markdown",
   "id": "a2df2ff0-72ea-4b12-80dd-345602522507",
   "metadata": {},
   "source": [
    "---\n",
    "# 2 Clean presence point data"
   ]
  },
  {
   "cell_type": "code",
   "execution_count": 9,
   "id": "e3469881-29cd-48a8-9e87-1d4e0ac4d3e5",
   "metadata": {
    "tags": []
   },
   "outputs": [
    {
     "data": {
      "text/html": [
       "<div>\n",
       "<style scoped>\n",
       "    .dataframe tbody tr th:only-of-type {\n",
       "        vertical-align: middle;\n",
       "    }\n",
       "\n",
       "    .dataframe tbody tr th {\n",
       "        vertical-align: top;\n",
       "    }\n",
       "\n",
       "    .dataframe thead th {\n",
       "        text-align: right;\n",
       "    }\n",
       "</style>\n",
       "<table border=\"1\" class=\"dataframe\">\n",
       "  <thead>\n",
       "    <tr style=\"text-align: right;\">\n",
       "      <th></th>\n",
       "      <th>TARGET_FID</th>\n",
       "      <th>CID</th>\n",
       "      <th>POLY_</th>\n",
       "      <th>POLY_ID</th>\n",
       "      <th>AREA</th>\n",
       "      <th>PERIMETER</th>\n",
       "      <th>FTEMA</th>\n",
       "      <th>KARTSIGN</th>\n",
       "      <th>TILLEGG1</th>\n",
       "      <th>TILLEGG2</th>\n",
       "      <th>...</th>\n",
       "      <th>SONE</th>\n",
       "      <th>SIGN</th>\n",
       "      <th>FYLKEID</th>\n",
       "      <th>VEG1</th>\n",
       "      <th>VEG2</th>\n",
       "      <th>POINT_X</th>\n",
       "      <th>POINT_Y</th>\n",
       "      <th>layer</th>\n",
       "      <th>path</th>\n",
       "      <th>geometry</th>\n",
       "    </tr>\n",
       "  </thead>\n",
       "  <tbody>\n",
       "    <tr>\n",
       "      <th>0</th>\n",
       "      <td>19</td>\n",
       "      <td>20</td>\n",
       "      <td>23</td>\n",
       "      <td>6834</td>\n",
       "      <td>23548.03271</td>\n",
       "      <td>866.42952</td>\n",
       "      <td>4351</td>\n",
       "      <td>10b+&gt;</td>\n",
       "      <td>+&gt;</td>\n",
       "      <td>None</td>\n",
       "      <td>...</td>\n",
       "      <td>1</td>\n",
       "      <td>10b+&gt;</td>\n",
       "      <td>1</td>\n",
       "      <td>10b</td>\n",
       "      <td>None</td>\n",
       "      <td>269984.146644</td>\n",
       "      <td>6.552055e+06</td>\n",
       "      <td>10ab_p</td>\n",
       "      <td>D:/Data/Paper_1/ModelTraining/Data/AR18x18/Pre...</td>\n",
       "      <td>POINT (269984.147 6552054.941)</td>\n",
       "    </tr>\n",
       "    <tr>\n",
       "      <th>1</th>\n",
       "      <td>5877</td>\n",
       "      <td>5878</td>\n",
       "      <td>8210</td>\n",
       "      <td>34147</td>\n",
       "      <td>11870.23242</td>\n",
       "      <td>455.19407</td>\n",
       "      <td>4351</td>\n",
       "      <td>10b&gt;</td>\n",
       "      <td>&gt;</td>\n",
       "      <td>None</td>\n",
       "      <td>...</td>\n",
       "      <td>1</td>\n",
       "      <td>10b&gt;</td>\n",
       "      <td>6</td>\n",
       "      <td>10b</td>\n",
       "      <td>None</td>\n",
       "      <td>198194.626400</td>\n",
       "      <td>6.713976e+06</td>\n",
       "      <td>10ab_p</td>\n",
       "      <td>D:/Data/Paper_1/ModelTraining/Data/AR18x18/Pre...</td>\n",
       "      <td>POINT (198194.626 6713975.815)</td>\n",
       "    </tr>\n",
       "    <tr>\n",
       "      <th>2</th>\n",
       "      <td>7454</td>\n",
       "      <td>7455</td>\n",
       "      <td>10068</td>\n",
       "      <td>41433</td>\n",
       "      <td>22793.92828</td>\n",
       "      <td>660.48053</td>\n",
       "      <td>4351</td>\n",
       "      <td>10b&gt;</td>\n",
       "      <td>&gt;</td>\n",
       "      <td>None</td>\n",
       "      <td>...</td>\n",
       "      <td>1</td>\n",
       "      <td>10b&gt;</td>\n",
       "      <td>8</td>\n",
       "      <td>10b</td>\n",
       "      <td>None</td>\n",
       "      <td>161519.319078</td>\n",
       "      <td>6.659814e+06</td>\n",
       "      <td>10ab_p</td>\n",
       "      <td>D:/Data/Paper_1/ModelTraining/Data/AR18x18/Pre...</td>\n",
       "      <td>POINT (161519.319 6659813.583)</td>\n",
       "    </tr>\n",
       "    <tr>\n",
       "      <th>3</th>\n",
       "      <td>7494</td>\n",
       "      <td>7495</td>\n",
       "      <td>10114</td>\n",
       "      <td>41479</td>\n",
       "      <td>34560.21155</td>\n",
       "      <td>1658.60579</td>\n",
       "      <td>4351</td>\n",
       "      <td>10b</td>\n",
       "      <td>None</td>\n",
       "      <td>None</td>\n",
       "      <td>...</td>\n",
       "      <td>1</td>\n",
       "      <td>10b</td>\n",
       "      <td>8</td>\n",
       "      <td>10b</td>\n",
       "      <td>None</td>\n",
       "      <td>180177.449793</td>\n",
       "      <td>6.533863e+06</td>\n",
       "      <td>10ab_p</td>\n",
       "      <td>D:/Data/Paper_1/ModelTraining/Data/AR18x18/Pre...</td>\n",
       "      <td>POINT (180177.450 6533862.856)</td>\n",
       "    </tr>\n",
       "    <tr>\n",
       "      <th>4</th>\n",
       "      <td>7881</td>\n",
       "      <td>7882</td>\n",
       "      <td>10606</td>\n",
       "      <td>49590</td>\n",
       "      <td>5216.48659</td>\n",
       "      <td>313.57880</td>\n",
       "      <td>4351</td>\n",
       "      <td>10b</td>\n",
       "      <td>None</td>\n",
       "      <td>None</td>\n",
       "      <td>...</td>\n",
       "      <td>1</td>\n",
       "      <td>10b</td>\n",
       "      <td>10</td>\n",
       "      <td>10b</td>\n",
       "      <td>None</td>\n",
       "      <td>18290.733027</td>\n",
       "      <td>6.533729e+06</td>\n",
       "      <td>10ab_p</td>\n",
       "      <td>D:/Data/Paper_1/ModelTraining/Data/AR18x18/Pre...</td>\n",
       "      <td>POINT (18290.733 6533728.901)</td>\n",
       "    </tr>\n",
       "  </tbody>\n",
       "</table>\n",
       "<p>5 rows × 23 columns</p>\n",
       "</div>"
      ],
      "text/plain": [
       "  TARGET_FID   CID  POLY_ POLY_ID         AREA   PERIMETER  FTEMA KARTSIGN  \\\n",
       "0         19    20     23    6834  23548.03271   866.42952   4351    10b+>   \n",
       "1       5877  5878   8210   34147  11870.23242   455.19407   4351     10b>   \n",
       "2       7454  7455  10068   41433  22793.92828   660.48053   4351     10b>   \n",
       "3       7494  7495  10114   41479  34560.21155  1658.60579   4351      10b   \n",
       "4       7881  7882  10606   49590   5216.48659   313.57880   4351      10b   \n",
       "\n",
       "  TILLEGG1 TILLEGG2  ... SONE   SIGN  FYLKEID  VEG1  VEG2        POINT_X  \\\n",
       "0       +>     None  ...    1  10b+>        1   10b  None  269984.146644   \n",
       "1        >     None  ...    1   10b>        6   10b  None  198194.626400   \n",
       "2        >     None  ...    1   10b>        8   10b  None  161519.319078   \n",
       "3     None     None  ...    1    10b        8   10b  None  180177.449793   \n",
       "4     None     None  ...    1    10b       10   10b  None   18290.733027   \n",
       "\n",
       "        POINT_Y   layer                                               path  \\\n",
       "0  6.552055e+06  10ab_p  D:/Data/Paper_1/ModelTraining/Data/AR18x18/Pre...   \n",
       "1  6.713976e+06  10ab_p  D:/Data/Paper_1/ModelTraining/Data/AR18x18/Pre...   \n",
       "2  6.659814e+06  10ab_p  D:/Data/Paper_1/ModelTraining/Data/AR18x18/Pre...   \n",
       "3  6.533863e+06  10ab_p  D:/Data/Paper_1/ModelTraining/Data/AR18x18/Pre...   \n",
       "4  6.533729e+06  10ab_p  D:/Data/Paper_1/ModelTraining/Data/AR18x18/Pre...   \n",
       "\n",
       "                         geometry  \n",
       "0  POINT (269984.147 6552054.941)  \n",
       "1  POINT (198194.626 6713975.815)  \n",
       "2  POINT (161519.319 6659813.583)  \n",
       "3  POINT (180177.450 6533862.856)  \n",
       "4   POINT (18290.733 6533728.901)  \n",
       "\n",
       "[5 rows x 23 columns]"
      ]
     },
     "execution_count": 9,
     "metadata": {},
     "output_type": "execute_result"
    }
   ],
   "source": [
    "vt_pres_shp.head()"
   ]
  },
  {
   "cell_type": "code",
   "execution_count": 15,
   "id": "5ea7cfdc-61c1-4cac-be01-01a6fd2c7664",
   "metadata": {},
   "outputs": [
    {
     "data": {
      "text/plain": [
       "{'_is_copy': None,\n",
       " '_mgr': BlockManager\n",
       " Items: Index(['TARGET_FID', 'CID', 'POLY_', 'POLY_ID', 'AREA', 'PERIMETER', 'FTEMA',\n",
       "        'KARTSIGN', 'TILLEGG1', 'TILLEGG2', 'S1', 'S2', 'FLATE_NR', 'SONE',\n",
       "        'SIGN', 'FYLKEID', 'VEG1', 'VEG2', 'POINT_X', 'POINT_Y', 'layer',\n",
       "        'path', 'geometry'],\n",
       "       dtype='object')\n",
       " Axis 1: RangeIndex(start=0, stop=25679, step=1)\n",
       " FloatBlock: [ 4  5 18 19], 4 x 25679, dtype: float64\n",
       " IntBlock: [ 6 12 13], 3 x 25679, dtype: int64\n",
       " ObjectBlock: [ 0  1  2  3  7  8  9 10 11 14 15 16 17 20 21], 15 x 25679, dtype: object\n",
       " ExtensionBlock: slice(22, 23, 1), 1 x 25679, dtype: geometry,\n",
       " '_item_cache': {'layer': 0        10ab\n",
       "  1        10ab\n",
       "  2        10ab\n",
       "  3        10ab\n",
       "  4        10ab\n",
       "           ... \n",
       "  25674      9e\n",
       "  25675      9e\n",
       "  25676      9e\n",
       "  25677      9e\n",
       "  25678      9e\n",
       "  Name: layer, Length: 25679, dtype: object},\n",
       " '_attrs': {},\n",
       " '_flags': <Flags(allows_duplicate_labels=True)>,\n",
       " '_crs': <Projected CRS: EPSG:32633>\n",
       " Name: WGS 84 / UTM zone 33N\n",
       " Axis Info [cartesian]:\n",
       " - E[east]: Easting (metre)\n",
       " - N[north]: Northing (metre)\n",
       " Area of Use:\n",
       " - name: Between 12°E and 18°E, northern hemisphere between equator and 84°N, onshore and offshore. Austria. Bosnia and Herzegovina. Cameroon. Central African Republic. Chad. Congo. Croatia. Czechia. Democratic Republic of the Congo (Zaire). Gabon. Germany. Hungary. Italy. Libya. Malta. Niger. Nigeria. Norway. Poland. San Marino. Slovakia. Slovenia. Svalbard. Sweden. Vatican City State.\n",
       " - bounds: (12.0, 0.0, 18.0, 84.0)\n",
       " Coordinate Operation:\n",
       " - name: UTM zone 33N\n",
       " - method: Transverse Mercator\n",
       " Datum: World Geodetic System 1984 ensemble\n",
       " - Ellipsoid: WGS 84\n",
       " - Prime Meridian: Greenwich,\n",
       " '_geometry_column_name': 'geometry'}"
      ]
     },
     "execution_count": 15,
     "metadata": {},
     "output_type": "execute_result"
    }
   ],
   "source": [
    "vars(vt_pres_shp)"
   ]
  },
  {
   "cell_type": "code",
   "execution_count": 10,
   "id": "17bdc768-1f85-4a08-8e22-c035b1499fa6",
   "metadata": {},
   "outputs": [],
   "source": [
    "# Remove \"_p\" suffix in VT class column\n",
    "vt_pres_shp['layer'] = [x.split(\"_\")[0] for x in vt_pres_shp['layer']]"
   ]
  },
  {
   "cell_type": "code",
   "execution_count": 11,
   "id": "66e1423c-5e4c-4f44-ae88-554c625bb49a",
   "metadata": {},
   "outputs": [
    {
     "data": {
      "text/plain": [
       "{'10ab',\n",
       " '10c',\n",
       " '11b',\n",
       " '12a',\n",
       " '12b',\n",
       " '12c',\n",
       " '1ab',\n",
       " '1c',\n",
       " '2a',\n",
       " '2b',\n",
       " '2c',\n",
       " '2d',\n",
       " '2e',\n",
       " '2ef',\n",
       " '2f',\n",
       " '2g',\n",
       " '3ab',\n",
       " '4a',\n",
       " '4b',\n",
       " '4c',\n",
       " '4e',\n",
       " '4g',\n",
       " '5ab',\n",
       " '6a',\n",
       " '6b',\n",
       " '7a',\n",
       " '7b',\n",
       " '7c',\n",
       " '8a',\n",
       " '8b',\n",
       " '8cd',\n",
       " '9ad',\n",
       " '9bc',\n",
       " '9e'}"
      ]
     },
     "execution_count": 11,
     "metadata": {},
     "output_type": "execute_result"
    }
   ],
   "source": [
    "# Remove duplicate entries ('2e', '2f' present as well as '2ef')\n",
    "set(vt_pres_shp['layer'])"
   ]
  },
  {
   "cell_type": "code",
   "execution_count": 12,
   "id": "35619c46-6d76-40f3-bd2b-25210177ca78",
   "metadata": {},
   "outputs": [],
   "source": [
    "duplicate_labels = ('2e', '2f')\n",
    "\n",
    "duplicate_mask = [x in duplicate_labels for x in vt_pres_shp['layer']]\n",
    "\n",
    "vt_pres_shp_clean = vt_pres_shp.drop(\n",
    "    vt_pres_shp[duplicate_mask].index\n",
    ")"
   ]
  },
  {
   "cell_type": "code",
   "execution_count": 13,
   "id": "961f31ac-c3b4-4660-b726-6b257f422eb7",
   "metadata": {
    "tags": []
   },
   "outputs": [
    {
     "data": {
      "text/plain": [
       "{'10ab',\n",
       " '10c',\n",
       " '11b',\n",
       " '12a',\n",
       " '12b',\n",
       " '12c',\n",
       " '1ab',\n",
       " '1c',\n",
       " '2a',\n",
       " '2b',\n",
       " '2c',\n",
       " '2d',\n",
       " '2ef',\n",
       " '2g',\n",
       " '3ab',\n",
       " '4a',\n",
       " '4b',\n",
       " '4c',\n",
       " '4e',\n",
       " '4g',\n",
       " '5ab',\n",
       " '6a',\n",
       " '6b',\n",
       " '7a',\n",
       " '7b',\n",
       " '7c',\n",
       " '8a',\n",
       " '8b',\n",
       " '8cd',\n",
       " '9ad',\n",
       " '9bc',\n",
       " '9e'}"
      ]
     },
     "execution_count": 13,
     "metadata": {},
     "output_type": "execute_result"
    }
   ],
   "source": [
    "set(vt_pres_shp_clean['layer'])"
   ]
  },
  {
   "cell_type": "code",
   "execution_count": 25,
   "id": "24d43167-08d9-4b06-854b-e65ca8dfc429",
   "metadata": {},
   "outputs": [],
   "source": [
    "# Save as GeoJSON\n",
    "vt_pres_shp_clean.to_file(\n",
    "    '../data/processed/ar18x18_horvath_pres_points.geojson',\n",
    "    driver='GeoJSON'\n",
    ")"
   ]
  },
  {
   "cell_type": "code",
   "execution_count": 16,
   "id": "5d7bf19d-f2dc-4719-bd8a-02bba7ffda73",
   "metadata": {},
   "outputs": [],
   "source": [
    "# Save as Shapefile\n",
    "vt_pres_shp_clean.to_file(\n",
    "    '../data/processed/ar18x18_horvath_pres_points_clean',\n",
    "    driver='ESRI Shapefile'\n",
    ")"
   ]
  }
 ],
 "metadata": {
  "kernelspec": {
   "display_name": "Python 3 (ipykernel)",
   "language": "python",
   "name": "python3"
  },
  "language_info": {
   "codemirror_mode": {
    "name": "ipython",
    "version": 3
   },
   "file_extension": ".py",
   "mimetype": "text/x-python",
   "name": "python",
   "nbconvert_exporter": "python",
   "pygments_lexer": "ipython3",
   "version": "3.10.8"
  }
 },
 "nbformat": 4,
 "nbformat_minor": 5
}
