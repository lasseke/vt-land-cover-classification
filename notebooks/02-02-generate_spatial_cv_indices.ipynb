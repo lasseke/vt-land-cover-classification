{
 "cells": [
  {
   "cell_type": "markdown",
   "id": "8a6b722f-cc40-4124-b557-e808c233744f",
   "metadata": {},
   "source": [
    "# Generate train/evaluation indices for cross-validation using the different sampling methods"
   ]
  },
  {
   "cell_type": "code",
   "execution_count": 1,
   "id": "bc402007-a727-4f48-b73d-63fa847e74d4",
   "metadata": {},
   "outputs": [],
   "source": [
    "import pandas as pd\n",
    "from sklearn.model_selection import GroupKFold"
   ]
  },
  {
   "cell_type": "code",
   "execution_count": 2,
   "id": "c814adc4-6a7d-41a9-9a7c-a3b033fd7ba4",
   "metadata": {},
   "outputs": [],
   "source": [
    "# Import VT DataFrame\n",
    "data_df = pd.read_pickle(\"../data/interim/vtdata.pkl\")\n",
    "vt_X = data_df.drop(columns=\"vt\")\n",
    "vt_y = data_df[\"vt\"]"
   ]
  },
  {
   "cell_type": "markdown",
   "id": "27e6a16c-f048-4ef3-9773-e7a987920c92",
   "metadata": {},
   "source": [
    "## Generate spatial indices"
   ]
  },
  {
   "cell_type": "code",
   "execution_count": 8,
   "id": "7ce18eae-dee3-47dc-a134-a7e81f0776af",
   "metadata": {},
   "outputs": [],
   "source": [
    "n_splits = 5\n",
    "group_by_var_name = \"plot_id\"\n",
    "# Note: the GroupKFold implementation is deterministic, no random seed is provided\n",
    "\n",
    "group_kfold_object = GroupKFold(n_splits=n_splits)\n",
    "\n",
    "split_indices = group_kfold_object.split(\n",
    "    X=vt_X,\n",
    "    y=vt_y,\n",
    "    groups=vt_X[group_by_var_name]\n",
    ")"
   ]
  },
  {
   "cell_type": "code",
   "execution_count": 9,
   "id": "2b4c2510-c956-4b6a-9fa3-6a4a65e26771",
   "metadata": {},
   "outputs": [],
   "source": [
    "split_idx_list = list(split_indices)"
   ]
  },
  {
   "cell_type": "markdown",
   "id": "471c0ac1-2d7d-4a61-b542-fe21f4e1e0d0",
   "metadata": {},
   "source": [
    "## Save to file"
   ]
  },
  {
   "cell_type": "code",
   "execution_count": 13,
   "id": "cddb0cae-07fe-45b7-96ca-9a705c6ade88",
   "metadata": {},
   "outputs": [],
   "source": [
    "import pickle\n",
    "\n",
    "try:\n",
    "    with open(\"../data/misc/vtdata_5f_spatial_cv_indices.pkl\", 'wb') as pkl_file:\n",
    "        pickle.dump(\n",
    "            split_idx_list,\n",
    "            pkl_file,\n",
    "            protocol=pickle.HIGHEST_PROTOCOL\n",
    "        )\n",
    "except Exception as e:\n",
    "    print(e)"
   ]
  },
  {
   "cell_type": "code",
   "execution_count": 5,
   "id": "0a1ad6d4-4b33-439f-8806-01cbfc485e2e",
   "metadata": {},
   "outputs": [],
   "source": [
    "# To load: \n",
    "#with open('../data/misc/vtdata_10f_spatial_cv_indices.pkl', 'rb') as file:\n",
    "#    split_indices = pickle.load(file)"
   ]
  }
 ],
 "metadata": {
  "kernelspec": {
   "display_name": "Python 3 (ipykernel)",
   "language": "python",
   "name": "python3"
  },
  "language_info": {
   "codemirror_mode": {
    "name": "ipython",
    "version": 3
   },
   "file_extension": ".py",
   "mimetype": "text/x-python",
   "name": "python",
   "nbconvert_exporter": "python",
   "pygments_lexer": "ipython3",
   "version": "3.11.6"
  }
 },
 "nbformat": 4,
 "nbformat_minor": 5
}
