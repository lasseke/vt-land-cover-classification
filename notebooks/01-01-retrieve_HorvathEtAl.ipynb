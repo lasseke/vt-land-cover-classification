{
 "cells": [
  {
   "cell_type": "markdown",
   "id": "fresh-density",
   "metadata": {},
   "source": [
    "# Retrieve features from regional environmental rasters, previously generated to study the Vegetation Type Distribution in Norway.\n",
    "#### For details, see <a href=\"https://doi.org/10.1111/avsc.12451\">Horvath et al. (2019)</a> and supplementary materials therein.\n",
    "<br/>\n",
    "<span style=\"color:red\">Disclaimer: the following steps require a verified account and sufficient storage space for the \"Google Earth Engine\" cloud computing software. The scripts are included for full transparency and are not required to run the models. Required output data are stored in the '../data' folder.</span>\n",
    "\n",
    "-----------"
   ]
  },
  {
   "cell_type": "code",
   "execution_count": null,
   "id": "fewer-roads",
   "metadata": {},
   "outputs": [],
   "source": [
    "# Uncomment to authenticate GEE, only needs to be done once. \n",
    "# WARNING: Might not work directly in the notebook, use \n",
    "# \"earthengine authenticate\" in the terminal (e,g. anaconda prompt) in that case!\n",
    "# import ee\n",
    "#!earthengine authenticate"
   ]
  },
  {
   "cell_type": "code",
   "execution_count": null,
   "id": "radio-quarterly",
   "metadata": {},
   "outputs": [],
   "source": [
    "### Import libraries\n",
    "import ee\n",
    "import pandas as pd\n",
    "\n",
    "# Initialize Google Earth Engine\n",
    "ee.Initialize()"
   ]
  },
  {
   "cell_type": "markdown",
   "id": "institutional-heather",
   "metadata": {},
   "source": [
    "#### 0. Access personal Google Earth Engine assets\n",
    "<span style=\"color:red;\">Obs! The Vegetation Type and baseline environmental predictor datasets have usage restrictions and cannot be accessed publicly. This code retrieves them from a private GEE asset.</span>"
   ]
  },
  {
   "cell_type": "code",
   "execution_count": null,
   "id": "restricted-hours",
   "metadata": {},
   "outputs": [],
   "source": [
    "### Store user credentials from Command line tool in variable\n",
    "project_credentials = !earthengine ls"
   ]
  },
  {
   "cell_type": "code",
   "execution_count": null,
   "id": "aware-update",
   "metadata": {},
   "outputs": [],
   "source": [
    "### Extract user name\n",
    "user_name = project_credentials.s.split(\"/\")[-1]"
   ]
  },
  {
   "cell_type": "code",
   "execution_count": null,
   "id": "interstate-blame",
   "metadata": {
    "tags": []
   },
   "outputs": [],
   "source": [
    "### Print asset info for VT data\n",
    "!earthengine asset info users/{user_name}/vtprespoints"
   ]
  },
  {
   "cell_type": "code",
   "execution_count": null,
   "id": "authorized-vertical",
   "metadata": {
    "tags": []
   },
   "outputs": [],
   "source": [
    "!earthengine asset info users/{user_name}/horetal_categorical"
   ]
  },
  {
   "cell_type": "code",
   "execution_count": null,
   "id": "registered-development",
   "metadata": {
    "tags": []
   },
   "outputs": [],
   "source": [
    "!earthengine asset info users/{user_name}/horetal_continuous"
   ]
  },
  {
   "cell_type": "markdown",
   "id": "embedded-pavilion",
   "metadata": {},
   "source": [
    "----------\n",
    "### 1. Extract values at VT presence points\n",
    "#### 1.1 Categorical"
   ]
  },
  {
   "cell_type": "code",
   "execution_count": null,
   "id": "congressional-passenger",
   "metadata": {},
   "outputs": [],
   "source": [
    "import pandas as pd\n",
    "from src.data import eehelpers as eeh"
   ]
  },
  {
   "cell_type": "code",
   "execution_count": null,
   "id": "alleged-sector",
   "metadata": {},
   "outputs": [],
   "source": [
    "### Load categorical data as EE image\n",
    "hor_cat_img = ee.Image(f'users/{user_name}/horetal_categorical')"
   ]
  },
  {
   "cell_type": "code",
   "execution_count": null,
   "id": "lucky-onion",
   "metadata": {},
   "outputs": [],
   "source": [
    "### Initialize VT FeatureCollection\n",
    "vt_presence_fc = eeh.VTFeatureCollection(\n",
    "    user_name=user_name,\n",
    "    vt_asset_name='vtprespoints',  # Name of the asset containing the VT presence points\n",
    "    extract_columns=[\n",
    "        'POINT_X',\n",
    "        'POINT_Y',\n",
    "        'FLATE_NR',\n",
    "        'layer'\n",
    "    ]  # Columns to extract from raw data\n",
    ")"
   ]
  },
  {
   "cell_type": "markdown",
   "id": "social-thirty",
   "metadata": {},
   "source": [
    "#### Use the EE servers to extract the values from the categorical predictor raster image at the VT presence point locations\n",
    "<b style=\"color:red\">Attention!</b> A too low value for \"scale\" (spatial scale in m or px) may exceed the user memory limit set by EE. Choose a different value for `tile_scale` or `scale`, or find the prepared datasets in the project folder.\n",
    "\n",
    "From GEE documentation: <br/>\n",
    "tileScale (Float, default: 1):\n",
    "A scaling factor used to reduce aggregation tile size; using a larger tileScale (e.g. 2 or 4) may enable computations that run out of memory with the default."
   ]
  },
  {
   "cell_type": "code",
   "execution_count": null,
   "id": "cathedral-dimension",
   "metadata": {
    "tags": []
   },
   "outputs": [],
   "source": [
    "### Extract image data\n",
    "sampled_horcat_list = vt_presence_fc.extract_from_eeimg(\n",
    "    img=hor_cat_img,\n",
    "    scale=100,\n",
    "    tile_scale=1\n",
    ")"
   ]
  },
  {
   "cell_type": "code",
   "execution_count": null,
   "id": "pointed-sister",
   "metadata": {},
   "outputs": [],
   "source": [
    "### Test if it worked\n",
    "print(sampled_horcat_list[0])"
   ]
  },
  {
   "cell_type": "markdown",
   "id": "weird-archives",
   "metadata": {},
   "source": [
    "#### Write to dataframe and csv"
   ]
  },
  {
   "cell_type": "code",
   "execution_count": null,
   "id": "excessive-beijing",
   "metadata": {},
   "outputs": [],
   "source": [
    "feature_mat_cat = eeh.df_from_sampled_list(\n",
    "    sampled_list=sampled_horcat_list,\n",
    "    saveas=\"baseline_predictors_cat.csv\"\n",
    ")"
   ]
  },
  {
   "cell_type": "code",
   "execution_count": null,
   "id": "lasting-encounter",
   "metadata": {},
   "outputs": [],
   "source": [
    "### Print head\n",
    "print(feature_mat_cat.shape)\n",
    "feature_mat_cat.head()"
   ]
  },
  {
   "cell_type": "markdown",
   "id": "essential-electric",
   "metadata": {},
   "source": [
    "---\n",
    "#### 1.1 Continuous"
   ]
  },
  {
   "cell_type": "code",
   "execution_count": null,
   "id": "wound-planner",
   "metadata": {},
   "outputs": [],
   "source": [
    "### Load categorical data as EE image\n",
    "hor_cont_img = ee.Image(\n",
    "    f'users/{user_name}/horetal_continuous'\n",
    ")"
   ]
  },
  {
   "cell_type": "code",
   "execution_count": null,
   "id": "fatal-fighter",
   "metadata": {},
   "outputs": [],
   "source": [
    "### Initialize VT FeatureCollection\n",
    "vt_presence_fc = eeh.vt_ee_featcoll(\n",
    "    user_name=user_name,\n",
    "    vt_asset_name='vtprespoints',\n",
    "    extract_columns=[\n",
    "        'POINT_X',\n",
    "        'POINT_Y',\n",
    "        'FLATE_NR',\n",
    "        'layer'\n",
    "    ]\n",
    ")"
   ]
  },
  {
   "cell_type": "code",
   "execution_count": null,
   "id": "strong-philippines",
   "metadata": {},
   "outputs": [],
   "source": [
    "### Extract image data\n",
    "sampled_horcont_list = vt_presence_fc.extract_from_eeimg(\n",
    "    img=hor_cont_img, \n",
    "    scale=100, \n",
    "    tileScale=1\n",
    ")"
   ]
  },
  {
   "cell_type": "code",
   "execution_count": null,
   "id": "curious-desperate",
   "metadata": {},
   "outputs": [],
   "source": [
    "### Test if it worked\n",
    "print(sampled_horcont_list[0])"
   ]
  },
  {
   "cell_type": "markdown",
   "id": "distant-calvin",
   "metadata": {},
   "source": [
    "#### Write to dataframe and csv"
   ]
  },
  {
   "cell_type": "code",
   "execution_count": null,
   "id": "spread-certification",
   "metadata": {},
   "outputs": [],
   "source": [
    "feature_mat_cont = eeh.df_from_sampled_list(\n",
    "    sampled_list=sampled_horcont_list,\n",
    "    save_as=\"baseline_predictors_num.csv\"\n",
    ")"
   ]
  },
  {
   "cell_type": "code",
   "execution_count": null,
   "id": "divided-administration",
   "metadata": {},
   "outputs": [],
   "source": [
    "### Print head\n",
    "print(feature_mat_cont.shape)\n",
    "feature_mat_cont.head()"
   ]
  },
  {
   "cell_type": "markdown",
   "id": "first-specific",
   "metadata": {},
   "source": [
    "<h2 style=\"color:salmon;font-weight:bold\">The end.</h2>\n",
    "\n",
    "---\n",
    "---\n",
    "---"
   ]
  }
 ],
 "metadata": {
  "kernelspec": {
   "display_name": "Python 3 (ipykernel)",
   "language": "python",
   "name": "python3"
  },
  "language_info": {
   "codemirror_mode": {
    "name": "ipython",
    "version": 3
   },
   "file_extension": ".py",
   "mimetype": "text/x-python",
   "name": "python",
   "nbconvert_exporter": "python",
   "pygments_lexer": "ipython3",
   "version": "3.10.8"
  }
 },
 "nbformat": 4,
 "nbformat_minor": 5
}
