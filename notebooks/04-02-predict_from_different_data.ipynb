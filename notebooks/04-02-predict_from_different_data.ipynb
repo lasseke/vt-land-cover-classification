{
 "cells": [
  {
   "cell_type": "code",
   "execution_count": 1,
   "metadata": {},
   "outputs": [],
   "source": [
    "# Import libraries\n",
    "import pandas as pd\n",
    "import numpy as np\n",
    "import dill as pickle\n",
    "\n",
    "from sklearn.ensemble import RandomForestClassifier\n",
    "\n",
    "from sklearn.metrics import cohen_kappa_score, make_scorer\n",
    "from sklearn.model_selection import cross_validate"
   ]
  },
  {
   "cell_type": "code",
   "execution_count": 2,
   "metadata": {},
   "outputs": [
    {
     "name": "stdout",
     "output_type": "stream",
     "text": [
      "B11_median_comp_Sent2\n",
      "B12_median_comp_Sent2\n",
      "B1_median_comp_Sent2\n",
      "B2_median_comp_Sent2\n",
      "B3_median_comp_Sent2\n",
      "B4_median_comp_Sent2\n",
      "B5_median_comp_Sent2\n",
      "B6_median_comp_Sent2\n",
      "B7_median_comp_Sent2\n",
      "B8A_median_comp_Sent2\n",
      "B8_median_comp_Sent2\n",
      "B9_median_comp_Sent2\n",
      "EVI_greenest_pixel_Sent2\n",
      "EVI_median_comp_Sent2\n",
      "GNDVI_greenest_pixel_Sent2\n",
      "GNDVI_median_comp_Sent2\n",
      "NDMI_greenest_pixel_Sent2\n",
      "NDMI_median_comp_Sent2\n",
      "NDVI_greenest_pixel_Sent2\n",
      "NDVI_median_comp_Sent2\n",
      "SAVI_greenest_pixel_Sent2\n",
      "SAVI_median_comp_Sent2\n",
      "B1_median_comp_Lands7\n",
      "B2_median_comp_Lands7\n",
      "B3_median_comp_Lands7\n",
      "B4_median_comp_Lands7\n",
      "B5_median_comp_Lands7\n",
      "B6_median_comp_Lands7\n",
      "B7_median_comp_Lands7\n",
      "EVI_greenest_pixel_Lands7\n",
      "EVI_median_comp_Lands7\n",
      "GNDVI_greenest_pixel_Lands7\n",
      "GNDVI_median_comp_Lands7\n",
      "NDMI_greenest_pixel_Lands7\n",
      "NDMI_median_comp_Lands7\n",
      "NDVI_greenest_pixel_Lands7\n",
      "NDVI_median_comp_Lands7\n",
      "SAVI_greenest_pixel_Lands7\n",
      "SAVI_median_comp_Lands7\n",
      "ar50_artype\n",
      "ar50_skogbon\n",
      "ar50_treslag\n",
      "ar50_veg\n",
      "corine_lc_2012\n",
      "geo_berggrunn\n",
      "geo_grunnvann\n",
      "geo_infiltr_evne\n",
      "geo_losmasse\n",
      "geology_norge\n",
      "aspect\n",
      "bioclim_1\n",
      "bioclim_10\n",
      "bioclim_11\n",
      "bioclim_12\n",
      "bioclim_15\n",
      "bioclim_17\n",
      "bioclim_18\n",
      "bioclim_3\n",
      "bioclim_5\n",
      "bioclim_6\n",
      "bioclim_7\n",
      "bioclim_8\n",
      "bioclim_9\n",
      "dem100\n",
      "growing_season_length\n",
      "precip_5\n",
      "precip_6\n",
      "proxy_allrivers\n",
      "proxy_allwater\n",
      "proxy_coast\n",
      "proxy_lakes\n",
      "sca_2\n",
      "sca_7\n",
      "sca_8\n",
      "sca_9\n",
      "slope\n",
      "swe_10\n",
      "swe_4\n",
      "swe_8\n",
      "terrain_ruggedness_index\n",
      "tmax_1\n",
      "tmax_10\n",
      "tmax_2\n",
      "tmax_5\n",
      "tmax_6\n",
      "tmax_8\n",
      "tmax_9\n",
      "tmin_5\n",
      "tmin_9\n",
      "topographic_wetness_index\n",
      "total_insolation\n",
      "valley_depth\n",
      "vertical_distance_to_channel_network\n",
      "visible_sky\n"
     ]
    },
    {
     "data": {
      "text/html": [
       "<div>\n",
       "<style scoped>\n",
       "    .dataframe tbody tr th:only-of-type {\n",
       "        vertical-align: middle;\n",
       "    }\n",
       "\n",
       "    .dataframe tbody tr th {\n",
       "        vertical-align: top;\n",
       "    }\n",
       "\n",
       "    .dataframe thead th {\n",
       "        text-align: right;\n",
       "    }\n",
       "</style>\n",
       "<table border=\"1\" class=\"dataframe\">\n",
       "  <thead>\n",
       "    <tr style=\"text-align: right;\">\n",
       "      <th></th>\n",
       "      <th>B11_median_comp_Sent2</th>\n",
       "      <th>B12_median_comp_Sent2</th>\n",
       "      <th>B1_median_comp_Sent2</th>\n",
       "      <th>B2_median_comp_Sent2</th>\n",
       "      <th>B3_median_comp_Sent2</th>\n",
       "      <th>B4_median_comp_Sent2</th>\n",
       "      <th>B5_median_comp_Sent2</th>\n",
       "      <th>B6_median_comp_Sent2</th>\n",
       "      <th>B7_median_comp_Sent2</th>\n",
       "      <th>B8A_median_comp_Sent2</th>\n",
       "      <th>...</th>\n",
       "      <th>tmax_6</th>\n",
       "      <th>tmax_8</th>\n",
       "      <th>tmax_9</th>\n",
       "      <th>tmin_5</th>\n",
       "      <th>tmin_9</th>\n",
       "      <th>topographic_wetness_index</th>\n",
       "      <th>total_insolation</th>\n",
       "      <th>valley_depth</th>\n",
       "      <th>vertical_distance_to_channel_network</th>\n",
       "      <th>visible_sky</th>\n",
       "    </tr>\n",
       "  </thead>\n",
       "  <tbody>\n",
       "    <tr>\n",
       "      <th>0</th>\n",
       "      <td>0.21700</td>\n",
       "      <td>0.12775</td>\n",
       "      <td>0.04157</td>\n",
       "      <td>0.04070</td>\n",
       "      <td>0.05858</td>\n",
       "      <td>0.05915</td>\n",
       "      <td>0.10155</td>\n",
       "      <td>0.17385</td>\n",
       "      <td>0.19245</td>\n",
       "      <td>0.21790</td>\n",
       "      <td>...</td>\n",
       "      <td>20.5811</td>\n",
       "      <td>18.1146</td>\n",
       "      <td>12.9765</td>\n",
       "      <td>-4.5616</td>\n",
       "      <td>-1.6503</td>\n",
       "      <td>8.1780</td>\n",
       "      <td>1168.90918</td>\n",
       "      <td>121.9962</td>\n",
       "      <td>163.3139</td>\n",
       "      <td>94.1729</td>\n",
       "    </tr>\n",
       "    <tr>\n",
       "      <th>1</th>\n",
       "      <td>0.07680</td>\n",
       "      <td>0.03780</td>\n",
       "      <td>0.01560</td>\n",
       "      <td>0.01945</td>\n",
       "      <td>0.02982</td>\n",
       "      <td>0.01820</td>\n",
       "      <td>0.04752</td>\n",
       "      <td>0.12807</td>\n",
       "      <td>0.15217</td>\n",
       "      <td>0.16735</td>\n",
       "      <td>...</td>\n",
       "      <td>22.5382</td>\n",
       "      <td>20.2714</td>\n",
       "      <td>17.2824</td>\n",
       "      <td>0.7850</td>\n",
       "      <td>0.4542</td>\n",
       "      <td>6.8749</td>\n",
       "      <td>1211.49475</td>\n",
       "      <td>64.2473</td>\n",
       "      <td>25.2764</td>\n",
       "      <td>97.7724</td>\n",
       "    </tr>\n",
       "    <tr>\n",
       "      <th>2</th>\n",
       "      <td>0.20360</td>\n",
       "      <td>0.09220</td>\n",
       "      <td>0.06630</td>\n",
       "      <td>0.03990</td>\n",
       "      <td>0.06280</td>\n",
       "      <td>0.04020</td>\n",
       "      <td>0.12070</td>\n",
       "      <td>0.31450</td>\n",
       "      <td>0.35760</td>\n",
       "      <td>0.38720</td>\n",
       "      <td>...</td>\n",
       "      <td>17.6708</td>\n",
       "      <td>20.3218</td>\n",
       "      <td>14.5407</td>\n",
       "      <td>-3.4983</td>\n",
       "      <td>-2.3515</td>\n",
       "      <td>17.6024</td>\n",
       "      <td>993.73572</td>\n",
       "      <td>748.6170</td>\n",
       "      <td>0.0000</td>\n",
       "      <td>84.9623</td>\n",
       "    </tr>\n",
       "    <tr>\n",
       "      <th>3</th>\n",
       "      <td>0.22508</td>\n",
       "      <td>0.13655</td>\n",
       "      <td>0.02765</td>\n",
       "      <td>0.04070</td>\n",
       "      <td>0.06180</td>\n",
       "      <td>0.06697</td>\n",
       "      <td>0.11375</td>\n",
       "      <td>0.22545</td>\n",
       "      <td>0.25670</td>\n",
       "      <td>0.29110</td>\n",
       "      <td>...</td>\n",
       "      <td>21.9165</td>\n",
       "      <td>20.5618</td>\n",
       "      <td>15.8932</td>\n",
       "      <td>2.0480</td>\n",
       "      <td>4.8671</td>\n",
       "      <td>7.2655</td>\n",
       "      <td>1118.61890</td>\n",
       "      <td>103.4937</td>\n",
       "      <td>46.4838</td>\n",
       "      <td>94.7372</td>\n",
       "    </tr>\n",
       "    <tr>\n",
       "      <th>4</th>\n",
       "      <td>0.24625</td>\n",
       "      <td>0.13610</td>\n",
       "      <td>0.03075</td>\n",
       "      <td>0.04715</td>\n",
       "      <td>0.07305</td>\n",
       "      <td>0.07145</td>\n",
       "      <td>0.14155</td>\n",
       "      <td>0.25710</td>\n",
       "      <td>0.28145</td>\n",
       "      <td>0.31650</td>\n",
       "      <td>...</td>\n",
       "      <td>14.7530</td>\n",
       "      <td>16.7801</td>\n",
       "      <td>13.4581</td>\n",
       "      <td>-7.0645</td>\n",
       "      <td>-1.2334</td>\n",
       "      <td>7.3559</td>\n",
       "      <td>1399.06226</td>\n",
       "      <td>229.2504</td>\n",
       "      <td>62.1383</td>\n",
       "      <td>94.1043</td>\n",
       "    </tr>\n",
       "  </tbody>\n",
       "</table>\n",
       "<p>5 rows × 94 columns</p>\n",
       "</div>"
      ],
      "text/plain": [
       "   B11_median_comp_Sent2  B12_median_comp_Sent2  B1_median_comp_Sent2  \\\n",
       "0                0.21700                0.12775               0.04157   \n",
       "1                0.07680                0.03780               0.01560   \n",
       "2                0.20360                0.09220               0.06630   \n",
       "3                0.22508                0.13655               0.02765   \n",
       "4                0.24625                0.13610               0.03075   \n",
       "\n",
       "   B2_median_comp_Sent2  B3_median_comp_Sent2  B4_median_comp_Sent2  \\\n",
       "0               0.04070               0.05858               0.05915   \n",
       "1               0.01945               0.02982               0.01820   \n",
       "2               0.03990               0.06280               0.04020   \n",
       "3               0.04070               0.06180               0.06697   \n",
       "4               0.04715               0.07305               0.07145   \n",
       "\n",
       "   B5_median_comp_Sent2  B6_median_comp_Sent2  B7_median_comp_Sent2  \\\n",
       "0               0.10155               0.17385               0.19245   \n",
       "1               0.04752               0.12807               0.15217   \n",
       "2               0.12070               0.31450               0.35760   \n",
       "3               0.11375               0.22545               0.25670   \n",
       "4               0.14155               0.25710               0.28145   \n",
       "\n",
       "   B8A_median_comp_Sent2  ...   tmax_6   tmax_8   tmax_9  tmin_5  tmin_9  \\\n",
       "0                0.21790  ...  20.5811  18.1146  12.9765 -4.5616 -1.6503   \n",
       "1                0.16735  ...  22.5382  20.2714  17.2824  0.7850  0.4542   \n",
       "2                0.38720  ...  17.6708  20.3218  14.5407 -3.4983 -2.3515   \n",
       "3                0.29110  ...  21.9165  20.5618  15.8932  2.0480  4.8671   \n",
       "4                0.31650  ...  14.7530  16.7801  13.4581 -7.0645 -1.2334   \n",
       "\n",
       "   topographic_wetness_index  total_insolation  valley_depth  \\\n",
       "0                     8.1780        1168.90918      121.9962   \n",
       "1                     6.8749        1211.49475       64.2473   \n",
       "2                    17.6024         993.73572      748.6170   \n",
       "3                     7.2655        1118.61890      103.4937   \n",
       "4                     7.3559        1399.06226      229.2504   \n",
       "\n",
       "   vertical_distance_to_channel_network  visible_sky  \n",
       "0                              163.3139      94.1729  \n",
       "1                               25.2764      97.7724  \n",
       "2                                0.0000      84.9623  \n",
       "3                               46.4838      94.7372  \n",
       "4                               62.1383      94.1043  \n",
       "\n",
       "[5 rows x 94 columns]"
      ]
     },
     "execution_count": 2,
     "metadata": {},
     "output_type": "execute_result"
    }
   ],
   "source": [
    "# Read VT data\n",
    "data_df = pd.read_pickle(\"../data/interim/vtdata.pkl\")\n",
    "data_df = data_df.sample(frac=1, random_state=7).reset_index(drop=True)\n",
    "\n",
    "vt_X = data_df.drop(columns=\"vt\")\n",
    "vt_y = data_df[\"vt\"]\n",
    "\n",
    "# ...and drop unwanted features to avoid spatial overfitting\n",
    "vt_X = vt_X.drop(['x', 'y', 'plot_id'], axis=1)\n",
    "_ = [print(x) for x in vt_X.columns]\n",
    "vt_X.head()"
   ]
  },
  {
   "cell_type": "code",
   "execution_count": 4,
   "metadata": {},
   "outputs": [],
   "source": [
    "# SUBSET SATELLITE DATA\n",
    "import re\n",
    "\n",
    "# Sentinel columns\n",
    "sentinel_bands = [\n",
    "    col for col in vt_X.columns if re.compile(\".*B\\d{1,2}.*Sent2.*\").search(col)\n",
    "]\n",
    "sentinel_indices_med = [\n",
    "    col for col in vt_X.columns if re.compile(\n",
    "        \".*^(?!B\\d{1,2}).*median_comp_Sent2.*\"\n",
    "    ).search(col)\n",
    "]\n",
    "sentinel_indices_mvc = [\n",
    "    col for col in vt_X.columns if re.compile(\n",
    "        \".*^(?!B\\d{1,2}).*greenest_pixel_Sent2.*\"\n",
    "    ).search(col)\n",
    "]\n",
    "sentinel_indices = sentinel_indices_med + sentinel_indices_mvc\n",
    "\n",
    "# Landsat columns\n",
    "landsat_bands = [\n",
    "    col for col in vt_X.columns if re.compile(\".*B\\d{1,2}.*Lands7.*\").search(col)\n",
    "]\n",
    "landsat_indices_med = [\n",
    "    col for col in vt_X.columns if re.compile(\n",
    "        \".*^(?!B\\d{1,2}).*median_comp_Lands7.*\"\n",
    "    ).search(col)\n",
    "]\n",
    "landsat_indices_mvc = [\n",
    "    col for col in vt_X.columns if re.compile(\n",
    "        \".*^(?!B\\d{1,2}).*greenest_pixel_Lands7.*\"\n",
    "    ).search(col)\n",
    "]\n",
    "landsat_indices = landsat_indices_med + landsat_indices_mvc"
   ]
  },
  {
   "cell_type": "code",
   "execution_count": 11,
   "metadata": {},
   "outputs": [
    {
     "data": {
      "text/plain": [
       "[(array([    0,     1,     3, ..., 22168, 22169, 22170]),\n",
       "  array([    2,     7,     9, ..., 22157, 22171, 22172])),\n",
       " (array([    0,     1,     2, ..., 22170, 22171, 22172]),\n",
       "  array([   14,    58,    67, ..., 22158, 22166, 22167])),\n",
       " (array([    0,     1,     2, ..., 22168, 22171, 22172]),\n",
       "  array([   11,    12,    23, ..., 22164, 22169, 22170])),\n",
       " (array([    0,     2,     4, ..., 22170, 22171, 22172]),\n",
       "  array([    1,     3,     6, ..., 22163, 22165, 22168])),\n",
       " (array([    1,     2,     3, ..., 22170, 22171, 22172]),\n",
       "  array([    0,     4,     5, ..., 22146, 22159, 22162]))]"
      ]
     },
     "execution_count": 11,
     "metadata": {},
     "output_type": "execute_result"
    }
   ],
   "source": [
    "# Load CV indices\n",
    "with open('../data/misc/vtdata_5f_spatial_cv_indices.pkl', 'rb') as file:\n",
    "    split_indices = pickle.load(file)\n",
    "\n",
    "split_indices"
   ]
  },
  {
   "cell_type": "code",
   "execution_count": 12,
   "metadata": {},
   "outputs": [
    {
     "data": {
      "text/plain": [
       "{'cohen_kappa': make_scorer(cohen_kappa_score),\n",
       " 'accuracy': 'accuracy',\n",
       " 'f1_macro': 'f1_macro'}"
      ]
     },
     "execution_count": 12,
     "metadata": {},
     "output_type": "execute_result"
    }
   ],
   "source": [
    "scores = {\n",
    "    'cohen_kappa': make_scorer(cohen_kappa_score),\n",
    "    'accuracy': 'accuracy',\n",
    "    'f1_macro': 'f1_macro'\n",
    "}\n",
    "scores"
   ]
  },
  {
   "cell_type": "code",
   "execution_count": 20,
   "metadata": {},
   "outputs": [],
   "source": [
    "def calculate_cv_mean_scores_and_std(cv_object):\n",
    "    \n",
    "    test_acc_mean = np.mean(cv_object['test_accuracy'])\n",
    "    test_acc_std = np.std(cv_object['test_accuracy'])\n",
    "    test_kappa_mean = np.mean(cv_object['test_cohen_kappa'])\n",
    "    test_kappa_std = np.std(cv_object['test_cohen_kappa'])\n",
    "    test_f1macro_mean = np.mean(cv_object['test_f1_macro'])\n",
    "    test_f1macro_std = np.std(cv_object['test_f1_macro'])\n",
    "\n",
    "    print(\n",
    "        f\"Acc: {round(test_acc_mean,3)} (±{round(test_acc_std,2)})\\n\"\n",
    "        f\"Kappa: {round(test_kappa_mean,3)} (±{round(test_kappa_std,2)})\\n\"\n",
    "        f\"F1-macro: {round(test_f1macro_mean,3)} (±{round(test_f1macro_std,2)})\\n\"\n",
    "    )\n"
   ]
  },
  {
   "cell_type": "code",
   "execution_count": 21,
   "metadata": {},
   "outputs": [
    {
     "name": "stderr",
     "output_type": "stream",
     "text": [
      "[Parallel(n_jobs=5)]: Using backend LokyBackend with 5 concurrent workers.\n"
     ]
    },
    {
     "name": "stdout",
     "output_type": "stream",
     "text": [
      "[CV] END .................................................... total time=   1.7s\n",
      "[CV] END .................................................... total time=   1.7s\n",
      "[CV] END .................................................... total time=   1.7s\n",
      "[CV] END .................................................... total time=   1.9s\n",
      "[CV] END .................................................... total time=   1.9s\n"
     ]
    },
    {
     "name": "stderr",
     "output_type": "stream",
     "text": [
      "[Parallel(n_jobs=5)]: Done   2 out of   5 | elapsed:    3.1s remaining:    4.7s\n"
     ]
    },
    {
     "name": "stdout",
     "output_type": "stream",
     "text": [
      "Acc: 0.365 (±0.01)\n",
      "Kappa: 0.309 (±0.01)\n",
      "F1-macro: 0.2 (±0.01)\n",
      "\n"
     ]
    },
    {
     "name": "stderr",
     "output_type": "stream",
     "text": [
      "[Parallel(n_jobs=5)]: Done   5 out of   5 | elapsed:    4.4s finished\n"
     ]
    }
   ],
   "source": [
    "# Sentinel bands\n",
    "\n",
    "# 10-Fold Cross validation, all predictors\n",
    "rf_default = RandomForestClassifier(oob_score=True, n_jobs=10, random_state=221)\n",
    "\n",
    "rf_cv_sentinel_bands = cross_validate(\n",
    "    estimator=rf_default,\n",
    "    X=vt_X[sentinel_bands],\n",
    "    y=vt_y,\n",
    "    scoring=scores,\n",
    "    return_train_score=True,\n",
    "    error_score=0,\n",
    "    cv=split_indices,\n",
    "    verbose=2,\n",
    "    return_estimator=True,\n",
    "    n_jobs=5\n",
    ")\n",
    "\n",
    "calculate_cv_mean_scores_and_std(rf_cv_sentinel_bands)"
   ]
  },
  {
   "cell_type": "code",
   "execution_count": 22,
   "metadata": {},
   "outputs": [
    {
     "name": "stderr",
     "output_type": "stream",
     "text": [
      "[Parallel(n_jobs=5)]: Using backend LokyBackend with 5 concurrent workers.\n"
     ]
    },
    {
     "name": "stdout",
     "output_type": "stream",
     "text": [
      "[CV] END .................................................... total time=   1.6s\n",
      "[CV] END .................................................... total time=   1.6s\n",
      "[CV] END .................................................... total time=   1.8s\n",
      "[CV] END .................................................... total time=   1.6s\n",
      "[CV] END .................................................... total time=   1.7s\n"
     ]
    },
    {
     "name": "stderr",
     "output_type": "stream",
     "text": [
      "[Parallel(n_jobs=5)]: Done   2 out of   5 | elapsed:    3.2s remaining:    4.8s\n"
     ]
    },
    {
     "name": "stdout",
     "output_type": "stream",
     "text": [
      "Acc: 0.309 (±0.0)\n",
      "Kappa: 0.249 (±0.0)\n",
      "F1-macro: 0.16 (±0.01)\n",
      "\n"
     ]
    },
    {
     "name": "stderr",
     "output_type": "stream",
     "text": [
      "[Parallel(n_jobs=5)]: Done   5 out of   5 | elapsed:    4.7s finished\n"
     ]
    }
   ],
   "source": [
    "# Sentinel SI - MED\n",
    "\n",
    "# 10-Fold Cross validation, all predictors\n",
    "rf_default = RandomForestClassifier(oob_score=True, n_jobs=10, random_state=221)\n",
    "\n",
    "rf_cv_sentinel_indices_med = cross_validate(\n",
    "    estimator=rf_default,\n",
    "    X=vt_X[sentinel_indices_med],\n",
    "    y=vt_y,\n",
    "    scoring=scores,\n",
    "    return_train_score=True,\n",
    "    error_score=0,\n",
    "    cv=split_indices,\n",
    "    verbose=2,\n",
    "    return_estimator=True,\n",
    "    n_jobs=5\n",
    ")\n",
    "\n",
    "calculate_cv_mean_scores_and_std(rf_cv_sentinel_indices_med)"
   ]
  },
  {
   "cell_type": "code",
   "execution_count": 23,
   "metadata": {},
   "outputs": [
    {
     "name": "stderr",
     "output_type": "stream",
     "text": [
      "[Parallel(n_jobs=5)]: Using backend LokyBackend with 5 concurrent workers.\n"
     ]
    },
    {
     "name": "stdout",
     "output_type": "stream",
     "text": [
      "[CV] END .................................................... total time=   1.5s\n",
      "[CV] END .................................................... total time=   1.5s\n",
      "[CV] END .................................................... total time=   1.6s\n",
      "[CV] END .................................................... total time=   1.6s\n",
      "[CV] END .................................................... total time=   1.7s\n"
     ]
    },
    {
     "name": "stderr",
     "output_type": "stream",
     "text": [
      "[Parallel(n_jobs=5)]: Done   2 out of   5 | elapsed:    3.1s remaining:    4.6s\n"
     ]
    },
    {
     "name": "stdout",
     "output_type": "stream",
     "text": [
      "Acc: 0.309 (±0.01)\n",
      "Kappa: 0.25 (±0.01)\n",
      "F1-macro: 0.158 (±0.01)\n",
      "\n"
     ]
    },
    {
     "name": "stderr",
     "output_type": "stream",
     "text": [
      "[Parallel(n_jobs=5)]: Done   5 out of   5 | elapsed:    4.6s finished\n"
     ]
    }
   ],
   "source": [
    "# Sentinel SI - MVC\n",
    "\n",
    "# 10-Fold Cross validation, all predictors\n",
    "rf_default = RandomForestClassifier(oob_score=True, n_jobs=10, random_state=221)\n",
    "\n",
    "rf_cv_sentinel_indices_mvc = cross_validate(\n",
    "    estimator=rf_default,\n",
    "    X=vt_X[sentinel_indices_mvc],\n",
    "    y=vt_y,\n",
    "    scoring=scores,\n",
    "    return_train_score=True,\n",
    "    error_score=0,\n",
    "    cv=split_indices,\n",
    "    verbose=2,\n",
    "    return_estimator=True,\n",
    "    n_jobs=5\n",
    ")\n",
    "\n",
    "calculate_cv_mean_scores_and_std(rf_cv_sentinel_indices_mvc)"
   ]
  },
  {
   "cell_type": "code",
   "execution_count": 24,
   "metadata": {},
   "outputs": [
    {
     "name": "stderr",
     "output_type": "stream",
     "text": [
      "[Parallel(n_jobs=5)]: Using backend LokyBackend with 5 concurrent workers.\n"
     ]
    },
    {
     "name": "stdout",
     "output_type": "stream",
     "text": [
      "[CV] END .................................................... total time=   2.1s\n",
      "[CV] END .................................................... total time=   2.2s\n",
      "[CV] END .................................................... total time=   2.2s\n",
      "[CV] END .................................................... total time=   2.2s\n",
      "[CV] END .................................................... total time=   2.3s\n"
     ]
    },
    {
     "name": "stderr",
     "output_type": "stream",
     "text": [
      "[Parallel(n_jobs=5)]: Done   2 out of   5 | elapsed:    3.6s remaining:    5.4s\n"
     ]
    },
    {
     "name": "stdout",
     "output_type": "stream",
     "text": [
      "Acc: 0.388 (±0.0)\n",
      "Kappa: 0.334 (±0.0)\n",
      "F1-macro: 0.21 (±0.01)\n",
      "\n"
     ]
    },
    {
     "name": "stderr",
     "output_type": "stream",
     "text": [
      "[Parallel(n_jobs=5)]: Done   5 out of   5 | elapsed:    4.9s finished\n"
     ]
    }
   ],
   "source": [
    "# Sentinel all\n",
    "\n",
    "# 10-Fold Cross validation, all predictors\n",
    "rf_default = RandomForestClassifier(oob_score=True, n_jobs=10, random_state=221)\n",
    "\n",
    "rf_cv_sentinel_all = cross_validate(\n",
    "    estimator=rf_default,\n",
    "    X=vt_X[sentinel_indices+sentinel_bands],\n",
    "    y=vt_y,\n",
    "    scoring=scores,\n",
    "    return_train_score=True,\n",
    "    error_score=0,\n",
    "    cv=split_indices,\n",
    "    verbose=2,\n",
    "    return_estimator=True,\n",
    "    n_jobs=5\n",
    ")\n",
    "\n",
    "calculate_cv_mean_scores_and_std(rf_cv_sentinel_all)"
   ]
  },
  {
   "cell_type": "code",
   "execution_count": 25,
   "metadata": {},
   "outputs": [
    {
     "name": "stderr",
     "output_type": "stream",
     "text": [
      "[Parallel(n_jobs=5)]: Using backend LokyBackend with 5 concurrent workers.\n"
     ]
    },
    {
     "name": "stdout",
     "output_type": "stream",
     "text": [
      "[CV] END .................................................... total time=   1.3s\n",
      "[CV] END .................................................... total time=   1.3s\n",
      "[CV] END .................................................... total time=   1.4s\n",
      "[CV] END .................................................... total time=   1.5s\n",
      "[CV] END .................................................... total time=   1.5s\n"
     ]
    },
    {
     "name": "stderr",
     "output_type": "stream",
     "text": [
      "[Parallel(n_jobs=5)]: Done   2 out of   5 | elapsed:    3.0s remaining:    4.6s\n"
     ]
    },
    {
     "name": "stdout",
     "output_type": "stream",
     "text": [
      "Acc: 0.295 (±0.0)\n",
      "Kappa: 0.232 (±0.0)\n",
      "F1-macro: 0.151 (±0.01)\n",
      "\n"
     ]
    },
    {
     "name": "stderr",
     "output_type": "stream",
     "text": [
      "[Parallel(n_jobs=5)]: Done   5 out of   5 | elapsed:    4.7s finished\n"
     ]
    }
   ],
   "source": [
    "# Landsat bands\n",
    "rf_default = RandomForestClassifier(oob_score=True, n_jobs=10, random_state=221)\n",
    "\n",
    "rf_cv_landsat_bands = cross_validate(\n",
    "    estimator=rf_default,\n",
    "    X=vt_X[landsat_bands],\n",
    "    y=vt_y,\n",
    "    scoring=scores,\n",
    "    return_train_score=True,\n",
    "    error_score=0,\n",
    "    cv=split_indices,\n",
    "    verbose=2,\n",
    "    return_estimator=True,\n",
    "    n_jobs=5\n",
    ")\n",
    "\n",
    "calculate_cv_mean_scores_and_std(rf_cv_landsat_bands)"
   ]
  },
  {
   "cell_type": "code",
   "execution_count": 26,
   "metadata": {},
   "outputs": [
    {
     "name": "stderr",
     "output_type": "stream",
     "text": [
      "[Parallel(n_jobs=5)]: Using backend LokyBackend with 5 concurrent workers.\n"
     ]
    },
    {
     "name": "stdout",
     "output_type": "stream",
     "text": [
      "[CV] END .................................................... total time=   1.5s\n",
      "[CV] END .................................................... total time=   1.5s\n",
      "[CV] END .................................................... total time=   1.5s\n",
      "[CV] END .................................................... total time=   1.5s\n",
      "[CV] END .................................................... total time=   1.7s\n"
     ]
    },
    {
     "name": "stderr",
     "output_type": "stream",
     "text": [
      "[Parallel(n_jobs=5)]: Done   2 out of   5 | elapsed:    3.2s remaining:    4.7s\n"
     ]
    },
    {
     "name": "stdout",
     "output_type": "stream",
     "text": [
      "Acc: 0.253 (±0.01)\n",
      "Kappa: 0.189 (±0.0)\n",
      "F1-macro: 0.125 (±0.0)\n",
      "\n"
     ]
    },
    {
     "name": "stderr",
     "output_type": "stream",
     "text": [
      "[Parallel(n_jobs=5)]: Done   5 out of   5 | elapsed:    4.8s finished\n"
     ]
    }
   ],
   "source": [
    "# Landsat indices - MED\n",
    "rf_default = RandomForestClassifier(oob_score=True, n_jobs=10, random_state=221)\n",
    "\n",
    "rf_cv_landsat_indices_med = cross_validate(\n",
    "    estimator=rf_default,\n",
    "    X=vt_X[landsat_indices_med],\n",
    "    y=vt_y,\n",
    "    scoring=scores,\n",
    "    return_train_score=True,\n",
    "    error_score=0,\n",
    "    cv=split_indices,\n",
    "    verbose=2,\n",
    "    return_estimator=True,\n",
    "    n_jobs=5\n",
    ")\n",
    "\n",
    "calculate_cv_mean_scores_and_std(rf_cv_landsat_indices_med)"
   ]
  },
  {
   "cell_type": "code",
   "execution_count": 27,
   "metadata": {},
   "outputs": [
    {
     "name": "stderr",
     "output_type": "stream",
     "text": [
      "[Parallel(n_jobs=5)]: Using backend LokyBackend with 5 concurrent workers.\n"
     ]
    },
    {
     "name": "stdout",
     "output_type": "stream",
     "text": [
      "[CV] END .................................................... total time=   1.6s\n",
      "[CV] END .................................................... total time=   1.6s\n",
      "[CV] END .................................................... total time=   1.7s\n",
      "[CV] END .................................................... total time=   1.7s\n",
      "[CV] END .................................................... total time=   1.8s\n"
     ]
    },
    {
     "name": "stderr",
     "output_type": "stream",
     "text": [
      "[Parallel(n_jobs=5)]: Done   2 out of   5 | elapsed:    3.3s remaining:    5.0s\n"
     ]
    },
    {
     "name": "stdout",
     "output_type": "stream",
     "text": [
      "Acc: 0.264 (±0.0)\n",
      "Kappa: 0.2 (±0.0)\n",
      "F1-macro: 0.129 (±0.01)\n",
      "\n"
     ]
    },
    {
     "name": "stderr",
     "output_type": "stream",
     "text": [
      "[Parallel(n_jobs=5)]: Done   5 out of   5 | elapsed:    5.0s finished\n"
     ]
    }
   ],
   "source": [
    "# Landsat indices - MVC\n",
    "rf_default = RandomForestClassifier(oob_score=True, n_jobs=10, random_state=221)\n",
    "\n",
    "rf_cv_landsat_indices_mvc = cross_validate(\n",
    "    estimator=rf_default,\n",
    "    X=vt_X[landsat_indices_mvc],\n",
    "    y=vt_y,\n",
    "    scoring=scores,\n",
    "    return_train_score=True,\n",
    "    error_score=0,\n",
    "    cv=split_indices,\n",
    "    verbose=2,\n",
    "    return_estimator=True,\n",
    "    n_jobs=5\n",
    ")\n",
    "\n",
    "calculate_cv_mean_scores_and_std(rf_cv_landsat_indices_mvc)"
   ]
  },
  {
   "cell_type": "code",
   "execution_count": 28,
   "metadata": {},
   "outputs": [
    {
     "name": "stderr",
     "output_type": "stream",
     "text": [
      "[Parallel(n_jobs=5)]: Using backend LokyBackend with 5 concurrent workers.\n"
     ]
    },
    {
     "name": "stdout",
     "output_type": "stream",
     "text": [
      "[CV] END .................................................... total time=   2.1s\n",
      "[CV] END .................................................... total time=   2.1s\n",
      "[CV] END .................................................... total time=   2.1s\n",
      "[CV] END .................................................... total time=   2.2s\n",
      "[CV] END .................................................... total time=   2.2s\n"
     ]
    },
    {
     "name": "stderr",
     "output_type": "stream",
     "text": [
      "[Parallel(n_jobs=5)]: Done   2 out of   5 | elapsed:    3.6s remaining:    5.4s\n"
     ]
    },
    {
     "name": "stdout",
     "output_type": "stream",
     "text": [
      "Acc: 0.343 (±0.0)\n",
      "Kappa: 0.286 (±0.0)\n",
      "F1-macro: 0.174 (±0.0)\n",
      "\n"
     ]
    },
    {
     "name": "stderr",
     "output_type": "stream",
     "text": [
      "[Parallel(n_jobs=5)]: Done   5 out of   5 | elapsed:    5.1s finished\n"
     ]
    }
   ],
   "source": [
    "# Landsat both\n",
    "rf_default = RandomForestClassifier(oob_score=True, n_jobs=10, random_state=221)\n",
    "\n",
    "rf_cv_landsat_all = cross_validate(\n",
    "    estimator=rf_default,\n",
    "    X=vt_X[landsat_indices + landsat_bands],\n",
    "    y=vt_y,\n",
    "    scoring=scores,\n",
    "    return_train_score=True,\n",
    "    error_score=0,\n",
    "    cv=split_indices,\n",
    "    verbose=2,\n",
    "    return_estimator=True,\n",
    "    n_jobs=5\n",
    ")\n",
    "\n",
    "calculate_cv_mean_scores_and_std(rf_cv_landsat_all)"
   ]
  },
  {
   "cell_type": "code",
   "execution_count": 29,
   "metadata": {},
   "outputs": [
    {
     "name": "stderr",
     "output_type": "stream",
     "text": [
      "[Parallel(n_jobs=5)]: Using backend LokyBackend with 5 concurrent workers.\n"
     ]
    },
    {
     "name": "stdout",
     "output_type": "stream",
     "text": [
      "[CV] END .................................................... total time=   2.1s\n",
      "[CV] END .................................................... total time=   1.9s\n",
      "[CV] END .................................................... total time=   2.2s\n",
      "[CV] END .................................................... total time=   2.0s\n",
      "[CV] END .................................................... total time=   2.1s\n"
     ]
    },
    {
     "name": "stderr",
     "output_type": "stream",
     "text": [
      "[Parallel(n_jobs=5)]: Done   2 out of   5 | elapsed:    5.5s remaining:    8.3s\n"
     ]
    },
    {
     "name": "stdout",
     "output_type": "stream",
     "text": [
      "Acc: 0.397 (±0.01)\n",
      "Kappa: 0.344 (±0.01)\n",
      "F1-macro: 0.218 (±0.01)\n",
      "\n"
     ]
    },
    {
     "name": "stderr",
     "output_type": "stream",
     "text": [
      "[Parallel(n_jobs=5)]: Done   5 out of   5 | elapsed:    7.0s finished\n"
     ]
    }
   ],
   "source": [
    "# Both satellites, bands\n",
    "rf_default = RandomForestClassifier(oob_score=True, n_jobs=10, random_state=221)\n",
    "\n",
    "rf_cv_landsat_and_sentinel_bands = cross_validate(\n",
    "    estimator=rf_default,\n",
    "    X=vt_X[landsat_bands + sentinel_bands],\n",
    "    y=vt_y,\n",
    "    scoring=scores,\n",
    "    return_train_score=True,\n",
    "    error_score=0,\n",
    "    cv=split_indices,\n",
    "    verbose=2,\n",
    "    return_estimator=True,\n",
    "    n_jobs=5\n",
    ")\n",
    "\n",
    "calculate_cv_mean_scores_and_std(rf_cv_landsat_and_sentinel_bands)"
   ]
  },
  {
   "cell_type": "code",
   "execution_count": 30,
   "metadata": {},
   "outputs": [
    {
     "name": "stderr",
     "output_type": "stream",
     "text": [
      "[Parallel(n_jobs=5)]: Using backend LokyBackend with 5 concurrent workers.\n"
     ]
    },
    {
     "name": "stdout",
     "output_type": "stream",
     "text": [
      "[CV] END .................................................... total time=   1.8s\n",
      "[CV] END .................................................... total time=   1.9s\n",
      "[CV] END .................................................... total time=   1.9s\n",
      "[CV] END .................................................... total time=   1.9s\n",
      "[CV] END .................................................... total time=   2.1s\n"
     ]
    },
    {
     "name": "stderr",
     "output_type": "stream",
     "text": [
      "[Parallel(n_jobs=5)]: Done   2 out of   5 | elapsed:    3.5s remaining:    5.2s\n"
     ]
    },
    {
     "name": "stdout",
     "output_type": "stream",
     "text": [
      "Acc: 0.355 (±0.01)\n",
      "Kappa: 0.298 (±0.01)\n",
      "F1-macro: 0.178 (±0.0)\n",
      "\n"
     ]
    },
    {
     "name": "stderr",
     "output_type": "stream",
     "text": [
      "[Parallel(n_jobs=5)]: Done   5 out of   5 | elapsed:    4.9s finished\n"
     ]
    }
   ],
   "source": [
    "# Both satellites, SI - MED\n",
    "rf_default = RandomForestClassifier(oob_score=True, n_jobs=10, random_state=221)\n",
    "\n",
    "rf_cv_landsat_and_sentinel_indices_med = cross_validate(\n",
    "    estimator=rf_default,\n",
    "    X=vt_X[landsat_indices_med + sentinel_indices_med],\n",
    "    y=vt_y,\n",
    "    scoring=scores,\n",
    "    return_train_score=True,\n",
    "    error_score=0,\n",
    "    cv=split_indices,\n",
    "    verbose=2,\n",
    "    return_estimator=True,\n",
    "    n_jobs=5\n",
    ")\n",
    "\n",
    "calculate_cv_mean_scores_and_std(rf_cv_landsat_and_sentinel_indices_med)"
   ]
  },
  {
   "cell_type": "code",
   "execution_count": 31,
   "metadata": {},
   "outputs": [
    {
     "name": "stderr",
     "output_type": "stream",
     "text": [
      "[Parallel(n_jobs=5)]: Using backend LokyBackend with 5 concurrent workers.\n"
     ]
    },
    {
     "name": "stdout",
     "output_type": "stream",
     "text": [
      "[CV] END .................................................... total time=   1.8s\n",
      "[CV] END .................................................... total time=   1.9s\n",
      "[CV] END .................................................... total time=   1.9s\n",
      "[CV] END .................................................... total time=   1.9s\n",
      "[CV] END .................................................... total time=   1.9s\n"
     ]
    },
    {
     "name": "stderr",
     "output_type": "stream",
     "text": [
      "[Parallel(n_jobs=5)]: Done   2 out of   5 | elapsed:    3.4s remaining:    5.1s\n"
     ]
    },
    {
     "name": "stdout",
     "output_type": "stream",
     "text": [
      "Acc: 0.344 (±0.0)\n",
      "Kappa: 0.286 (±0.0)\n",
      "F1-macro: 0.171 (±0.01)\n",
      "\n"
     ]
    },
    {
     "name": "stderr",
     "output_type": "stream",
     "text": [
      "[Parallel(n_jobs=5)]: Done   5 out of   5 | elapsed:    4.9s finished\n"
     ]
    }
   ],
   "source": [
    "# Both satellites, SI - MVC\n",
    "rf_default = RandomForestClassifier(oob_score=True, n_jobs=10, random_state=221)\n",
    "\n",
    "rf_cv_landsat_and_sentinel_indices_mvc = cross_validate(\n",
    "    estimator=rf_default,\n",
    "    X=vt_X[landsat_indices_mvc + sentinel_indices_mvc],\n",
    "    y=vt_y,\n",
    "    scoring=scores,\n",
    "    return_train_score=True,\n",
    "    error_score=0,\n",
    "    cv=split_indices,\n",
    "    verbose=2,\n",
    "    return_estimator=True,\n",
    "    n_jobs=5\n",
    ")\n",
    "\n",
    "calculate_cv_mean_scores_and_std(rf_cv_landsat_and_sentinel_indices_mvc)"
   ]
  },
  {
   "cell_type": "code",
   "execution_count": 32,
   "metadata": {},
   "outputs": [
    {
     "name": "stderr",
     "output_type": "stream",
     "text": [
      "[Parallel(n_jobs=5)]: Using backend LokyBackend with 5 concurrent workers.\n"
     ]
    },
    {
     "name": "stdout",
     "output_type": "stream",
     "text": [
      "[CV] END .................................................... total time=   2.8s\n",
      "[CV] END .................................................... total time=   2.8s\n",
      "[CV] END .................................................... total time=   2.9s\n",
      "[CV] END .................................................... total time=   2.9s\n",
      "[CV] END .................................................... total time=   2.9s\n"
     ]
    },
    {
     "name": "stderr",
     "output_type": "stream",
     "text": [
      "[Parallel(n_jobs=5)]: Done   2 out of   5 | elapsed:    4.2s remaining:    6.2s\n"
     ]
    },
    {
     "name": "stdout",
     "output_type": "stream",
     "text": [
      "Acc: 0.412 (±0.01)\n",
      "Kappa: 0.36 (±0.01)\n",
      "F1-macro: 0.219 (±0.01)\n",
      "\n"
     ]
    },
    {
     "name": "stderr",
     "output_type": "stream",
     "text": [
      "[Parallel(n_jobs=5)]: Done   5 out of   5 | elapsed:    5.5s finished\n"
     ]
    }
   ],
   "source": [
    "# All satellite data\n",
    "rf_default = RandomForestClassifier(oob_score=True, n_jobs=10, random_state=221)\n",
    "\n",
    "rf_cv_landsat_and_sentinel = cross_validate(\n",
    "    estimator=rf_default,\n",
    "    X=vt_X[landsat_indices + landsat_bands + sentinel_bands + sentinel_indices],\n",
    "    y=vt_y,\n",
    "    scoring=scores,\n",
    "    return_train_score=True,\n",
    "    error_score=0,\n",
    "    cv=split_indices,\n",
    "    verbose=2,\n",
    "    return_estimator=True,\n",
    "    n_jobs=5\n",
    ")\n",
    "\n",
    "calculate_cv_mean_scores_and_std(rf_cv_landsat_and_sentinel)"
   ]
  },
  {
   "cell_type": "code",
   "execution_count": 15,
   "metadata": {},
   "outputs": [
    {
     "data": {
      "image/png": "[encoded data removed]",
      "text/plain": [
       "<Figure size 1889.76x1889.76 with 9 Axes>"
      ]
     },
     "metadata": {},
     "output_type": "display_data"
    }
   ],
   "source": [
    "# Create plot\n",
    "import matplotlib.pyplot as plt\n",
    "\n",
    "test_score_columns = [\"test_\"+x for x in scores.keys()]\n",
    "\n",
    "fig, axes = plt.subplots(\n",
    "    nrows=3,\n",
    "    ncols=3,\n",
    "    sharex='all',\n",
    "    sharey='all',\n",
    "    figsize=(16/2.54, 16/2.54),\n",
    "    dpi=300\n",
    ")\n",
    "\n",
    "boxprops = dict(\n",
    "    linestyle='-',\n",
    "    linewidth=1,\n",
    "    color='black',\n",
    "    facecolor='white'\n",
    ")\n",
    "\n",
    "for plot_idx, (pair_one, pair_two, pair_three) in enumerate(zip(\n",
    "    [rf_cv_sentinel_bands, rf_cv_sentinel_indices, rf_cv_sentinel_both],\n",
    "    [rf_cv_landsat_bands, rf_cv_landsat_indices, rf_cv_landsat_both],\n",
    "    [rf_cv_landsat_and_sentinel_bands, rf_cv_landsat_and_sentinel_indices, rf_cv_landsat_and_sentinel],\n",
    ")):\n",
    "    \n",
    "    axes[plot_idx, 0].boxplot(\n",
    "        pd.DataFrame(pair_one)[test_score_columns],\n",
    "        #positions=pos_nn,  # pos_list[idx_odd]-0.25, ## ODD INDICES\n",
    "        #sym='',\n",
    "        #widths=width,\n",
    "        boxprops=boxprops,\n",
    "        patch_artist = True,\n",
    "    )\n",
    "\n",
    "    axes[plot_idx, 1].boxplot(\n",
    "        pd.DataFrame(pair_two)[test_score_columns],\n",
    "        #positions=pos_nn,  # pos_list[idx_odd]-0.25, ## ODD INDICES\n",
    "        #sym='',\n",
    "        #widths=width,\n",
    "        boxprops=boxprops,\n",
    "        patch_artist = True,\n",
    "    )\n",
    "\n",
    "    axes[plot_idx, 2].boxplot(\n",
    "        pd.DataFrame(pair_three)[test_score_columns],\n",
    "        #positions=pos_nn,  # pos_list[idx_odd]-0.25, ## ODD INDICES\n",
    "        #sym='',\n",
    "        #widths=width,\n",
    "        boxprops=boxprops,\n",
    "        patch_artist = True,\n",
    "    )\n",
    "\n",
    "    if plot_idx == 0:\n",
    "        axes[plot_idx, 0].set_title(\"Sentinel-2\")\n",
    "        axes[plot_idx, 1].set_title(\"Landsat-7\")\n",
    "        axes[plot_idx, 2].set_title(\"Combined\")\n",
    "\n",
    "        axes[plot_idx, 0].set_ylabel(\"Only bands\")\n",
    "    if plot_idx == 1:\n",
    "        axes[plot_idx, 0].set_ylabel(\"Only SI\")\n",
    "    if plot_idx == 2:\n",
    "        axes[plot_idx, 0].set_ylabel(\"Bands + SI\")\n",
    "\n",
    "        axes[plot_idx, 0].set_xticks([1, 2, 3])\n",
    "        axes[plot_idx, 0].set_xticklabels(\n",
    "            [\"κ\", \"Acc.\", \"F$_{1}$\\nmacro\"],\n",
    "            fontsize=9\n",
    "        )\n",
    "\n",
    "for ax in axes.flatten():\n",
    "    ax.grid(\n",
    "        axis='y',\n",
    "        linestyle='--',\n",
    "        linewidth=0.7,\n",
    "        zorder=-1\n",
    "    )\n",
    "\n",
    "fig.tight_layout()\n",
    "\n",
    "#fig.savefig(\"../results/plots/satellite_only_performance.png\")"
   ]
  },
  {
   "cell_type": "markdown",
   "metadata": {},
   "source": [
    "---\n",
    "## Background dataset and satellite predictors"
   ]
  },
  {
   "cell_type": "code",
   "execution_count": 34,
   "metadata": {},
   "outputs": [
    {
     "data": {
      "text/plain": [
       "{'x': {'long_name': 'Easting',\n",
       "  'dtype': 'continuous',\n",
       "  'unit': 'm [UTM 32N WGS84]',\n",
       "  'category': 'excluded'},\n",
       " 'y': {'long_name': 'Northing',\n",
       "  'dtype': 'continuous',\n",
       "  'unit': 'm [UTM 32N WGS84]',\n",
       "  'category': 'excluded'},\n",
       " 'plot_id': {'long_name': 'Plot ID',\n",
       "  'dtype': 'categorical',\n",
       "  'unit': 'NA',\n",
       "  'category': 'excluded'},\n",
       " 'B1_median_comp_Sent2': {'long_name': 'Sent2 - B1 (MED)',\n",
       "  'dtype': 'continuous',\n",
       "  'unit': 'Surface reflectance',\n",
       "  'category': 'Satellite'},\n",
       " 'B2_median_comp_Sent2': {'long_name': 'Sent2 - B2 (MED)',\n",
       "  'dtype': 'continuous',\n",
       "  'unit': 'Surface reflectance',\n",
       "  'category': 'Satellite'},\n",
       " 'B3_median_comp_Sent2': {'long_name': 'Sent2 - B3 (MED)',\n",
       "  'dtype': 'continuous',\n",
       "  'unit': 'Surface reflectance',\n",
       "  'category': 'Satellite'},\n",
       " 'B4_median_comp_Sent2': {'long_name': 'Sent2 - B4 (MED)',\n",
       "  'dtype': 'continuous',\n",
       "  'unit': 'Surface reflectance',\n",
       "  'category': 'Satellite'},\n",
       " 'B5_median_comp_Sent2': {'long_name': 'Sent2 - B5 (MED)',\n",
       "  'dtype': 'continuous',\n",
       "  'unit': 'Surface reflectance',\n",
       "  'category': 'Satellite'},\n",
       " 'B6_median_comp_Sent2': {'long_name': 'Sent2 - B6 (MED)',\n",
       "  'dtype': 'continuous',\n",
       "  'unit': 'Surface reflectance',\n",
       "  'category': 'Satellite'},\n",
       " 'B7_median_comp_Sent2': {'long_name': 'Sent2 - B7 (MED)',\n",
       "  'dtype': 'continuous',\n",
       "  'unit': 'Surface reflectance',\n",
       "  'category': 'Satellite'},\n",
       " 'B8_median_comp_Sent2': {'long_name': 'Sent2 - B8 (MED)',\n",
       "  'dtype': 'continuous',\n",
       "  'unit': 'Surface reflectance',\n",
       "  'category': 'Satellite'},\n",
       " 'B8A_median_comp_Sent2': {'long_name': 'Sent2 - B8A (MED)',\n",
       "  'dtype': 'continuous',\n",
       "  'unit': 'Surface reflectance',\n",
       "  'category': 'Satellite'},\n",
       " 'B9_median_comp_Sent2': {'long_name': 'Sent2 - B9 (MED)',\n",
       "  'dtype': 'continuous',\n",
       "  'unit': 'Surface reflectance',\n",
       "  'category': 'Satellite'},\n",
       " 'B11_median_comp_Sent2': {'long_name': 'Sent2 - B11 (MED)',\n",
       "  'dtype': 'continuous',\n",
       "  'unit': 'Surface reflectance',\n",
       "  'category': 'Satellite'},\n",
       " 'B12_median_comp_Sent2': {'long_name': 'Sent2 - B12 (MED)',\n",
       "  'dtype': 'continuous',\n",
       "  'unit': 'Surface reflectance',\n",
       "  'category': 'Satellite'},\n",
       " 'EVI_median_comp_Sent2': {'long_name': 'Sent2 - EVI (MED)',\n",
       "  'dtype': 'continuous',\n",
       "  'unit': 'Spectral index',\n",
       "  'category': 'Satellite'},\n",
       " 'EVI_greenest_pixel_Sent2': {'long_name': 'Sent2 - EVI (MVC)',\n",
       "  'dtype': 'continuous',\n",
       "  'unit': 'Spectral index',\n",
       "  'category': 'Satellite'},\n",
       " 'GNDVI_median_comp_Sent2': {'long_name': 'Sent2 - GNDVI (MED)',\n",
       "  'dtype': 'continuous',\n",
       "  'unit': 'Spectral index',\n",
       "  'category': 'Satellite'},\n",
       " 'GNDVI_greenest_pixel_Sent2': {'long_name': 'Sent2 - GNDVI (MVC)',\n",
       "  'dtype': 'continuous',\n",
       "  'unit': 'Spectral index',\n",
       "  'category': 'Satellite'},\n",
       " 'NDMI_median_comp_Sent2': {'long_name': 'Sent2 - NDMI (MED)',\n",
       "  'dtype': 'continuous',\n",
       "  'unit': 'Spectral index',\n",
       "  'category': 'Satellite'},\n",
       " 'NDMI_greenest_pixel_Sent2': {'long_name': 'Sent2 - NDMI (MVC)',\n",
       "  'dtype': 'continuous',\n",
       "  'unit': 'Spectral index',\n",
       "  'category': 'Satellite'},\n",
       " 'NDVI_median_comp_Sent2': {'long_name': 'Sent2 - NDVI (MED)',\n",
       "  'dtype': 'continuous',\n",
       "  'unit': 'Spectral index',\n",
       "  'category': 'Satellite'},\n",
       " 'NDVI_greenest_pixel_Sent2': {'long_name': 'Sent2 - NDVI (MVC)',\n",
       "  'dtype': 'continuous',\n",
       "  'unit': 'Spectral index',\n",
       "  'category': 'Satellite'},\n",
       " 'SAVI_median_comp_Sent2': {'long_name': 'Sent2 - SAVI (MED)',\n",
       "  'dtype': 'continuous',\n",
       "  'unit': 'Spectral index',\n",
       "  'category': 'Satellite'},\n",
       " 'SAVI_greenest_pixel_Sent2': {'long_name': 'Sent2 - SAVI (MVC)',\n",
       "  'dtype': 'continuous',\n",
       "  'unit': 'Spectral index',\n",
       "  'category': 'Satellite'},\n",
       " 'B1_median_comp_Lands7': {'long_name': 'Lands7 - B1 (MED)',\n",
       "  'dtype': 'continuous',\n",
       "  'unit': 'Surface reflectance',\n",
       "  'category': 'Satellite'},\n",
       " 'B2_median_comp_Lands7': {'long_name': 'Lands7 - B2 (MED)',\n",
       "  'dtype': 'continuous',\n",
       "  'unit': 'Surface reflectance',\n",
       "  'category': 'Satellite'},\n",
       " 'B3_median_comp_Lands7': {'long_name': 'Lands7 - B3 (MED)',\n",
       "  'dtype': 'continuous',\n",
       "  'unit': 'Surface reflectance',\n",
       "  'category': 'Satellite'},\n",
       " 'B4_median_comp_Lands7': {'long_name': 'Lands7 - B4 (MED)',\n",
       "  'dtype': 'continuous',\n",
       "  'unit': 'Surface reflectance',\n",
       "  'category': 'Satellite'},\n",
       " 'B5_median_comp_Lands7': {'long_name': 'Lands7 - B5 (MED)',\n",
       "  'dtype': 'continuous',\n",
       "  'unit': 'Surface reflectance',\n",
       "  'category': 'Satellite'},\n",
       " 'B6_median_comp_Lands7': {'long_name': 'Lands7 - B6 (MED)',\n",
       "  'dtype': 'continuous',\n",
       "  'unit': 'Brightness temperature [K]',\n",
       "  'category': 'Satellite'},\n",
       " 'B7_median_comp_Lands7': {'long_name': 'Lands7 - B7 (MED)',\n",
       "  'dtype': 'continuous',\n",
       "  'unit': 'Surface reflectance',\n",
       "  'category': 'Satellite'},\n",
       " 'EVI_median_comp_Lands7': {'long_name': 'Lands7 - EVI (MED)',\n",
       "  'dtype': 'continuous',\n",
       "  'unit': 'Spectral index',\n",
       "  'category': 'Satellite'},\n",
       " 'EVI_greenest_pixel_Lands7': {'long_name': 'Lands7 - EVI (MVC)',\n",
       "  'dtype': 'continuous',\n",
       "  'unit': 'Spectral index',\n",
       "  'category': 'Satellite'},\n",
       " 'GNDVI_median_comp_Lands7': {'long_name': 'Lands7 - GNDVI (MED)',\n",
       "  'dtype': 'continuous',\n",
       "  'unit': 'Spectral index',\n",
       "  'category': 'Satellite'},\n",
       " 'GNDVI_greenest_pixel_Lands7': {'long_name': 'Lands7 - GNDVI (MVC)',\n",
       "  'dtype': 'continuous',\n",
       "  'unit': 'Spectral index',\n",
       "  'category': 'Satellite'},\n",
       " 'NDMI_median_comp_Lands7': {'long_name': 'Lands7 - NDMI (MED)',\n",
       "  'dtype': 'continuous',\n",
       "  'unit': 'Spectral index',\n",
       "  'category': 'Satellite'},\n",
       " 'NDMI_greenest_pixel_Lands7': {'long_name': 'Lands7 - NDMI (MVC)',\n",
       "  'dtype': 'continuous',\n",
       "  'unit': 'Spectral index',\n",
       "  'category': 'Satellite'},\n",
       " 'NDVI_median_comp_Lands7': {'long_name': 'Lands7 - NDVI (MED)',\n",
       "  'dtype': 'continuous',\n",
       "  'unit': 'Spectral index',\n",
       "  'category': 'Satellite'},\n",
       " 'NDVI_greenest_pixel_Lands7': {'long_name': 'Lands7 - NDVI (MVC)',\n",
       "  'dtype': 'continuous',\n",
       "  'unit': 'Spectral index',\n",
       "  'category': 'Satellite'},\n",
       " 'SAVI_median_comp_Lands7': {'long_name': 'Lands7 - SAVI (MED)',\n",
       "  'dtype': 'continuous',\n",
       "  'unit': 'Spectral index',\n",
       "  'category': 'Satellite'},\n",
       " 'SAVI_greenest_pixel_Lands7': {'long_name': 'Lands7 - SAVI (MVC)',\n",
       "  'dtype': 'continuous',\n",
       "  'unit': 'Spectral index',\n",
       "  'category': 'Satellite'},\n",
       " 'ar50_artype': {'long_name': 'AR50 - LC types',\n",
       "  'dtype': 'categorical',\n",
       "  'unit': 'NA',\n",
       "  'category': 'Baseline land cover'},\n",
       " 'ar50_skogbon': {'long_name': 'AR50 - Forest productivity',\n",
       "  'dtype': 'categorical',\n",
       "  'unit': 'NA',\n",
       "  'category': 'Baseline land cover'},\n",
       " 'ar50_treslag': {'long_name': 'AR50 - Forest types',\n",
       "  'dtype': 'categorical',\n",
       "  'unit': 'NA',\n",
       "  'category': 'Baseline land cover'},\n",
       " 'ar50_veg': {'long_name': 'AR50 - Veg. cover',\n",
       "  'dtype': 'categorical',\n",
       "  'unit': 'NA',\n",
       "  'category': 'Baseline land cover'},\n",
       " 'corine_lc_2012': {'long_name': 'CORINE - LC classes',\n",
       "  'dtype': 'categorical',\n",
       "  'unit': 'NA',\n",
       "  'category': 'Baseline land cover'},\n",
       " 'geo_berggrunn': {'long_name': 'Bed rock - type',\n",
       "  'dtype': 'categorical',\n",
       "  'unit': 'NA',\n",
       "  'category': 'Geology'},\n",
       " 'geo_grunnvann': {'long_name': 'Groundwater potential',\n",
       "  'dtype': 'categorical',\n",
       "  'unit': 'NA',\n",
       "  'category': 'Geology'},\n",
       " 'geo_infiltr_evne': {'long_name': 'Infiltration capacity',\n",
       "  'dtype': 'categorical',\n",
       "  'unit': 'NA',\n",
       "  'category': 'Geology'},\n",
       " 'geo_losmasse': {'long_name': 'Sedimentary deposits',\n",
       "  'dtype': 'categorical',\n",
       "  'unit': 'NA',\n",
       "  'category': 'Geology'},\n",
       " 'geo_norge123': {'long_name': 'Bed rock - nutrient content',\n",
       "  'dtype': 'categorical',\n",
       "  'unit': 'NA',\n",
       "  'category': 'Geology'},\n",
       " 'geology_norge': {'long_name': 'Bed rock - nutrient content',\n",
       "  'dtype': 'categorical',\n",
       "  'unit': 'NA',\n",
       "  'category': 'Geology'},\n",
       " 'aspect': {'long_name': 'Aspect',\n",
       "  'dtype': 'continuous',\n",
       "  'unit': 'NA',\n",
       "  'category': 'Geospatial'},\n",
       " 'bioclim_1': {'long_name': 'Annual mean T (BC-1)',\n",
       "  'dtype': 'continuous',\n",
       "  'unit': 'deg.C',\n",
       "  'category': 'Climate'},\n",
       " 'bioclim_10': {'long_name': 'Mean T - warmest quarter (BC-10)',\n",
       "  'dtype': 'continuous',\n",
       "  'unit': 'deg.C',\n",
       "  'category': 'Climate'},\n",
       " 'bioclim_11': {'long_name': 'Mean T - coldest quarter (BC-11)',\n",
       "  'dtype': 'continuous',\n",
       "  'unit': 'deg.C',\n",
       "  'category': 'Climate'},\n",
       " 'bioclim_12': {'long_name': 'Annual precip. (BC-12)',\n",
       "  'dtype': 'continuous',\n",
       "  'unit': 'mm',\n",
       "  'category': 'Climate'},\n",
       " 'bioclim_15': {'long_name': 'Precip. seasonality (BC-15)',\n",
       "  'dtype': 'continuous',\n",
       "  'unit': 'Coef. of variation',\n",
       "  'category': 'Climate'},\n",
       " 'bioclim_17': {'long_name': 'Precip. - driest quarter (BC-17)',\n",
       "  'dtype': 'continuous',\n",
       "  'unit': 'mm',\n",
       "  'category': 'Climate'},\n",
       " 'bioclim_18': {'long_name': 'Precip. - warmest quarter (BC-18)',\n",
       "  'dtype': 'continuous',\n",
       "  'unit': 'mm',\n",
       "  'category': 'Climate'},\n",
       " 'bioclim_3': {'long_name': 'Isothermality (BC-3)',\n",
       "  'dtype': 'continuous',\n",
       "  'unit': '-',\n",
       "  'category': 'Climate'},\n",
       " 'bioclim_5': {'long_name': 'Max T - warmest month (BC-5)',\n",
       "  'dtype': 'continuous',\n",
       "  'unit': 'deg.C',\n",
       "  'category': 'Climate'},\n",
       " 'bioclim_6': {'long_name': 'Min T - coldest month (BC-6)',\n",
       "  'dtype': 'continuous',\n",
       "  'unit': 'deg.C',\n",
       "  'category': 'Climate'},\n",
       " 'bioclim_7': {'long_name': 'T - annual range (BC-7)',\n",
       "  'dtype': 'continuous',\n",
       "  'unit': 'deg.C',\n",
       "  'category': 'Climate'},\n",
       " 'bioclim_8': {'long_name': 'Mean T - wettest quarter (BC-8)',\n",
       "  'dtype': 'continuous',\n",
       "  'unit': 'deg.C',\n",
       "  'category': 'Climate'},\n",
       " 'bioclim_9': {'long_name': 'Mean T - driest quarter (BC-9)',\n",
       "  'dtype': 'continuous',\n",
       "  'unit': 'deg.C',\n",
       "  'category': 'Climate'},\n",
       " 'dem100': {'long_name': 'DEM',\n",
       "  'dtype': 'continuous',\n",
       "  'unit': 'm.a.s.l.',\n",
       "  'category': 'Geospatial'},\n",
       " 'growing_season_length': {'long_name': 'Growing season length',\n",
       "  'dtype': 'continuous',\n",
       "  'unit': 'days',\n",
       "  'category': 'Climate'},\n",
       " 'precip_5': {'long_name': 'Mean precip. - May',\n",
       "  'dtype': 'continuous',\n",
       "  'unit': 'mm',\n",
       "  'category': 'Climate'},\n",
       " 'precip_6': {'long_name': 'Mean precip. - June',\n",
       "  'dtype': 'continuous',\n",
       "  'unit': 'mm',\n",
       "  'category': 'Climate'},\n",
       " 'proxy_allrivers': {'long_name': 'Distance to rivers',\n",
       "  'dtype': 'continuous',\n",
       "  'unit': 'm',\n",
       "  'category': 'Geospatial'},\n",
       " 'proxy_allwater': {'long_name': 'Distance to all water bodies',\n",
       "  'dtype': 'continuous',\n",
       "  'unit': 'm',\n",
       "  'category': 'Geospatial'},\n",
       " 'proxy_coast': {'long_name': 'Distance to coast',\n",
       "  'dtype': 'continuous',\n",
       "  'unit': 'm',\n",
       "  'category': 'Geospatial'},\n",
       " 'proxy_lakes': {'long_name': 'Distance to lakes',\n",
       "  'dtype': 'continuous',\n",
       "  'unit': 'm',\n",
       "  'category': 'Geospatial'},\n",
       " 'sca_2': {'long_name': 'Snow covered area Feb.',\n",
       "  'dtype': 'continuous',\n",
       "  'unit': 'm2',\n",
       "  'category': 'Climate'},\n",
       " 'sca_7': {'long_name': 'Snow covered area July',\n",
       "  'dtype': 'continuous',\n",
       "  'unit': 'm2',\n",
       "  'category': 'Climate'},\n",
       " 'sca_8': {'long_name': 'Snow covered area Aug.',\n",
       "  'dtype': 'continuous',\n",
       "  'unit': 'm2',\n",
       "  'category': 'Climate'},\n",
       " 'sca_9': {'long_name': 'Snow covered area Sep.',\n",
       "  'dtype': 'continuous',\n",
       "  'unit': 'm2',\n",
       "  'category': 'Climate'},\n",
       " 'slope': {'long_name': 'Slope',\n",
       "  'dtype': 'continuous',\n",
       "  'unit': '-',\n",
       "  'category': 'Geospatial'},\n",
       " 'swe_10': {'long_name': 'Snow water equivalent Oct.',\n",
       "  'dtype': 'continuous',\n",
       "  'unit': 'mm',\n",
       "  'category': 'Climate'},\n",
       " 'swe_4': {'long_name': 'Snow water equivalent Apr.',\n",
       "  'dtype': 'continuous',\n",
       "  'unit': 'mm',\n",
       "  'category': 'Climate'},\n",
       " 'swe_8': {'long_name': 'Snow water equivalent Aug.',\n",
       "  'dtype': 'continuous',\n",
       "  'unit': 'mm',\n",
       "  'category': 'Climate'},\n",
       " 'terrain_ruggedness_index': {'long_name': 'Terrain ruggedness index',\n",
       "  'dtype': 'continuous',\n",
       "  'unit': '-',\n",
       "  'category': 'Geospatial'},\n",
       " 'tmax_1': {'long_name': 'Max T - Jan.',\n",
       "  'dtype': 'continuous',\n",
       "  'unit': 'deg.C',\n",
       "  'category': 'Climate'},\n",
       " 'tmax_10': {'long_name': 'Max T - Oct.',\n",
       "  'dtype': 'continuous',\n",
       "  'unit': 'deg.C',\n",
       "  'category': 'Climate'},\n",
       " 'tmax_2': {'long_name': 'Max T - Feb.',\n",
       "  'dtype': 'continuous',\n",
       "  'unit': 'deg.C',\n",
       "  'category': 'Climate'},\n",
       " 'tmax_5': {'long_name': 'Max T - May',\n",
       "  'dtype': 'continuous',\n",
       "  'unit': 'deg.C',\n",
       "  'category': 'Climate'},\n",
       " 'tmax_6': {'long_name': 'Max T - June',\n",
       "  'dtype': 'continuous',\n",
       "  'unit': 'deg.C',\n",
       "  'category': 'Climate'},\n",
       " 'tmax_8': {'long_name': 'Max T - Aug.',\n",
       "  'dtype': 'continuous',\n",
       "  'unit': 'deg.C',\n",
       "  'category': 'Climate'},\n",
       " 'tmax_9': {'long_name': 'Max T - Sep.',\n",
       "  'dtype': 'continuous',\n",
       "  'unit': 'deg.C',\n",
       "  'category': 'Climate'},\n",
       " 'tmin_5': {'long_name': 'Min T - May',\n",
       "  'dtype': 'continuous',\n",
       "  'unit': 'deg.C',\n",
       "  'category': 'Climate'},\n",
       " 'tmin_9': {'long_name': 'Min T - Sep.',\n",
       "  'dtype': 'continuous',\n",
       "  'unit': 'deg.C',\n",
       "  'category': 'Climate'},\n",
       " 'topographic_wetness_index': {'long_name': 'Topographic wetness index',\n",
       "  'dtype': 'continuous',\n",
       "  'unit': '-',\n",
       "  'category': 'Geospatial'},\n",
       " 'total_insolation': {'long_name': 'Potential total incoming solar rad.',\n",
       "  'dtype': 'continuous',\n",
       "  'unit': 'W m-2',\n",
       "  'category': 'Geospatial'},\n",
       " 'valley_depth': {'long_name': 'Valley depth',\n",
       "  'dtype': 'continuous',\n",
       "  'unit': '-',\n",
       "  'category': 'Geospatial'},\n",
       " 'vertical_distance_to_channel_network': {'long_name': 'Vertical distance to channel network',\n",
       "  'dtype': 'continuous',\n",
       "  'unit': 'm',\n",
       "  'category': 'Geospatial'},\n",
       " 'visible_sky': {'long_name': 'Visible sky',\n",
       "  'dtype': 'continuous',\n",
       "  'unit': '%',\n",
       "  'category': 'Geospatial'}}"
      ]
     },
     "execution_count": 34,
     "metadata": {},
     "output_type": "execute_result"
    }
   ],
   "source": [
    "# Lead variable meta info from json\n",
    "import json\n",
    "\n",
    "with open(\"../data/dict/predictors.json\", \"r\", encoding=\"utf-8\") as json_file:\n",
    "    var_dict = json.load(json_file)\n",
    "var_dict"
   ]
  },
  {
   "cell_type": "code",
   "execution_count": 51,
   "metadata": {},
   "outputs": [],
   "source": [
    "# Retrieve other variable categories\n",
    "\n",
    "satellite = landsat_indices + landsat_bands + sentinel_bands + sentinel_indices\n",
    "\n",
    "baseline_land_cover = [\n",
    "    key for key, item in var_dict.items() if item['category'] == \"Baseline land cover\"\n",
    "]\n",
    "climate = [\n",
    "    key for key, item in var_dict.items() if item['category'] == \"Climate\"\n",
    "]\n",
    "geospatial = [\n",
    "    key for key, item in var_dict.items() if item['category'] == \"Geospatial\"\n",
    "]\n",
    "geology = [\n",
    "    key for key, item in var_dict.items() if item['category'] == \"Geology\"\n",
    "]\n",
    "geology.remove(\"geo_norge123\")  # Artifact in data"
   ]
  },
  {
   "cell_type": "code",
   "execution_count": 17,
   "metadata": {},
   "outputs": [],
   "source": [
    "def filter_strings(main_list, *other_lists) -> list:\n",
    "    new_list = []\n",
    "\n",
    "    for string in main_list:\n",
    "        # Check if the string does not exactly match any string in other lists\n",
    "        if all(string != item for sublist in other_lists for item in sublist):\n",
    "            new_list.append(string)\n",
    "\n",
    "    return new_list"
   ]
  },
  {
   "cell_type": "code",
   "execution_count": 52,
   "metadata": {},
   "outputs": [
    {
     "name": "stderr",
     "output_type": "stream",
     "text": [
      "[Parallel(n_jobs=5)]: Using backend LokyBackend with 5 concurrent workers.\n"
     ]
    },
    {
     "name": "stdout",
     "output_type": "stream",
     "text": [
      "[CV] END .................................................... total time=   2.8s\n",
      "[CV] END .................................................... total time=   2.6s\n",
      "[CV] END .................................................... total time=   2.6s\n",
      "[CV] END .................................................... total time=   2.8s\n",
      "[CV] END .................................................... total time=   2.9s\n"
     ]
    },
    {
     "name": "stderr",
     "output_type": "stream",
     "text": [
      "[Parallel(n_jobs=5)]: Done   2 out of   5 | elapsed:    6.7s remaining:   10.1s\n"
     ]
    },
    {
     "name": "stdout",
     "output_type": "stream",
     "text": [
      "Acc: 0.262 (±0.01)\n",
      "Kappa: 0.209 (±0.01)\n",
      "F1-macro: 0.209 (±0.01)\n",
      "\n"
     ]
    },
    {
     "name": "stderr",
     "output_type": "stream",
     "text": [
      "[Parallel(n_jobs=5)]: Done   5 out of   5 | elapsed:    8.2s finished\n"
     ]
    }
   ],
   "source": [
    "# Baseline - climate\n",
    "rf_default = RandomForestClassifier(oob_score=True, n_jobs=10, random_state=221)\n",
    "\n",
    "rf_cv_baselinelc_and_climate = cross_validate(\n",
    "    estimator=rf_default,\n",
    "    X=vt_X[baseline_land_cover + climate],\n",
    "    y=vt_y,\n",
    "    scoring=scores,\n",
    "    return_train_score=True,\n",
    "    error_score=0,\n",
    "    cv=split_indices,\n",
    "    verbose=2,\n",
    "    return_estimator=True,\n",
    "    n_jobs=5\n",
    ")\n",
    "\n",
    "calculate_cv_mean_scores_and_std(rf_cv_baselinelc_and_climate)"
   ]
  },
  {
   "cell_type": "code",
   "execution_count": 53,
   "metadata": {},
   "outputs": [
    {
     "name": "stderr",
     "output_type": "stream",
     "text": [
      "[Parallel(n_jobs=5)]: Using backend LokyBackend with 5 concurrent workers.\n"
     ]
    },
    {
     "name": "stdout",
     "output_type": "stream",
     "text": [
      "[CV] END .................................................... total time=   3.7s\n",
      "[CV] END .................................................... total time=   3.8s\n",
      "[CV] END .................................................... total time=   3.8s\n",
      "[CV] END .................................................... total time=   3.8s\n",
      "[CV] END .................................................... total time=   3.8s\n"
     ]
    },
    {
     "name": "stderr",
     "output_type": "stream",
     "text": [
      "[Parallel(n_jobs=5)]: Done   2 out of   5 | elapsed:    5.1s remaining:    7.7s\n"
     ]
    },
    {
     "name": "stdout",
     "output_type": "stream",
     "text": [
      "Acc: 0.468 (±0.0)\n",
      "Kappa: 0.424 (±0.0)\n",
      "F1-macro: 0.329 (±0.01)\n",
      "\n"
     ]
    },
    {
     "name": "stderr",
     "output_type": "stream",
     "text": [
      "[Parallel(n_jobs=5)]: Done   5 out of   5 | elapsed:    6.3s finished\n"
     ]
    }
   ],
   "source": [
    "# Satellite - climate\n",
    "rf_default = RandomForestClassifier(oob_score=True, n_jobs=10, random_state=221)\n",
    "\n",
    "rf_cv_satellite_and_climate = cross_validate(\n",
    "    estimator=rf_default,\n",
    "    X=vt_X[satellite + climate],\n",
    "    y=vt_y,\n",
    "    scoring=scores,\n",
    "    return_train_score=True,\n",
    "    error_score=0,\n",
    "    cv=split_indices,\n",
    "    verbose=2,\n",
    "    return_estimator=True,\n",
    "    n_jobs=5\n",
    ")\n",
    "\n",
    "calculate_cv_mean_scores_and_std(rf_cv_satellite_and_climate)"
   ]
  },
  {
   "cell_type": "code",
   "execution_count": 54,
   "metadata": {},
   "outputs": [
    {
     "name": "stderr",
     "output_type": "stream",
     "text": [
      "[Parallel(n_jobs=5)]: Using backend LokyBackend with 5 concurrent workers.\n"
     ]
    },
    {
     "name": "stdout",
     "output_type": "stream",
     "text": [
      "[CV] END .................................................... total time=   3.6s\n",
      "[CV] END .................................................... total time=   3.7s\n",
      "[CV] END .................................................... total time=   3.7s\n",
      "[CV] END .................................................... total time=   3.7s\n",
      "[CV] END .................................................... total time=   3.7s\n"
     ]
    },
    {
     "name": "stderr",
     "output_type": "stream",
     "text": [
      "[Parallel(n_jobs=5)]: Done   2 out of   5 | elapsed:    4.9s remaining:    7.4s\n"
     ]
    },
    {
     "name": "stdout",
     "output_type": "stream",
     "text": [
      "Acc: 0.482 (±0.0)\n",
      "Kappa: 0.44 (±0.0)\n",
      "F1-macro: 0.338 (±0.01)\n",
      "\n"
     ]
    },
    {
     "name": "stderr",
     "output_type": "stream",
     "text": [
      "[Parallel(n_jobs=5)]: Done   5 out of   5 | elapsed:    6.1s finished\n"
     ]
    }
   ],
   "source": [
    "# Both LC - climate\n",
    "rf_default = RandomForestClassifier(oob_score=True, n_jobs=10, random_state=221)\n",
    "\n",
    "rf_cv_all_lc_and_climate = cross_validate(\n",
    "    estimator=rf_default,\n",
    "    X=vt_X[satellite + baseline_land_cover + climate],\n",
    "    y=vt_y,\n",
    "    scoring=scores,\n",
    "    return_train_score=True,\n",
    "    error_score=0,\n",
    "    cv=split_indices,\n",
    "    verbose=2,\n",
    "    return_estimator=True,\n",
    "    n_jobs=5\n",
    ")\n",
    "\n",
    "calculate_cv_mean_scores_and_std(rf_cv_all_lc_and_climate)"
   ]
  },
  {
   "cell_type": "code",
   "execution_count": 55,
   "metadata": {},
   "outputs": [
    {
     "name": "stderr",
     "output_type": "stream",
     "text": [
      "[Parallel(n_jobs=5)]: Using backend LokyBackend with 5 concurrent workers.\n"
     ]
    },
    {
     "name": "stdout",
     "output_type": "stream",
     "text": [
      "[CV] END .................................................... total time=   1.7s\n",
      "[CV] END .................................................... total time=   1.7s\n",
      "[CV] END .................................................... total time=   1.8s\n",
      "[CV] END .................................................... total time=   1.8s\n",
      "[CV] END .................................................... total time=   1.9s\n"
     ]
    },
    {
     "name": "stderr",
     "output_type": "stream",
     "text": [
      "[Parallel(n_jobs=5)]: Done   2 out of   5 | elapsed:    3.3s remaining:    5.0s\n"
     ]
    },
    {
     "name": "stdout",
     "output_type": "stream",
     "text": [
      "Acc: 0.304 (±0.0)\n",
      "Kappa: 0.249 (±0.0)\n",
      "F1-macro: 0.21 (±0.0)\n",
      "\n"
     ]
    },
    {
     "name": "stderr",
     "output_type": "stream",
     "text": [
      "[Parallel(n_jobs=5)]: Done   5 out of   5 | elapsed:    4.8s finished\n"
     ]
    }
   ],
   "source": [
    "# Baseline - geospatial\n",
    "rf_default = RandomForestClassifier(oob_score=True, n_jobs=10, random_state=221)\n",
    "\n",
    "rf_cv_baselinelc_and_geospatial = cross_validate(\n",
    "    estimator=rf_default,\n",
    "    X=vt_X[baseline_land_cover + geospatial],\n",
    "    y=vt_y,\n",
    "    scoring=scores,\n",
    "    return_train_score=True,\n",
    "    error_score=0,\n",
    "    cv=split_indices,\n",
    "    verbose=2,\n",
    "    return_estimator=True,\n",
    "    n_jobs=5\n",
    ")\n",
    "\n",
    "calculate_cv_mean_scores_and_std(rf_cv_baselinelc_and_geospatial)"
   ]
  },
  {
   "cell_type": "code",
   "execution_count": 56,
   "metadata": {},
   "outputs": [
    {
     "name": "stderr",
     "output_type": "stream",
     "text": [
      "[Parallel(n_jobs=5)]: Using backend LokyBackend with 5 concurrent workers.\n"
     ]
    },
    {
     "name": "stdout",
     "output_type": "stream",
     "text": [
      "[CV] END .................................................... total time=   3.2s\n",
      "[CV] END .................................................... total time=   3.3s\n",
      "[CV] END .................................................... total time=   3.3s\n",
      "[CV] END .................................................... total time=   3.3s\n",
      "[CV] END .................................................... total time=   3.3s\n"
     ]
    },
    {
     "name": "stderr",
     "output_type": "stream",
     "text": [
      "[Parallel(n_jobs=5)]: Done   2 out of   5 | elapsed:    4.6s remaining:    6.8s\n"
     ]
    },
    {
     "name": "stdout",
     "output_type": "stream",
     "text": [
      "Acc: 0.442 (±0.0)\n",
      "Kappa: 0.393 (±0.0)\n",
      "F1-macro: 0.257 (±0.0)\n",
      "\n"
     ]
    },
    {
     "name": "stderr",
     "output_type": "stream",
     "text": [
      "[Parallel(n_jobs=5)]: Done   5 out of   5 | elapsed:    5.8s finished\n"
     ]
    }
   ],
   "source": [
    "# Satellite - geospatial\n",
    "rf_default = RandomForestClassifier(oob_score=True, n_jobs=10, random_state=221)\n",
    "\n",
    "rf_cv_satellite_and_geospatial = cross_validate(\n",
    "    estimator=rf_default,\n",
    "    X=vt_X[satellite + geospatial],\n",
    "    y=vt_y,\n",
    "    scoring=scores,\n",
    "    return_train_score=True,\n",
    "    error_score=0,\n",
    "    cv=split_indices,\n",
    "    verbose=2,\n",
    "    return_estimator=True,\n",
    "    n_jobs=5\n",
    ")\n",
    "\n",
    "calculate_cv_mean_scores_and_std(rf_cv_satellite_and_geospatial)"
   ]
  },
  {
   "cell_type": "code",
   "execution_count": 57,
   "metadata": {},
   "outputs": [
    {
     "name": "stderr",
     "output_type": "stream",
     "text": [
      "[Parallel(n_jobs=5)]: Using backend LokyBackend with 5 concurrent workers.\n"
     ]
    },
    {
     "name": "stdout",
     "output_type": "stream",
     "text": [
      "[CV] END .................................................... total time=   2.9s\n",
      "[CV] END .................................................... total time=   3.1s\n",
      "[CV] END .................................................... total time=   3.1s\n",
      "[CV] END .................................................... total time=   3.1s\n",
      "[CV] END .................................................... total time=   3.3s\n"
     ]
    },
    {
     "name": "stderr",
     "output_type": "stream",
     "text": [
      "[Parallel(n_jobs=5)]: Done   2 out of   5 | elapsed:    4.3s remaining:    6.4s\n"
     ]
    },
    {
     "name": "stdout",
     "output_type": "stream",
     "text": [
      "Acc: 0.462 (±0.0)\n",
      "Kappa: 0.416 (±0.0)\n",
      "F1-macro: 0.274 (±0.0)\n",
      "\n"
     ]
    },
    {
     "name": "stderr",
     "output_type": "stream",
     "text": [
      "[Parallel(n_jobs=5)]: Done   5 out of   5 | elapsed:    5.4s finished\n"
     ]
    }
   ],
   "source": [
    "# Both - geospatial\n",
    "\n",
    "rf_default = RandomForestClassifier(oob_score=True, n_jobs=10, random_state=221)\n",
    "\n",
    "rf_cv_all_lc_and_geospatial = cross_validate(\n",
    "    estimator=rf_default,\n",
    "    X=vt_X[satellite + baseline_land_cover + geospatial],\n",
    "    y=vt_y,\n",
    "    scoring=scores,\n",
    "    return_train_score=True,\n",
    "    error_score=0,\n",
    "    cv=split_indices,\n",
    "    verbose=2,\n",
    "    return_estimator=True,\n",
    "    n_jobs=5\n",
    ")\n",
    "\n",
    "calculate_cv_mean_scores_and_std(rf_cv_all_lc_and_geospatial)"
   ]
  },
  {
   "cell_type": "code",
   "execution_count": 58,
   "metadata": {},
   "outputs": [
    {
     "name": "stderr",
     "output_type": "stream",
     "text": [
      "[Parallel(n_jobs=5)]: Using backend LokyBackend with 5 concurrent workers.\n"
     ]
    },
    {
     "name": "stdout",
     "output_type": "stream",
     "text": [
      "[CV] END .................................................... total time=   0.8s\n",
      "[CV] END .................................................... total time=   0.8s\n",
      "[CV] END .................................................... total time=   0.8s\n",
      "[CV] END .................................................... total time=   0.9s\n",
      "[CV] END .................................................... total time=   0.8s\n"
     ]
    },
    {
     "name": "stderr",
     "output_type": "stream",
     "text": [
      "[Parallel(n_jobs=5)]: Done   2 out of   5 | elapsed:    1.7s remaining:    2.6s\n"
     ]
    },
    {
     "name": "stdout",
     "output_type": "stream",
     "text": [
      "Acc: 0.284 (±0.01)\n",
      "Kappa: 0.225 (±0.01)\n",
      "F1-macro: 0.189 (±0.01)\n",
      "\n"
     ]
    },
    {
     "name": "stderr",
     "output_type": "stream",
     "text": [
      "[Parallel(n_jobs=5)]: Done   5 out of   5 | elapsed:    2.5s finished\n"
     ]
    }
   ],
   "source": [
    "# Baseline - geology\n",
    "\n",
    "rf_default = RandomForestClassifier(oob_score=True, n_jobs=10, random_state=221)\n",
    "\n",
    "rf_cv_baselinelc_and_geology = cross_validate(\n",
    "    estimator=rf_default,\n",
    "    X=vt_X[baseline_land_cover + geology],\n",
    "    y=vt_y,\n",
    "    scoring=scores,\n",
    "    return_train_score=True,\n",
    "    error_score=0,\n",
    "    cv=split_indices,\n",
    "    verbose=2,\n",
    "    return_estimator=True,\n",
    "    n_jobs=5\n",
    ")\n",
    "\n",
    "calculate_cv_mean_scores_and_std(rf_cv_baselinelc_and_geology)"
   ]
  },
  {
   "cell_type": "code",
   "execution_count": 59,
   "metadata": {},
   "outputs": [
    {
     "name": "stderr",
     "output_type": "stream",
     "text": [
      "[Parallel(n_jobs=5)]: Using backend LokyBackend with 5 concurrent workers.\n"
     ]
    },
    {
     "name": "stdout",
     "output_type": "stream",
     "text": [
      "[CV] END .................................................... total time=   2.6s\n",
      "[CV] END .................................................... total time=   2.6s\n",
      "[CV] END .................................................... total time=   2.7s\n",
      "[CV] END .................................................... total time=   2.7s\n",
      "[CV] END .................................................... total time=   2.8s\n"
     ]
    },
    {
     "name": "stderr",
     "output_type": "stream",
     "text": [
      "[Parallel(n_jobs=5)]: Done   2 out of   5 | elapsed:    4.1s remaining:    6.1s\n"
     ]
    },
    {
     "name": "stdout",
     "output_type": "stream",
     "text": [
      "Acc: 0.414 (±0.01)\n",
      "Kappa: 0.362 (±0.01)\n",
      "F1-macro: 0.226 (±0.01)\n",
      "\n"
     ]
    },
    {
     "name": "stderr",
     "output_type": "stream",
     "text": [
      "[Parallel(n_jobs=5)]: Done   5 out of   5 | elapsed:    5.3s finished\n"
     ]
    }
   ],
   "source": [
    "# Satellite - geology\n",
    "\n",
    "rf_default = RandomForestClassifier(oob_score=True, n_jobs=10, random_state=221)\n",
    "\n",
    "rf_cv_satellite_and_geology = cross_validate(\n",
    "    estimator=rf_default,\n",
    "    X=vt_X[satellite + geology],\n",
    "    y=vt_y,\n",
    "    scoring=scores,\n",
    "    return_train_score=True,\n",
    "    error_score=0,\n",
    "    cv=split_indices,\n",
    "    verbose=2,\n",
    "    return_estimator=True,\n",
    "    n_jobs=5\n",
    ")\n",
    "\n",
    "calculate_cv_mean_scores_and_std(rf_cv_satellite_and_geology)"
   ]
  },
  {
   "cell_type": "code",
   "execution_count": 60,
   "metadata": {},
   "outputs": [
    {
     "name": "stderr",
     "output_type": "stream",
     "text": [
      "[Parallel(n_jobs=5)]: Using backend LokyBackend with 5 concurrent workers.\n"
     ]
    },
    {
     "name": "stdout",
     "output_type": "stream",
     "text": [
      "[CV] END .................................................... total time=   2.7s\n",
      "[CV] END .................................................... total time=   2.8s\n",
      "[CV] END .................................................... total time=   2.9s\n",
      "[CV] END .................................................... total time=   2.9s\n",
      "[CV] END .................................................... total time=   3.0s\n"
     ]
    },
    {
     "name": "stderr",
     "output_type": "stream",
     "text": [
      "[Parallel(n_jobs=5)]: Done   2 out of   5 | elapsed:    4.0s remaining:    6.0s\n"
     ]
    },
    {
     "name": "stdout",
     "output_type": "stream",
     "text": [
      "Acc: 0.443 (±0.0)\n",
      "Kappa: 0.395 (±0.01)\n",
      "F1-macro: 0.255 (±0.01)\n",
      "\n"
     ]
    },
    {
     "name": "stderr",
     "output_type": "stream",
     "text": [
      "[Parallel(n_jobs=5)]: Done   5 out of   5 | elapsed:    5.3s finished\n"
     ]
    }
   ],
   "source": [
    "# Both - geology\n",
    "\n",
    "rf_default = RandomForestClassifier(oob_score=True, n_jobs=10, random_state=221)\n",
    "\n",
    "rf_cv_all_lc_and_geology = cross_validate(\n",
    "    estimator=rf_default,\n",
    "    X=vt_X[satellite + baseline_land_cover + geology],\n",
    "    y=vt_y,\n",
    "    scoring=scores,\n",
    "    return_train_score=True,\n",
    "    error_score=0,\n",
    "    cv=split_indices,\n",
    "    verbose=2,\n",
    "    return_estimator=True,\n",
    "    n_jobs=5\n",
    ")\n",
    "\n",
    "calculate_cv_mean_scores_and_std(rf_cv_all_lc_and_geology)"
   ]
  },
  {
   "cell_type": "code",
   "execution_count": 61,
   "metadata": {},
   "outputs": [
    {
     "name": "stderr",
     "output_type": "stream",
     "text": [
      "[Parallel(n_jobs=5)]: Using backend LokyBackend with 5 concurrent workers.\n"
     ]
    },
    {
     "name": "stdout",
     "output_type": "stream",
     "text": [
      "[CV] END .................................................... total time=   2.8s\n",
      "[CV] END .................................................... total time=   2.9s\n",
      "[CV] END .................................................... total time=   2.9s\n",
      "[CV] END .................................................... total time=   3.0s\n",
      "[CV] END .................................................... total time=   3.0s\n"
     ]
    },
    {
     "name": "stderr",
     "output_type": "stream",
     "text": [
      "[Parallel(n_jobs=5)]: Done   2 out of   5 | elapsed:    4.4s remaining:    6.6s\n"
     ]
    },
    {
     "name": "stdout",
     "output_type": "stream",
     "text": [
      "Acc: 0.287 (±0.0)\n",
      "Kappa: 0.235 (±0.0)\n",
      "F1-macro: 0.227 (±0.01)\n",
      "\n"
     ]
    },
    {
     "name": "stderr",
     "output_type": "stream",
     "text": [
      "[Parallel(n_jobs=5)]: Done   5 out of   5 | elapsed:    5.7s finished\n"
     ]
    }
   ],
   "source": [
    "# Baseline - all\n",
    "\n",
    "rf_default = RandomForestClassifier(oob_score=True, n_jobs=10, random_state=221)\n",
    "\n",
    "rf_cv_baselinelc_and_all = cross_validate(\n",
    "    estimator=rf_default,\n",
    "    X=vt_X[baseline_land_cover + climate + geospatial + geology],\n",
    "    y=vt_y,\n",
    "    scoring=scores,\n",
    "    return_train_score=True,\n",
    "    error_score=0,\n",
    "    cv=split_indices,\n",
    "    verbose=2,\n",
    "    return_estimator=True,\n",
    "    n_jobs=5\n",
    ")\n",
    "\n",
    "calculate_cv_mean_scores_and_std(rf_cv_baselinelc_and_all)"
   ]
  },
  {
   "cell_type": "code",
   "execution_count": 62,
   "metadata": {},
   "outputs": [
    {
     "name": "stderr",
     "output_type": "stream",
     "text": [
      "[Parallel(n_jobs=5)]: Using backend LokyBackend with 5 concurrent workers.\n"
     ]
    },
    {
     "name": "stdout",
     "output_type": "stream",
     "text": [
      "[CV] END .................................................... total time=   3.8s\n",
      "[CV] END .................................................... total time=   3.9s\n",
      "[CV] END .................................................... total time=   3.8s\n",
      "[CV] END .................................................... total time=   4.0s\n",
      "[CV] END .................................................... total time=   4.1s\n"
     ]
    },
    {
     "name": "stderr",
     "output_type": "stream",
     "text": [
      "[Parallel(n_jobs=5)]: Done   2 out of   5 | elapsed:    5.1s remaining:    7.7s\n"
     ]
    },
    {
     "name": "stdout",
     "output_type": "stream",
     "text": [
      "Acc: 0.472 (±0.0)\n",
      "Kappa: 0.428 (±0.0)\n",
      "F1-macro: 0.341 (±0.01)\n",
      "\n"
     ]
    },
    {
     "name": "stderr",
     "output_type": "stream",
     "text": [
      "[Parallel(n_jobs=5)]: Done   5 out of   5 | elapsed:    6.3s finished\n"
     ]
    }
   ],
   "source": [
    "# Satellite - all\n",
    "\n",
    "rf_default = RandomForestClassifier(oob_score=True, n_jobs=10, random_state=221)\n",
    "\n",
    "rf_cv_satellite_and_all = cross_validate(\n",
    "    estimator=rf_default,\n",
    "    X=vt_X[satellite + climate + geospatial + geology],\n",
    "    y=vt_y,\n",
    "    scoring=scores,\n",
    "    return_train_score=True,\n",
    "    error_score=0,\n",
    "    cv=split_indices,\n",
    "    verbose=2,\n",
    "    return_estimator=True,\n",
    "    n_jobs=5\n",
    ")\n",
    "\n",
    "calculate_cv_mean_scores_and_std(rf_cv_satellite_and_all)"
   ]
  },
  {
   "cell_type": "code",
   "execution_count": 64,
   "metadata": {},
   "outputs": [
    {
     "name": "stderr",
     "output_type": "stream",
     "text": [
      "[Parallel(n_jobs=5)]: Using backend LokyBackend with 5 concurrent workers.\n"
     ]
    },
    {
     "name": "stdout",
     "output_type": "stream",
     "text": [
      "[CV] END .................................................... total time=   3.5s\n",
      "[CV] END .................................................... total time=   3.6s\n",
      "[CV] END .................................................... total time=   3.6s\n",
      "[CV] END .................................................... total time=   3.7s\n",
      "[CV] END .................................................... total time=   3.8s\n"
     ]
    },
    {
     "name": "stderr",
     "output_type": "stream",
     "text": [
      "[Parallel(n_jobs=5)]: Done   2 out of   5 | elapsed:    4.9s remaining:    7.3s\n"
     ]
    },
    {
     "name": "stdout",
     "output_type": "stream",
     "text": [
      "Acc: 0.485 (±0.01)\n",
      "Kappa: 0.442 (±0.01)\n",
      "F1-macro: 0.346 (±0.01)\n",
      "\n"
     ]
    },
    {
     "name": "stderr",
     "output_type": "stream",
     "text": [
      "[Parallel(n_jobs=5)]: Done   5 out of   5 | elapsed:    6.1s finished\n"
     ]
    }
   ],
   "source": [
    "# ALL ALL\n",
    "\n",
    "rf_default = RandomForestClassifier(oob_score=True, n_jobs=10, random_state=221)\n",
    "\n",
    "rf_cv_all_lc_and_all = cross_validate(\n",
    "    estimator=rf_default,\n",
    "    X=vt_X[satellite + baseline_land_cover + climate + geospatial + geology],\n",
    "    y=vt_y,\n",
    "    scoring=scores,\n",
    "    return_train_score=True,\n",
    "    error_score=0,\n",
    "    cv=split_indices,\n",
    "    verbose=2,\n",
    "    return_estimator=True,\n",
    "    n_jobs=5\n",
    ")\n",
    "\n",
    "calculate_cv_mean_scores_and_std(rf_cv_all_lc_and_all)"
   ]
  },
  {
   "cell_type": "code",
   "execution_count": 19,
   "metadata": {},
   "outputs": [
    {
     "name": "stderr",
     "output_type": "stream",
     "text": [
      "[Parallel(n_jobs=5)]: Using backend LokyBackend with 5 concurrent workers.\n"
     ]
    },
    {
     "name": "stdout",
     "output_type": "stream",
     "text": [
      "[CV] END .................................................... total time=   2.3s\n",
      "[CV] END .................................................... total time=   2.2s\n",
      "[CV] END .................................................... total time=   2.3s\n",
      "[CV] END .................................................... total time=   2.3s\n",
      "[CV] END .................................................... total time=   2.3s\n"
     ]
    },
    {
     "name": "stderr",
     "output_type": "stream",
     "text": [
      "[Parallel(n_jobs=5)]: Done   2 out of   5 | elapsed:    4.9s remaining:    7.4s\n",
      "[Parallel(n_jobs=5)]: Done   5 out of   5 | elapsed:    6.1s finished\n"
     ]
    },
    {
     "data": {
      "text/plain": [
       "{'fit_time': array([2.2359612 , 2.19450569, 2.141047  , 2.19405079, 2.22013211]),\n",
       " 'score_time': array([0.07535315, 0.09609652, 0.06793475, 0.07760453, 0.06911612]),\n",
       " 'estimator': [RandomForestClassifier(n_jobs=10, oob_score=True, random_state=221),\n",
       "  RandomForestClassifier(n_jobs=10, oob_score=True, random_state=221),\n",
       "  RandomForestClassifier(n_jobs=10, oob_score=True, random_state=221),\n",
       "  RandomForestClassifier(n_jobs=10, oob_score=True, random_state=221),\n",
       "  RandomForestClassifier(n_jobs=10, oob_score=True, random_state=221)],\n",
       " 'test_cohen_kappa': array([0.24825743, 0.23079806, 0.22752567, 0.23381036, 0.23253759]),\n",
       " 'train_cohen_kappa': array([0.94593854, 0.94501433, 0.94913399, 0.94776994, 0.945477  ]),\n",
       " 'test_accuracy': array([0.2994363 , 0.28365276, 0.28049605, 0.28642309, 0.28552097]),\n",
       " 'train_accuracy': array([0.9494306 , 0.94858496, 0.95241854, 0.95112464, 0.94898247]),\n",
       " 'test_f1_macro': array([0.23367854, 0.22858239, 0.23012238, 0.22314996, 0.21352775]),\n",
       " 'train_f1_macro': array([0.9493531 , 0.94666857, 0.95422185, 0.95076887, 0.94961694])}"
      ]
     },
     "execution_count": 19,
     "metadata": {},
     "output_type": "execute_result"
    }
   ],
   "source": [
    "# Only background vars\n",
    "rf_default = RandomForestClassifier(oob_score=True, n_jobs=10, random_state=221)\n",
    "\n",
    "background_vars = filter_strings(\n",
    "    vt_X.columns,\n",
    "    landsat_indices,\n",
    "    landsat_bands,\n",
    "    sentinel_bands,\n",
    "    sentinel_indices\n",
    ")\n",
    "\n",
    "rf_cv_only_background = cross_validate(\n",
    "    estimator=rf_default,\n",
    "    X=vt_X[background_vars],\n",
    "    y=vt_y,\n",
    "    scoring=scores,\n",
    "    return_train_score=True,\n",
    "    error_score=0,\n",
    "    cv=split_indices,\n",
    "    verbose=2,\n",
    "    return_estimator=True,\n",
    "    n_jobs=5\n",
    ")\n",
    "\n",
    "rf_cv_only_background"
   ]
  },
  {
   "cell_type": "code",
   "execution_count": 24,
   "metadata": {},
   "outputs": [
    {
     "name": "stderr",
     "output_type": "stream",
     "text": [
      "[Parallel(n_jobs=5)]: Using backend LokyBackend with 5 concurrent workers.\n"
     ]
    },
    {
     "name": "stdout",
     "output_type": "stream",
     "text": [
      "[CV] END .................................................... total time=   2.3s\n",
      "[CV] END .................................................... total time=   2.3s\n",
      "[CV] END .................................................... total time=   2.4s\n",
      "[CV] END .................................................... total time=   2.4s\n",
      "[CV] END .................................................... total time=   2.5s\n"
     ]
    },
    {
     "name": "stderr",
     "output_type": "stream",
     "text": [
      "[Parallel(n_jobs=5)]: Done   2 out of   5 | elapsed:    3.6s remaining:    5.4s\n",
      "[Parallel(n_jobs=5)]: Done   5 out of   5 | elapsed:    4.8s finished\n"
     ]
    },
    {
     "data": {
      "text/plain": [
       "{'fit_time': array([2.2031641 , 2.45800185, 2.31414342, 2.20112753, 2.35328627]),\n",
       " 'score_time': array([0.06903028, 0.07495713, 0.07046413, 0.06842089, 0.06910133]),\n",
       " 'estimator': [RandomForestClassifier(n_jobs=10, oob_score=True, random_state=221),\n",
       "  RandomForestClassifier(n_jobs=10, oob_score=True, random_state=221),\n",
       "  RandomForestClassifier(n_jobs=10, oob_score=True, random_state=221),\n",
       "  RandomForestClassifier(n_jobs=10, oob_score=True, random_state=221),\n",
       "  RandomForestClassifier(n_jobs=10, oob_score=True, random_state=221)],\n",
       " 'test_cohen_kappa': array([0.21751498, 0.20865586, 0.20534848, 0.20759496, 0.20029498]),\n",
       " 'train_cohen_kappa': array([0.9459449 , 0.94501474, 0.94913539, 0.94777451, 0.94546993]),\n",
       " 'test_accuracy': array([0.27080045, 0.26290868, 0.25952649, 0.26206585, 0.25552548]),\n",
       " 'train_accuracy': array([0.9494306 , 0.94858496, 0.95241854, 0.95112464, 0.94898247]),\n",
       " 'test_f1_macro': array([0.21857227, 0.21661826, 0.20831162, 0.20028411, 0.19171984]),\n",
       " 'train_f1_macro': array([0.94946081, 0.94659229, 0.95441366, 0.95084557, 0.94952023])}"
      ]
     },
     "execution_count": 24,
     "metadata": {},
     "output_type": "execute_result"
    }
   ],
   "source": [
    "# Only background vars\n",
    "rf_default = RandomForestClassifier(oob_score=True, n_jobs=10, random_state=221)\n",
    "\n",
    "background_no_landcover = filter_strings(\n",
    "    background_vars,\n",
    "    baseline_land_cover\n",
    ")\n",
    "\n",
    "rf_cv_background_no_lc = cross_validate(\n",
    "    estimator=rf_default,\n",
    "    X=vt_X[background_no_landcover],\n",
    "    y=vt_y,\n",
    "    scoring=scores,\n",
    "    return_train_score=True,\n",
    "    error_score=0,\n",
    "    cv=split_indices,\n",
    "    verbose=2,\n",
    "    return_estimator=True,\n",
    "    n_jobs=5\n",
    ")\n",
    "\n",
    "rf_cv_background_no_lc"
   ]
  },
  {
   "cell_type": "code",
   "execution_count": 25,
   "metadata": {},
   "outputs": [
    {
     "name": "stderr",
     "output_type": "stream",
     "text": [
      "[Parallel(n_jobs=5)]: Using backend LokyBackend with 5 concurrent workers.\n"
     ]
    },
    {
     "name": "stdout",
     "output_type": "stream",
     "text": [
      "[CV] END .................................................... total time=   2.9s\n",
      "[CV] END .................................................... total time=   3.1s\n",
      "[CV] END .................................................... total time=   3.1s\n",
      "[CV] END .................................................... total time=   3.2s\n",
      "[CV] END .................................................... total time=   3.2s\n"
     ]
    },
    {
     "name": "stderr",
     "output_type": "stream",
     "text": [
      "[Parallel(n_jobs=5)]: Done   2 out of   5 | elapsed:    4.0s remaining:    6.0s\n",
      "[Parallel(n_jobs=5)]: Done   5 out of   5 | elapsed:    5.0s finished\n"
     ]
    },
    {
     "data": {
      "text/plain": [
       "{'fit_time': array([3.07586312, 3.042413  , 3.07401705, 2.82046437, 3.09088945]),\n",
       " 'score_time': array([0.07173324, 0.07513905, 0.0831039 , 0.07210803, 0.07105422]),\n",
       " 'estimator': [RandomForestClassifier(n_jobs=10, oob_score=True, random_state=221),\n",
       "  RandomForestClassifier(n_jobs=10, oob_score=True, random_state=221),\n",
       "  RandomForestClassifier(n_jobs=10, oob_score=True, random_state=221),\n",
       "  RandomForestClassifier(n_jobs=10, oob_score=True, random_state=221),\n",
       "  RandomForestClassifier(n_jobs=10, oob_score=True, random_state=221)],\n",
       " 'test_cohen_kappa': array([0.42950438, 0.42568168, 0.42537766, 0.43404751, 0.42609165]),\n",
       " 'train_cohen_kappa': array([1.        , 0.99993974, 1.        , 0.99993977, 0.99993977]),\n",
       " 'test_accuracy': array([0.47305524, 0.4692221 , 0.46967306, 0.47767253, 0.47045557]),\n",
       " 'train_accuracy': array([1.        , 0.99994362, 1.        , 0.99994363, 0.99994363]),\n",
       " 'test_f1_macro': array([0.34851809, 0.32859786, 0.32748331, 0.33801154, 0.31519343]),\n",
       " 'train_f1_macro': array([1.        , 0.99992157, 1.        , 0.99991622, 0.99992228])}"
      ]
     },
     "execution_count": 25,
     "metadata": {},
     "output_type": "execute_result"
    }
   ],
   "source": [
    "# Background + satellite\n",
    "rf_default = RandomForestClassifier(oob_score=True, n_jobs=10, random_state=221)\n",
    "\n",
    "rf_cv_background_no_lc_sat = cross_validate(\n",
    "    estimator=rf_default,\n",
    "    X=vt_X[\n",
    "        background_no_landcover +\n",
    "        landsat_indices +\n",
    "        landsat_bands +\n",
    "        sentinel_bands +\n",
    "        sentinel_indices\n",
    "    ],\n",
    "    y=vt_y,\n",
    "    scoring=scores,\n",
    "    return_train_score=True,\n",
    "    error_score=0,\n",
    "    cv=split_indices,\n",
    "    verbose=2,\n",
    "    return_estimator=True,\n",
    "    n_jobs=5\n",
    ")\n",
    "\n",
    "rf_cv_background_no_lc_sat"
   ]
  },
  {
   "cell_type": "code",
   "execution_count": 36,
   "metadata": {},
   "outputs": [
    {
     "data": {
      "image/png": "[encoded data removed]",
      "text/plain": [
       "<Figure size 1889.76x944.882 with 3 Axes>"
      ]
     },
     "metadata": {},
     "output_type": "display_data"
    }
   ],
   "source": [
    "# PLOT\n",
    "# Create plot\n",
    "import matplotlib.pyplot as plt\n",
    "\n",
    "test_score_columns = [\"test_\"+x for x in scores.keys()]\n",
    "\n",
    "fig, axes = plt.subplots(\n",
    "    nrows=1,\n",
    "    ncols=3,\n",
    "    sharex='all',\n",
    "    sharey='all',\n",
    "    figsize=(16/2.54, 8/2.54),\n",
    "    dpi=300\n",
    ")\n",
    "\n",
    "boxprops = dict(\n",
    "    linestyle='-',\n",
    "    linewidth=1,\n",
    "    color='black',\n",
    "    facecolor='white'\n",
    ")\n",
    "\n",
    "    \n",
    "axes[0].boxplot(\n",
    "    pd.DataFrame(rf_cv_background_no_lc)[test_score_columns],\n",
    "    boxprops=boxprops,\n",
    "    patch_artist = True,\n",
    ")\n",
    "\n",
    "axes[1].boxplot(\n",
    "    pd.DataFrame(rf_cv_only_background)[test_score_columns],\n",
    "    boxprops=boxprops,\n",
    "    patch_artist = True,\n",
    ")\n",
    "\n",
    "axes[2].boxplot(\n",
    "    pd.DataFrame(rf_cv_background_no_lc_sat)[test_score_columns],\n",
    "    boxprops=boxprops,\n",
    "    patch_artist = True,\n",
    ")\n",
    "\n",
    "axes[0].set_title(\"Background wo/LC\")\n",
    "axes[1].set_title(\"Background\")\n",
    "axes[2].set_title(\"Background wo/LC\\n+ satellite\")\n",
    "\n",
    "for i in range(3):\n",
    "    axes[i].set_xticks([1, 2, 3])\n",
    "    axes[i].set_xticklabels(\n",
    "        [\"κ\", \"Acc.\", \"F$_{1}$\\nmacro\"],\n",
    "        fontsize=9\n",
    "    )\n",
    "\n",
    "for ax in axes.flatten():\n",
    "    ax.grid(\n",
    "        axis='y',\n",
    "        linestyle='--',\n",
    "        linewidth=0.7,\n",
    "        zorder=-1\n",
    "    )\n",
    "\n",
    "fig.tight_layout()\n",
    "fig.savefig(\"../results/plots/bgvars_performance.png\")"
   ]
  },
  {
   "cell_type": "code",
   "execution_count": null,
   "metadata": {},
   "outputs": [],
   "source": [
    "# SAVE WORKSPACE\n",
    "import dill                            #pip install dill --user\n",
    "filename = 'globalsave.pkl'\n",
    "dill.dump_session(filename)\n",
    "\n",
    "# and to load the session again:\n",
    "#dill.load_session(filename)"
   ]
  }
 ],
 "metadata": {
  "kernelspec": {
   "display_name": "Python 3",
   "language": "python",
   "name": "python3"
  },
  "language_info": {
   "codemirror_mode": {
    "name": "ipython",
    "version": 3
   },
   "file_extension": ".py",
   "mimetype": "text/x-python",
   "name": "python",
   "nbconvert_exporter": "python",
   "pygments_lexer": "ipython3",
   "version": "3.11.5"
  },
  "orig_nbformat": 4
 },
 "nbformat": 4,
 "nbformat_minor": 2
}
