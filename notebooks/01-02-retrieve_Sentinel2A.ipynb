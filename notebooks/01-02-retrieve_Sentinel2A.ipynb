{
 "cells": [
  {
   "cell_type": "markdown",
   "id": "affecting-singer",
   "metadata": {},
   "source": [
    "# Use the Google Earth Engine API to retrieve Sentinel-2 surface reflectance, calculate spectral indices, and extract values at VT occurrences\n",
    "#### 0. Set up authentification key (Requires GEE account, one-time execution)"
   ]
  },
  {
   "cell_type": "code",
   "execution_count": null,
   "id": "neural-audit",
   "metadata": {},
   "outputs": [],
   "source": [
    "#!earthengine authenticate # Uncomment to execute, only needs to be done once."
   ]
  },
  {
   "cell_type": "markdown",
   "id": "quick-wallace",
   "metadata": {},
   "source": [
    "## 1. Import and initialize Google Earth Engine and helpers"
   ]
  },
  {
   "cell_type": "code",
   "execution_count": 1,
   "id": "green-correspondence",
   "metadata": {},
   "outputs": [],
   "source": [
    "import ee\n",
    "ee.Initialize()"
   ]
  },
  {
   "cell_type": "code",
   "execution_count": 2,
   "id": "valued-charleston",
   "metadata": {},
   "outputs": [
    {
     "name": "stdout",
     "output_type": "stream",
     "text": [
      "lassekee\n"
     ]
    }
   ],
   "source": [
    "# Retrieve GEE acount information\n",
    "project_credentials = !earthengine ls\n",
    "# Extract user name\n",
    "user_name = project_credentials.s.split(\"/\")[-1]\n",
    "print(user_name)"
   ]
  },
  {
   "cell_type": "code",
   "execution_count": 3,
   "id": "overall-width",
   "metadata": {},
   "outputs": [],
   "source": [
    "from src.data import eehelpers as eeh"
   ]
  },
  {
   "cell_type": "markdown",
   "id": "human-stone",
   "metadata": {},
   "source": [
    "## 2. Load Sentinel-2A imagery\n",
    "##### Define date filter\n",
    "<span style=\"color:red\">Future idea: include additional indices and points in time? E.g., snow indices in spring as a potential predictor for snow bed vegetation?</span>"
   ]
  },
  {
   "cell_type": "code",
   "execution_count": 4,
   "id": "educated-architect",
   "metadata": {},
   "outputs": [],
   "source": [
    "# Growing seasons (JJA) in available time window\n",
    "\"\"\"\n",
    "date_filter_gs2017 = ee.Filter.date('2017-06-01', '2017-08-31')\n",
    "date_filter_gs2018 = ee.Filter.date('2018-06-01', '2018-08-31')\n",
    "date_filter_gs2019 = ee.Filter.date('2019-06-01', '2019-08-31')\n",
    "date_filter_gs2020 = ee.Filter.date('2020-06-01', '2020-08-31')\n",
    "date_filter_gs2021 = ee.Filter.date('2021-06-01', '2021-08-31')\n",
    "\n",
    "# Combine all dates to form multi year composite\n",
    "date_filter_gs2017to2021 = ee.Filter.Or(date_filter_gs2017,\n",
    "                                        date_filter_gs2018,\n",
    "                                        date_filter_gs2019,\n",
    "                                        date_filter_gs2020,\n",
    "                                        date_filter_gs2021)\n",
    "#.filter(date_filter_gs2017to2021) \\\n",
    "\"\"\"\n",
    "# Define date filter\n",
    "start_date_str = \"2017-06-01\"  # First day to use, inclusive\n",
    "end_date_str = \"2021-09-01\"  # Last day to use, exclusive\n",
    "# Months to subset, growing season\n",
    "gs_start_month = 6  # Corresponds to June\n",
    "gs_end_month = 8  # Corresponds to August"
   ]
  },
  {
   "cell_type": "markdown",
   "id": "ignored-gazette",
   "metadata": {},
   "source": [
    "##### Retrieve predefined simple Norway geometry to mask tiles"
   ]
  },
  {
   "cell_type": "code",
   "execution_count": 5,
   "id": "subject-senator",
   "metadata": {},
   "outputs": [],
   "source": [
    "nor_geometry = eeh.get_norway_geometry()"
   ]
  },
  {
   "cell_type": "markdown",
   "id": "activated-mistake",
   "metadata": {},
   "source": [
    "#### Retrieve Sentinel-2 surface reflectance data"
   ]
  },
  {
   "cell_type": "code",
   "execution_count": 6,
   "id": "integral-update",
   "metadata": {},
   "outputs": [],
   "source": [
    "# Filter dates, clouds, bounds, and calculate spectral indices.\n",
    "collection_gs2017to2021 = ee.ImageCollection('COPERNICUS/S2_SR') \\\n",
    ".filterDate(start_date_str, end_date_str) \\\n",
    ".filter(ee.Filter.calendarRange(gs_start_month, gs_end_month, 'month')) \\\n",
    ".filterBounds(nor_geometry) \\\n",
    ".filter(ee.Filter.lt('CLOUDY_PIXEL_PERCENTAGE', 20)) \\\n",
    ".map(eeh.mask_clouds_sentinel2) \\\n",
    ".map(eeh.clip_to_nor_geometry)"
   ]
  },
  {
   "cell_type": "markdown",
   "id": "aquatic-alexandria",
   "metadata": {},
   "source": [
    "#### Calculate 5th and 95th quantiles to filter outliers"
   ]
  },
  {
   "cell_type": "code",
   "execution_count": 8,
   "id": "earlier-worse",
   "metadata": {},
   "outputs": [],
   "source": [
    "bottom_quantile_img, top_quantile_img = \\\n",
    "eeh.get_lower_and_upper_quantiles(\n",
    "    img_collection=collection_gs2017to2021,\n",
    "    lower=5, \n",
    "    upper=95\n",
    ")"
   ]
  },
  {
   "cell_type": "markdown",
   "id": "grateful-murray",
   "metadata": {},
   "source": [
    "#### Replace outliers in each image with quantile values"
   ]
  },
  {
   "cell_type": "code",
   "execution_count": 9,
   "id": "metropolitan-glenn",
   "metadata": {},
   "outputs": [],
   "source": [
    "collection_gs2017to2021 = collection_gs2017to2021 \\\n",
    ".map(lambda img: img.updateMask(img.lt(top_quantile_img))) \\\n",
    ".map(lambda img: img.unmask(top_quantile_img)) \\\n",
    ".map(lambda img: img.updateMask(img.gt(bottom_quantile_img))) \\\n",
    ".map(lambda img: img.unmask(bottom_quantile_img))"
   ]
  },
  {
   "cell_type": "markdown",
   "id": "theoretical-fishing",
   "metadata": {},
   "source": [
    "#### Calculate spectral indices for each filtered images"
   ]
  },
  {
   "cell_type": "code",
   "execution_count": 10,
   "id": "faced-devon",
   "metadata": {
    "tags": []
   },
   "outputs": [],
   "source": [
    "collection_gs2017to2021 = collection_gs2017to2021 \\\n",
    ".map(eeh.map_ndvi_sentinel2) \\\n",
    ".map(eeh.map_gndvi_sentinel2) \\\n",
    ".map(eeh.map_evi_sentinel2) \\\n",
    ".map(eeh.map_savi_sentinel2) \\\n",
    ".map(eeh.map_ndmi_sentinel2)"
   ]
  },
  {
   "cell_type": "code",
   "execution_count": 11,
   "id": "653f694f-22fa-473c-a5a9-695d62954509",
   "metadata": {},
   "outputs": [
    {
     "data": {
      "text/plain": [
       "6790"
      ]
     },
     "execution_count": 11,
     "metadata": {},
     "output_type": "execute_result"
    }
   ],
   "source": [
    "# Print number of images in collection\n",
    "collection_gs2017to2021.size().getInfo()"
   ]
  },
  {
   "cell_type": "code",
   "execution_count": 14,
   "id": "f23ef17a-73f3-47e0-8ba0-796e7302161c",
   "metadata": {},
   "outputs": [
    {
     "name": "stdout",
     "output_type": "stream",
     "text": [
      "Band names:\n",
      "B1; B2; B3; B4; B5; B6; B7; B8; B8A; B9; B11; B12; NDVI; GNDVI; EVI; SAVI; NDMI; \n",
      "Spectral indices:\n",
      "NDVI; GNDVI; EVI; SAVI; NDMI; "
     ]
    }
   ],
   "source": [
    "# Also load names of spectral indices\n",
    "import json\n",
    "\n",
    "with open('../data/dict/spectral_indices.json') as json_file:\n",
    "    indices_dict = json.load(json_file)\n",
    "    \n",
    "band_names = collection_gs2017to2021.first().bandNames().getInfo()\n",
    "print(\"Band names:\")\n",
    "_ = [print(x + \"; \", end=\"\") for x in band_names]\n",
    "\n",
    "spectral_index_names = [key for key in indices_dict.keys()]\n",
    "print(\"\\nSpectral indices:\")\n",
    "_ = [print(x + \"; \", end=\"\") for x in spectral_index_names]"
   ]
  },
  {
   "cell_type": "markdown",
   "id": "49272aab-f8cd-482f-a811-58e2d51c68e4",
   "metadata": {},
   "source": [
    "---\n",
    "#### Create median composite of spectral indices"
   ]
  },
  {
   "cell_type": "code",
   "execution_count": 15,
   "id": "cc6110d4-3f5f-4e66-9d23-72b064ea8206",
   "metadata": {},
   "outputs": [],
   "source": [
    "# Create a median composite image, but keep (and rename) only the spectral indices\n",
    "gs2017to2021_out_img = \\\n",
    "collection_gs2017to2021.median().select(\n",
    "    band_names,\n",
    "    [idx_name + \"_median_comp\" for idx_name in band_names]  # Rename to indicate it stems from median composite\n",
    ")"
   ]
  },
  {
   "cell_type": "code",
   "execution_count": 16,
   "id": "f43388fb-ded5-4d0a-b0f0-3b1bf80cf2f2",
   "metadata": {
    "collapsed": true,
    "jupyter": {
     "outputs_hidden": true
    },
    "tags": []
   },
   "outputs": [
    {
     "data": {
      "text/plain": [
       "{'type': 'Image',\n",
       " 'bands': [{'id': 'B1_median_comp',\n",
       "   'data_type': {'type': 'PixelType',\n",
       "    'precision': 'float',\n",
       "    'min': 0,\n",
       "    'max': 6.553500175476074},\n",
       "   'crs': 'EPSG:4326',\n",
       "   'crs_transform': [1, 0, 0, 0, 1, 0]},\n",
       "  {'id': 'B2_median_comp',\n",
       "   'data_type': {'type': 'PixelType',\n",
       "    'precision': 'float',\n",
       "    'min': 0,\n",
       "    'max': 6.553500175476074},\n",
       "   'crs': 'EPSG:4326',\n",
       "   'crs_transform': [1, 0, 0, 0, 1, 0]},\n",
       "  {'id': 'B3_median_comp',\n",
       "   'data_type': {'type': 'PixelType',\n",
       "    'precision': 'float',\n",
       "    'min': 0,\n",
       "    'max': 6.553500175476074},\n",
       "   'crs': 'EPSG:4326',\n",
       "   'crs_transform': [1, 0, 0, 0, 1, 0]},\n",
       "  {'id': 'B4_median_comp',\n",
       "   'data_type': {'type': 'PixelType',\n",
       "    'precision': 'float',\n",
       "    'min': 0,\n",
       "    'max': 6.553500175476074},\n",
       "   'crs': 'EPSG:4326',\n",
       "   'crs_transform': [1, 0, 0, 0, 1, 0]},\n",
       "  {'id': 'B5_median_comp',\n",
       "   'data_type': {'type': 'PixelType',\n",
       "    'precision': 'float',\n",
       "    'min': 0,\n",
       "    'max': 6.553500175476074},\n",
       "   'crs': 'EPSG:4326',\n",
       "   'crs_transform': [1, 0, 0, 0, 1, 0]},\n",
       "  {'id': 'B6_median_comp',\n",
       "   'data_type': {'type': 'PixelType',\n",
       "    'precision': 'float',\n",
       "    'min': 0,\n",
       "    'max': 6.553500175476074},\n",
       "   'crs': 'EPSG:4326',\n",
       "   'crs_transform': [1, 0, 0, 0, 1, 0]},\n",
       "  {'id': 'B7_median_comp',\n",
       "   'data_type': {'type': 'PixelType',\n",
       "    'precision': 'float',\n",
       "    'min': 0,\n",
       "    'max': 6.553500175476074},\n",
       "   'crs': 'EPSG:4326',\n",
       "   'crs_transform': [1, 0, 0, 0, 1, 0]},\n",
       "  {'id': 'B8_median_comp',\n",
       "   'data_type': {'type': 'PixelType',\n",
       "    'precision': 'float',\n",
       "    'min': 0,\n",
       "    'max': 6.553500175476074},\n",
       "   'crs': 'EPSG:4326',\n",
       "   'crs_transform': [1, 0, 0, 0, 1, 0]},\n",
       "  {'id': 'B8A_median_comp',\n",
       "   'data_type': {'type': 'PixelType',\n",
       "    'precision': 'float',\n",
       "    'min': 0,\n",
       "    'max': 6.553500175476074},\n",
       "   'crs': 'EPSG:4326',\n",
       "   'crs_transform': [1, 0, 0, 0, 1, 0]},\n",
       "  {'id': 'B9_median_comp',\n",
       "   'data_type': {'type': 'PixelType',\n",
       "    'precision': 'float',\n",
       "    'min': 0,\n",
       "    'max': 6.553500175476074},\n",
       "   'crs': 'EPSG:4326',\n",
       "   'crs_transform': [1, 0, 0, 0, 1, 0]},\n",
       "  {'id': 'B11_median_comp',\n",
       "   'data_type': {'type': 'PixelType',\n",
       "    'precision': 'float',\n",
       "    'min': 0,\n",
       "    'max': 6.553500175476074},\n",
       "   'crs': 'EPSG:4326',\n",
       "   'crs_transform': [1, 0, 0, 0, 1, 0]},\n",
       "  {'id': 'B12_median_comp',\n",
       "   'data_type': {'type': 'PixelType',\n",
       "    'precision': 'float',\n",
       "    'min': 0,\n",
       "    'max': 6.553500175476074},\n",
       "   'crs': 'EPSG:4326',\n",
       "   'crs_transform': [1, 0, 0, 0, 1, 0]},\n",
       "  {'id': 'NDVI_median_comp',\n",
       "   'data_type': {'type': 'PixelType', 'precision': 'float'},\n",
       "   'crs': 'EPSG:4326',\n",
       "   'crs_transform': [1, 0, 0, 0, 1, 0]},\n",
       "  {'id': 'GNDVI_median_comp',\n",
       "   'data_type': {'type': 'PixelType', 'precision': 'float'},\n",
       "   'crs': 'EPSG:4326',\n",
       "   'crs_transform': [1, 0, 0, 0, 1, 0]},\n",
       "  {'id': 'EVI_median_comp',\n",
       "   'data_type': {'type': 'PixelType', 'precision': 'float'},\n",
       "   'crs': 'EPSG:4326',\n",
       "   'crs_transform': [1, 0, 0, 0, 1, 0]},\n",
       "  {'id': 'SAVI_median_comp',\n",
       "   'data_type': {'type': 'PixelType', 'precision': 'float'},\n",
       "   'crs': 'EPSG:4326',\n",
       "   'crs_transform': [1, 0, 0, 0, 1, 0]},\n",
       "  {'id': 'NDMI_median_comp',\n",
       "   'data_type': {'type': 'PixelType', 'precision': 'float'},\n",
       "   'crs': 'EPSG:4326',\n",
       "   'crs_transform': [1, 0, 0, 0, 1, 0]}]}"
      ]
     },
     "execution_count": 16,
     "metadata": {},
     "output_type": "execute_result"
    }
   ],
   "source": [
    "gs2017to2021_out_img.getInfo()"
   ]
  },
  {
   "cell_type": "markdown",
   "id": "4cfb55d5-b44e-44e1-b564-af97fad6752a",
   "metadata": {},
   "source": [
    "---\n",
    "#### Create greenest pixel composite based on NDVI"
   ]
  },
  {
   "cell_type": "code",
   "execution_count": 17,
   "id": "60bb4ce7-ad78-47f3-9a9c-e80e201b8061",
   "metadata": {},
   "outputs": [],
   "source": [
    "gs2017to2021_out_img = gs2017to2021_out_img.addBands(\n",
    "    collection_gs2017to2021.qualityMosaic('NDVI').select(\n",
    "        spectral_index_names,\n",
    "        [idx_name + \"_greenest_pixel\" for idx_name in spectral_index_names]\n",
    "    )\n",
    ")"
   ]
  },
  {
   "cell_type": "code",
   "execution_count": 18,
   "id": "a62f81cc-969c-4f30-b375-bd94952c08e0",
   "metadata": {
    "collapsed": true,
    "jupyter": {
     "outputs_hidden": true
    },
    "tags": []
   },
   "outputs": [
    {
     "data": {
      "text/plain": [
       "{'type': 'Image',\n",
       " 'bands': [{'id': 'B1_median_comp',\n",
       "   'data_type': {'type': 'PixelType',\n",
       "    'precision': 'float',\n",
       "    'min': 0,\n",
       "    'max': 6.553500175476074},\n",
       "   'crs': 'EPSG:4326',\n",
       "   'crs_transform': [1, 0, 0, 0, 1, 0]},\n",
       "  {'id': 'B2_median_comp',\n",
       "   'data_type': {'type': 'PixelType',\n",
       "    'precision': 'float',\n",
       "    'min': 0,\n",
       "    'max': 6.553500175476074},\n",
       "   'crs': 'EPSG:4326',\n",
       "   'crs_transform': [1, 0, 0, 0, 1, 0]},\n",
       "  {'id': 'B3_median_comp',\n",
       "   'data_type': {'type': 'PixelType',\n",
       "    'precision': 'float',\n",
       "    'min': 0,\n",
       "    'max': 6.553500175476074},\n",
       "   'crs': 'EPSG:4326',\n",
       "   'crs_transform': [1, 0, 0, 0, 1, 0]},\n",
       "  {'id': 'B4_median_comp',\n",
       "   'data_type': {'type': 'PixelType',\n",
       "    'precision': 'float',\n",
       "    'min': 0,\n",
       "    'max': 6.553500175476074},\n",
       "   'crs': 'EPSG:4326',\n",
       "   'crs_transform': [1, 0, 0, 0, 1, 0]},\n",
       "  {'id': 'B5_median_comp',\n",
       "   'data_type': {'type': 'PixelType',\n",
       "    'precision': 'float',\n",
       "    'min': 0,\n",
       "    'max': 6.553500175476074},\n",
       "   'crs': 'EPSG:4326',\n",
       "   'crs_transform': [1, 0, 0, 0, 1, 0]},\n",
       "  {'id': 'B6_median_comp',\n",
       "   'data_type': {'type': 'PixelType',\n",
       "    'precision': 'float',\n",
       "    'min': 0,\n",
       "    'max': 6.553500175476074},\n",
       "   'crs': 'EPSG:4326',\n",
       "   'crs_transform': [1, 0, 0, 0, 1, 0]},\n",
       "  {'id': 'B7_median_comp',\n",
       "   'data_type': {'type': 'PixelType',\n",
       "    'precision': 'float',\n",
       "    'min': 0,\n",
       "    'max': 6.553500175476074},\n",
       "   'crs': 'EPSG:4326',\n",
       "   'crs_transform': [1, 0, 0, 0, 1, 0]},\n",
       "  {'id': 'B8_median_comp',\n",
       "   'data_type': {'type': 'PixelType',\n",
       "    'precision': 'float',\n",
       "    'min': 0,\n",
       "    'max': 6.553500175476074},\n",
       "   'crs': 'EPSG:4326',\n",
       "   'crs_transform': [1, 0, 0, 0, 1, 0]},\n",
       "  {'id': 'B8A_median_comp',\n",
       "   'data_type': {'type': 'PixelType',\n",
       "    'precision': 'float',\n",
       "    'min': 0,\n",
       "    'max': 6.553500175476074},\n",
       "   'crs': 'EPSG:4326',\n",
       "   'crs_transform': [1, 0, 0, 0, 1, 0]},\n",
       "  {'id': 'B9_median_comp',\n",
       "   'data_type': {'type': 'PixelType',\n",
       "    'precision': 'float',\n",
       "    'min': 0,\n",
       "    'max': 6.553500175476074},\n",
       "   'crs': 'EPSG:4326',\n",
       "   'crs_transform': [1, 0, 0, 0, 1, 0]},\n",
       "  {'id': 'B11_median_comp',\n",
       "   'data_type': {'type': 'PixelType',\n",
       "    'precision': 'float',\n",
       "    'min': 0,\n",
       "    'max': 6.553500175476074},\n",
       "   'crs': 'EPSG:4326',\n",
       "   'crs_transform': [1, 0, 0, 0, 1, 0]},\n",
       "  {'id': 'B12_median_comp',\n",
       "   'data_type': {'type': 'PixelType',\n",
       "    'precision': 'float',\n",
       "    'min': 0,\n",
       "    'max': 6.553500175476074},\n",
       "   'crs': 'EPSG:4326',\n",
       "   'crs_transform': [1, 0, 0, 0, 1, 0]},\n",
       "  {'id': 'NDVI_median_comp',\n",
       "   'data_type': {'type': 'PixelType', 'precision': 'float'},\n",
       "   'crs': 'EPSG:4326',\n",
       "   'crs_transform': [1, 0, 0, 0, 1, 0]},\n",
       "  {'id': 'GNDVI_median_comp',\n",
       "   'data_type': {'type': 'PixelType', 'precision': 'float'},\n",
       "   'crs': 'EPSG:4326',\n",
       "   'crs_transform': [1, 0, 0, 0, 1, 0]},\n",
       "  {'id': 'EVI_median_comp',\n",
       "   'data_type': {'type': 'PixelType', 'precision': 'float'},\n",
       "   'crs': 'EPSG:4326',\n",
       "   'crs_transform': [1, 0, 0, 0, 1, 0]},\n",
       "  {'id': 'SAVI_median_comp',\n",
       "   'data_type': {'type': 'PixelType', 'precision': 'float'},\n",
       "   'crs': 'EPSG:4326',\n",
       "   'crs_transform': [1, 0, 0, 0, 1, 0]},\n",
       "  {'id': 'NDMI_median_comp',\n",
       "   'data_type': {'type': 'PixelType', 'precision': 'float'},\n",
       "   'crs': 'EPSG:4326',\n",
       "   'crs_transform': [1, 0, 0, 0, 1, 0]},\n",
       "  {'id': 'NDVI_greenest_pixel',\n",
       "   'data_type': {'type': 'PixelType', 'precision': 'float'},\n",
       "   'crs': 'EPSG:4326',\n",
       "   'crs_transform': [1, 0, 0, 0, 1, 0]},\n",
       "  {'id': 'GNDVI_greenest_pixel',\n",
       "   'data_type': {'type': 'PixelType', 'precision': 'float'},\n",
       "   'crs': 'EPSG:4326',\n",
       "   'crs_transform': [1, 0, 0, 0, 1, 0]},\n",
       "  {'id': 'EVI_greenest_pixel',\n",
       "   'data_type': {'type': 'PixelType', 'precision': 'float'},\n",
       "   'crs': 'EPSG:4326',\n",
       "   'crs_transform': [1, 0, 0, 0, 1, 0]},\n",
       "  {'id': 'SAVI_greenest_pixel',\n",
       "   'data_type': {'type': 'PixelType', 'precision': 'float'},\n",
       "   'crs': 'EPSG:4326',\n",
       "   'crs_transform': [1, 0, 0, 0, 1, 0]},\n",
       "  {'id': 'NDMI_greenest_pixel',\n",
       "   'data_type': {'type': 'PixelType', 'precision': 'float'},\n",
       "   'crs': 'EPSG:4326',\n",
       "   'crs_transform': [1, 0, 0, 0, 1, 0]}]}"
      ]
     },
     "execution_count": 18,
     "metadata": {},
     "output_type": "execute_result"
    }
   ],
   "source": [
    "gs2017to2021_out_img.getInfo()"
   ]
  },
  {
   "cell_type": "markdown",
   "id": "b9ccf282-cb68-42ba-9d99-7dfae37f4897",
   "metadata": {},
   "source": [
    "---\n",
    "---\n",
    "---"
   ]
  },
  {
   "cell_type": "markdown",
   "id": "destroyed-estonia",
   "metadata": {},
   "source": [
    "### Visualize results (optional)"
   ]
  },
  {
   "cell_type": "markdown",
   "id": "automated-encyclopedia",
   "metadata": {},
   "source": [
    "##### Pick map to visualize"
   ]
  },
  {
   "cell_type": "code",
   "execution_count": 19,
   "id": "continental-ambassador",
   "metadata": {},
   "outputs": [],
   "source": [
    "img_to_map = gs2017to2021_out_img"
   ]
  },
  {
   "cell_type": "markdown",
   "id": "medieval-contrary",
   "metadata": {},
   "source": [
    "##### Prepare folium library"
   ]
  },
  {
   "cell_type": "code",
   "execution_count": 20,
   "id": "smoking-tutorial",
   "metadata": {},
   "outputs": [],
   "source": [
    "# Library to display WMS map in notebook\n",
    "import folium"
   ]
  },
  {
   "cell_type": "code",
   "execution_count": 21,
   "id": "capable-relative",
   "metadata": {},
   "outputs": [],
   "source": [
    "# Add EE drawing method to folium, i.e. overwrite method as a monkey patch\n",
    "folium.Map.add_ee_layer = eeh.add_ee_layer"
   ]
  },
  {
   "cell_type": "code",
   "execution_count": 22,
   "id": "spiritual-sucking",
   "metadata": {},
   "outputs": [
    {
     "name": "stdout",
     "output_type": "stream",
     "text": [
      "[13.209238450857365, 64.68724893483645]\n"
     ]
    }
   ],
   "source": [
    "# Calculate center point of polygon\n",
    "geom_centroid = nor_geometry.centroid(100).getInfo().get('coordinates')\n",
    "print(geom_centroid)"
   ]
  },
  {
   "cell_type": "markdown",
   "id": "moving-belize",
   "metadata": {},
   "source": [
    "### RGB composite on streetmap"
   ]
  },
  {
   "cell_type": "code",
   "execution_count": 23,
   "id": "changing-malpractice",
   "metadata": {},
   "outputs": [],
   "source": [
    "# Set visualization parameters, RGB\n",
    "vis_rgb = {'bands': ['B4', 'B3', 'B2'], 'max': 0.3}"
   ]
  },
  {
   "cell_type": "code",
   "execution_count": 24,
   "id": "pressing-sapphire",
   "metadata": {},
   "outputs": [],
   "source": [
    "eeMap_rgb = folium.Map(location=geom_centroid[::-1], zoom_start=4, height='100%', width='100%')"
   ]
  },
  {
   "cell_type": "code",
   "execution_count": 25,
   "id": "double-watershed",
   "metadata": {},
   "outputs": [],
   "source": [
    "eeMap_rgb.add_ee_layer(collection_gs2017to2021.median(), vis_rgb, 'Norway Sentinel-2 RBG')"
   ]
  },
  {
   "cell_type": "code",
   "execution_count": 26,
   "id": "eleven-latex",
   "metadata": {},
   "outputs": [
    {
     "data": {
      "text/html": [
       "<div style=\"width:100%;\"><div style=\"position:relative;width:100%;height:0;padding-bottom:60%;\"><span style=\"color:#565656\">Make this Notebook Trusted to load map: File -> Trust Notebook</span><iframe srcdoc=\"&lt;!DOCTYPE html&gt;\n",
       "&lt;html&gt;\n",
       "&lt;head&gt;\n",
       "    \n",
       "    &lt;meta http-equiv=&quot;content-type&quot; content=&quot;text/html; charset=UTF-8&quot; /&gt;\n",
       "    \n",
       "        &lt;script&gt;\n",
       "            L_NO_TOUCH = false;\n",
       "            L_DISABLE_3D = false;\n",
       "        &lt;/script&gt;\n",
       "    \n",
       "    &lt;style&gt;html, body {width: 100%;height: 100%;margin: 0;padding: 0;}&lt;/style&gt;\n",
       "    &lt;style&gt;#map {position:absolute;top:0;bottom:0;right:0;left:0;}&lt;/style&gt;\n",
       "    &lt;script src=&quot;https://cdn.jsdelivr.net/npm/leaflet@1.9.3/dist/leaflet.js&quot;&gt;&lt;/script&gt;\n",
       "    &lt;script src=&quot;https://code.jquery.com/jquery-1.12.4.min.js&quot;&gt;&lt;/script&gt;\n",
       "    &lt;script src=&quot;https://cdn.jsdelivr.net/npm/bootstrap@5.2.2/dist/js/bootstrap.bundle.min.js&quot;&gt;&lt;/script&gt;\n",
       "    &lt;script src=&quot;https://cdnjs.cloudflare.com/ajax/libs/Leaflet.awesome-markers/2.0.2/leaflet.awesome-markers.js&quot;&gt;&lt;/script&gt;\n",
       "    &lt;link rel=&quot;stylesheet&quot; href=&quot;https://cdn.jsdelivr.net/npm/leaflet@1.9.3/dist/leaflet.css&quot;/&gt;\n",
       "    &lt;link rel=&quot;stylesheet&quot; href=&quot;https://cdn.jsdelivr.net/npm/bootstrap@5.2.2/dist/css/bootstrap.min.css&quot;/&gt;\n",
       "    &lt;link rel=&quot;stylesheet&quot; href=&quot;https://netdna.bootstrapcdn.com/bootstrap/3.0.0/css/bootstrap.min.css&quot;/&gt;\n",
       "    &lt;link rel=&quot;stylesheet&quot; href=&quot;https://cdn.jsdelivr.net/npm/@fortawesome/fontawesome-free@6.2.0/css/all.min.css&quot;/&gt;\n",
       "    &lt;link rel=&quot;stylesheet&quot; href=&quot;https://cdnjs.cloudflare.com/ajax/libs/Leaflet.awesome-markers/2.0.2/leaflet.awesome-markers.css&quot;/&gt;\n",
       "    &lt;link rel=&quot;stylesheet&quot; href=&quot;https://cdn.jsdelivr.net/gh/python-visualization/folium/folium/templates/leaflet.awesome.rotate.min.css&quot;/&gt;\n",
       "    \n",
       "            &lt;meta name=&quot;viewport&quot; content=&quot;width=device-width,\n",
       "                initial-scale=1.0, maximum-scale=1.0, user-scalable=no&quot; /&gt;\n",
       "            &lt;style&gt;\n",
       "                #map_debe2878230211f96edaacb29e78a435 {\n",
       "                    position: relative;\n",
       "                    width: 100.0%;\n",
       "                    height: 100.0%;\n",
       "                    left: 0.0%;\n",
       "                    top: 0.0%;\n",
       "                }\n",
       "                .leaflet-container { font-size: 1rem; }\n",
       "            &lt;/style&gt;\n",
       "        \n",
       "&lt;/head&gt;\n",
       "&lt;body&gt;\n",
       "    \n",
       "    \n",
       "            &lt;div class=&quot;folium-map&quot; id=&quot;map_debe2878230211f96edaacb29e78a435&quot; &gt;&lt;/div&gt;\n",
       "        \n",
       "&lt;/body&gt;\n",
       "&lt;script&gt;\n",
       "    \n",
       "    \n",
       "            var map_debe2878230211f96edaacb29e78a435 = L.map(\n",
       "                &quot;map_debe2878230211f96edaacb29e78a435&quot;,\n",
       "                {\n",
       "                    center: [64.68724893483645, 13.209238450857365],\n",
       "                    crs: L.CRS.EPSG3857,\n",
       "                    zoom: 4,\n",
       "                    zoomControl: true,\n",
       "                    preferCanvas: false,\n",
       "                }\n",
       "            );\n",
       "\n",
       "            \n",
       "\n",
       "        \n",
       "    \n",
       "            var tile_layer_cee0aebcc517ebbccfc08bf1146555c6 = L.tileLayer(\n",
       "                &quot;https://{s}.tile.openstreetmap.org/{z}/{x}/{y}.png&quot;,\n",
       "                {&quot;attribution&quot;: &quot;Data by \\u0026copy; \\u003ca target=\\&quot;_blank\\&quot; href=\\&quot;http://openstreetmap.org\\&quot;\\u003eOpenStreetMap\\u003c/a\\u003e, under \\u003ca target=\\&quot;_blank\\&quot; href=\\&quot;http://www.openstreetmap.org/copyright\\&quot;\\u003eODbL\\u003c/a\\u003e.&quot;, &quot;detectRetina&quot;: false, &quot;maxNativeZoom&quot;: 18, &quot;maxZoom&quot;: 18, &quot;minZoom&quot;: 0, &quot;noWrap&quot;: false, &quot;opacity&quot;: 1, &quot;subdomains&quot;: &quot;abc&quot;, &quot;tms&quot;: false}\n",
       "            ).addTo(map_debe2878230211f96edaacb29e78a435);\n",
       "        \n",
       "    \n",
       "            var tile_layer_baa94991fc9bc26f712bff57b91eb859 = L.tileLayer(\n",
       "                &quot;https://earthengine.googleapis.com/v1alpha/projects/earthengine-legacy/maps/11500175bb47ab2e35c479539ac0994c-e55db07eeb1113edd5e294c313f6fc8e/tiles/{z}/{x}/{y}&quot;,\n",
       "                {&quot;attribution&quot;: &quot;Google Earth Engine&quot;, &quot;detectRetina&quot;: false, &quot;maxNativeZoom&quot;: 18, &quot;maxZoom&quot;: 18, &quot;minZoom&quot;: 0, &quot;noWrap&quot;: false, &quot;opacity&quot;: 1, &quot;subdomains&quot;: &quot;abc&quot;, &quot;tms&quot;: false}\n",
       "            ).addTo(map_debe2878230211f96edaacb29e78a435);\n",
       "        \n",
       "&lt;/script&gt;\n",
       "&lt;/html&gt;\" style=\"position:absolute;width:100%;height:100%;left:0;top:0;border:none !important;\" allowfullscreen webkitallowfullscreen mozallowfullscreen></iframe></div></div>"
      ],
      "text/plain": [
       "<folium.folium.Map at 0x203d569c040>"
      ]
     },
     "metadata": {},
     "output_type": "display_data"
    }
   ],
   "source": [
    "display(eeMap_rgb) # Display map, may take a while to load!"
   ]
  },
  {
   "cell_type": "markdown",
   "id": "funny-launch",
   "metadata": {},
   "source": [
    "##### Visualize spectral index"
   ]
  },
  {
   "cell_type": "code",
   "execution_count": 27,
   "id": "2e11b150-2c9c-469b-9fff-0c16ba41fa0b",
   "metadata": {},
   "outputs": [],
   "source": [
    "vis_idx_name = \"NDVI_greenest_pixel\""
   ]
  },
  {
   "cell_type": "code",
   "execution_count": 30,
   "id": "compliant-privilege",
   "metadata": {},
   "outputs": [],
   "source": [
    "# Visualization parameters for map representation \n",
    "# (display values from -1 to 1, blue areas = -1, white = 0, green = 1)\n",
    "ndvi_vis = {'min': -1, 'max': 1, 'palette': ['blue', 'white', 'green']};\n",
    "# Select spectral index band defined above\n",
    "vis_idx_img = img_to_map.select(vis_idx_name)"
   ]
  },
  {
   "cell_type": "code",
   "execution_count": 31,
   "id": "elect-indian",
   "metadata": {},
   "outputs": [],
   "source": [
    "# Create map instance\n",
    "eeMap_ndvi = folium.Map(location=geom_centroid[::-1], zoom_start=4, height='100%', width='100%')"
   ]
  },
  {
   "cell_type": "code",
   "execution_count": 32,
   "id": "genuine-camera",
   "metadata": {},
   "outputs": [],
   "source": [
    "# Display NDVI image with chosen display parameters\n",
    "eeMap_ndvi.add_ee_layer(vis_idx_img, ndvi_vis, f'Norway Sentinel2 - {vis_idx_name}')"
   ]
  },
  {
   "cell_type": "code",
   "execution_count": 33,
   "id": "capital-psychiatry",
   "metadata": {},
   "outputs": [
    {
     "data": {
      "text/html": [
       "<div style=\"width:100%;\"><div style=\"position:relative;width:100%;height:0;padding-bottom:60%;\"><span style=\"color:#565656\">Make this Notebook Trusted to load map: File -> Trust Notebook</span><iframe srcdoc=\"&lt;!DOCTYPE html&gt;\n",
       "&lt;html&gt;\n",
       "&lt;head&gt;\n",
       "    \n",
       "    &lt;meta http-equiv=&quot;content-type&quot; content=&quot;text/html; charset=UTF-8&quot; /&gt;\n",
       "    \n",
       "        &lt;script&gt;\n",
       "            L_NO_TOUCH = false;\n",
       "            L_DISABLE_3D = false;\n",
       "        &lt;/script&gt;\n",
       "    \n",
       "    &lt;style&gt;html, body {width: 100%;height: 100%;margin: 0;padding: 0;}&lt;/style&gt;\n",
       "    &lt;style&gt;#map {position:absolute;top:0;bottom:0;right:0;left:0;}&lt;/style&gt;\n",
       "    &lt;script src=&quot;https://cdn.jsdelivr.net/npm/leaflet@1.9.3/dist/leaflet.js&quot;&gt;&lt;/script&gt;\n",
       "    &lt;script src=&quot;https://code.jquery.com/jquery-1.12.4.min.js&quot;&gt;&lt;/script&gt;\n",
       "    &lt;script src=&quot;https://cdn.jsdelivr.net/npm/bootstrap@5.2.2/dist/js/bootstrap.bundle.min.js&quot;&gt;&lt;/script&gt;\n",
       "    &lt;script src=&quot;https://cdnjs.cloudflare.com/ajax/libs/Leaflet.awesome-markers/2.0.2/leaflet.awesome-markers.js&quot;&gt;&lt;/script&gt;\n",
       "    &lt;link rel=&quot;stylesheet&quot; href=&quot;https://cdn.jsdelivr.net/npm/leaflet@1.9.3/dist/leaflet.css&quot;/&gt;\n",
       "    &lt;link rel=&quot;stylesheet&quot; href=&quot;https://cdn.jsdelivr.net/npm/bootstrap@5.2.2/dist/css/bootstrap.min.css&quot;/&gt;\n",
       "    &lt;link rel=&quot;stylesheet&quot; href=&quot;https://netdna.bootstrapcdn.com/bootstrap/3.0.0/css/bootstrap.min.css&quot;/&gt;\n",
       "    &lt;link rel=&quot;stylesheet&quot; href=&quot;https://cdn.jsdelivr.net/npm/@fortawesome/fontawesome-free@6.2.0/css/all.min.css&quot;/&gt;\n",
       "    &lt;link rel=&quot;stylesheet&quot; href=&quot;https://cdnjs.cloudflare.com/ajax/libs/Leaflet.awesome-markers/2.0.2/leaflet.awesome-markers.css&quot;/&gt;\n",
       "    &lt;link rel=&quot;stylesheet&quot; href=&quot;https://cdn.jsdelivr.net/gh/python-visualization/folium/folium/templates/leaflet.awesome.rotate.min.css&quot;/&gt;\n",
       "    \n",
       "            &lt;meta name=&quot;viewport&quot; content=&quot;width=device-width,\n",
       "                initial-scale=1.0, maximum-scale=1.0, user-scalable=no&quot; /&gt;\n",
       "            &lt;style&gt;\n",
       "                #map_62312653f68c84c53160686ce12f938a {\n",
       "                    position: relative;\n",
       "                    width: 100.0%;\n",
       "                    height: 100.0%;\n",
       "                    left: 0.0%;\n",
       "                    top: 0.0%;\n",
       "                }\n",
       "                .leaflet-container { font-size: 1rem; }\n",
       "            &lt;/style&gt;\n",
       "        \n",
       "&lt;/head&gt;\n",
       "&lt;body&gt;\n",
       "    \n",
       "    \n",
       "            &lt;div class=&quot;folium-map&quot; id=&quot;map_62312653f68c84c53160686ce12f938a&quot; &gt;&lt;/div&gt;\n",
       "        \n",
       "&lt;/body&gt;\n",
       "&lt;script&gt;\n",
       "    \n",
       "    \n",
       "            var map_62312653f68c84c53160686ce12f938a = L.map(\n",
       "                &quot;map_62312653f68c84c53160686ce12f938a&quot;,\n",
       "                {\n",
       "                    center: [64.68724893483645, 13.209238450857365],\n",
       "                    crs: L.CRS.EPSG3857,\n",
       "                    zoom: 4,\n",
       "                    zoomControl: true,\n",
       "                    preferCanvas: false,\n",
       "                }\n",
       "            );\n",
       "\n",
       "            \n",
       "\n",
       "        \n",
       "    \n",
       "            var tile_layer_ff7974ad33adaffde8df43f5ac620c7c = L.tileLayer(\n",
       "                &quot;https://{s}.tile.openstreetmap.org/{z}/{x}/{y}.png&quot;,\n",
       "                {&quot;attribution&quot;: &quot;Data by \\u0026copy; \\u003ca target=\\&quot;_blank\\&quot; href=\\&quot;http://openstreetmap.org\\&quot;\\u003eOpenStreetMap\\u003c/a\\u003e, under \\u003ca target=\\&quot;_blank\\&quot; href=\\&quot;http://www.openstreetmap.org/copyright\\&quot;\\u003eODbL\\u003c/a\\u003e.&quot;, &quot;detectRetina&quot;: false, &quot;maxNativeZoom&quot;: 18, &quot;maxZoom&quot;: 18, &quot;minZoom&quot;: 0, &quot;noWrap&quot;: false, &quot;opacity&quot;: 1, &quot;subdomains&quot;: &quot;abc&quot;, &quot;tms&quot;: false}\n",
       "            ).addTo(map_62312653f68c84c53160686ce12f938a);\n",
       "        \n",
       "    \n",
       "            var tile_layer_a423573d5d7be7fe472942110ece62c7 = L.tileLayer(\n",
       "                &quot;https://earthengine.googleapis.com/v1alpha/projects/earthengine-legacy/maps/94daad06b9062b501529416989c1ea75-2690afa37b2a91249460132827ab3768/tiles/{z}/{x}/{y}&quot;,\n",
       "                {&quot;attribution&quot;: &quot;Google Earth Engine&quot;, &quot;detectRetina&quot;: false, &quot;maxNativeZoom&quot;: 18, &quot;maxZoom&quot;: 18, &quot;minZoom&quot;: 0, &quot;noWrap&quot;: false, &quot;opacity&quot;: 1, &quot;subdomains&quot;: &quot;abc&quot;, &quot;tms&quot;: false}\n",
       "            ).addTo(map_62312653f68c84c53160686ce12f938a);\n",
       "        \n",
       "&lt;/script&gt;\n",
       "&lt;/html&gt;\" style=\"position:absolute;width:100%;height:100%;left:0;top:0;border:none !important;\" allowfullscreen webkitallowfullscreen mozallowfullscreen></iframe></div></div>"
      ],
      "text/plain": [
       "<folium.folium.Map at 0x203d569f940>"
      ]
     },
     "metadata": {},
     "output_type": "display_data"
    }
   ],
   "source": [
    "# Display map\n",
    "display(eeMap_ndvi) # Obs! It may take a while to load the tiles!"
   ]
  },
  {
   "cell_type": "markdown",
   "id": "young-spiritual",
   "metadata": {},
   "source": [
    "---------\n",
    "## Extract Values at Vegetation Type locations"
   ]
  },
  {
   "cell_type": "markdown",
   "id": "coastal-istanbul",
   "metadata": {},
   "source": [
    "#### Retrieve Vegetation Type data"
   ]
  },
  {
   "cell_type": "code",
   "execution_count": 36,
   "id": "tamil-senate",
   "metadata": {},
   "outputs": [
    {
     "data": {
      "text/plain": [
       "['B1_median_comp',\n",
       " 'B2_median_comp',\n",
       " 'B3_median_comp',\n",
       " 'B4_median_comp',\n",
       " 'B5_median_comp',\n",
       " 'B6_median_comp',\n",
       " 'B7_median_comp',\n",
       " 'B8_median_comp',\n",
       " 'B8A_median_comp',\n",
       " 'B9_median_comp',\n",
       " 'B11_median_comp',\n",
       " 'B12_median_comp',\n",
       " 'NDVI_median_comp',\n",
       " 'GNDVI_median_comp',\n",
       " 'EVI_median_comp',\n",
       " 'SAVI_median_comp',\n",
       " 'NDMI_median_comp',\n",
       " 'NDVI_greenest_pixel',\n",
       " 'GNDVI_greenest_pixel',\n",
       " 'EVI_greenest_pixel',\n",
       " 'SAVI_greenest_pixel',\n",
       " 'NDMI_greenest_pixel']"
      ]
     },
     "execution_count": 36,
     "metadata": {},
     "output_type": "execute_result"
    }
   ],
   "source": [
    "# Define the image you want to use for extraction\n",
    "img_to_extract = gs2017to2021_out_img\n",
    "gs2017to2021_out_img.bandNames().getInfo()"
   ]
  },
  {
   "cell_type": "code",
   "execution_count": 38,
   "id": "announced-flexibility",
   "metadata": {},
   "outputs": [
    {
     "name": "stdout",
     "output_type": "stream",
     "text": [
      "FeatureCollection initialized, number of rows: 25679\n"
     ]
    }
   ],
   "source": [
    "# Initialize VT FeatureCollection\n",
    "vt_presence_fc = eeh.VTFeatureCollection(\n",
    "    user_name=user_name,\n",
    "    vt_asset_name='vtprespoints',\n",
    "    extract_columns=['POINT_X','POINT_Y','FLATE_NR','layer']\n",
    ")"
   ]
  },
  {
   "cell_type": "markdown",
   "id": "alleged-regard",
   "metadata": {},
   "source": [
    "#### Extract image data\n",
    "Use 30 m spatial scale to make data set size manageable and match Landsat-7 scale.</br>\n",
    "_Increase tileScale (default:1) in 2^n steps (2, 4, 8,...) if computation times out!_"
   ]
  },
  {
   "cell_type": "code",
   "execution_count": 42,
   "id": "sharp-genealogy",
   "metadata": {},
   "outputs": [
    {
     "name": "stdout",
     "output_type": "stream",
     "text": [
      "Starting extraction. This process can take 5-10 minutes.\n"
     ]
    },
    {
     "ename": "EEException",
     "evalue": "User memory limit exceeded.",
     "output_type": "error",
     "traceback": [
      "\u001b[1;31m---------------------------------------------------------------------------\u001b[0m",
      "\u001b[1;31mHttpError\u001b[0m                                 Traceback (most recent call last)",
      "File \u001b[1;32mC:\\Anaconda3\\envs\\dmvtnor\\lib\\site-packages\\ee\\data.py:329\u001b[0m, in \u001b[0;36m_execute_cloud_call\u001b[1;34m(call, num_retries)\u001b[0m\n\u001b[0;32m    328\u001b[0m \u001b[38;5;28;01mtry\u001b[39;00m:\n\u001b[1;32m--> 329\u001b[0m   \u001b[38;5;28;01mreturn\u001b[39;00m \u001b[43mcall\u001b[49m\u001b[38;5;241;43m.\u001b[39;49m\u001b[43mexecute\u001b[49m\u001b[43m(\u001b[49m\u001b[43mnum_retries\u001b[49m\u001b[38;5;241;43m=\u001b[39;49m\u001b[43mnum_retries\u001b[49m\u001b[43m)\u001b[49m\n\u001b[0;32m    330\u001b[0m \u001b[38;5;28;01mexcept\u001b[39;00m googleapiclient\u001b[38;5;241m.\u001b[39merrors\u001b[38;5;241m.\u001b[39mHttpError \u001b[38;5;28;01mas\u001b[39;00m e:\n",
      "File \u001b[1;32mC:\\Anaconda3\\envs\\dmvtnor\\lib\\site-packages\\googleapiclient\\_helpers.py:130\u001b[0m, in \u001b[0;36mpositional.<locals>.positional_decorator.<locals>.positional_wrapper\u001b[1;34m(*args, **kwargs)\u001b[0m\n\u001b[0;32m    129\u001b[0m         logger\u001b[38;5;241m.\u001b[39mwarning(message)\n\u001b[1;32m--> 130\u001b[0m \u001b[38;5;28;01mreturn\u001b[39;00m wrapped(\u001b[38;5;241m*\u001b[39margs, \u001b[38;5;241m*\u001b[39m\u001b[38;5;241m*\u001b[39mkwargs)\n",
      "File \u001b[1;32mC:\\Anaconda3\\envs\\dmvtnor\\lib\\site-packages\\googleapiclient\\http.py:938\u001b[0m, in \u001b[0;36mHttpRequest.execute\u001b[1;34m(self, http, num_retries)\u001b[0m\n\u001b[0;32m    937\u001b[0m \u001b[38;5;28;01mif\u001b[39;00m resp\u001b[38;5;241m.\u001b[39mstatus \u001b[38;5;241m>\u001b[39m\u001b[38;5;241m=\u001b[39m \u001b[38;5;241m300\u001b[39m:\n\u001b[1;32m--> 938\u001b[0m     \u001b[38;5;28;01mraise\u001b[39;00m HttpError(resp, content, uri\u001b[38;5;241m=\u001b[39m\u001b[38;5;28mself\u001b[39m\u001b[38;5;241m.\u001b[39muri)\n\u001b[0;32m    939\u001b[0m \u001b[38;5;28;01mreturn\u001b[39;00m \u001b[38;5;28mself\u001b[39m\u001b[38;5;241m.\u001b[39mpostproc(resp, content)\n",
      "\u001b[1;31mHttpError\u001b[0m: <HttpError 400 when requesting https://earthengine.googleapis.com/v1alpha/projects/earthengine-legacy/value:compute?prettyPrint=false&alt=json returned \"User memory limit exceeded.\". Details: \"User memory limit exceeded.\">",
      "\nDuring handling of the above exception, another exception occurred:\n",
      "\u001b[1;31mEEException\u001b[0m                               Traceback (most recent call last)",
      "Cell \u001b[1;32mIn[42], line 1\u001b[0m\n\u001b[1;32m----> 1\u001b[0m sampled_sent_list \u001b[38;5;241m=\u001b[39m \u001b[43mvt_presence_fc\u001b[49m\u001b[38;5;241;43m.\u001b[39;49m\u001b[43mextract_from_eeimg\u001b[49m\u001b[43m(\u001b[49m\n\u001b[0;32m      2\u001b[0m \u001b[43m    \u001b[49m\u001b[43mimg\u001b[49m\u001b[38;5;241;43m=\u001b[39;49m\u001b[43mimg_to_extract\u001b[49m\u001b[43m,\u001b[49m\n\u001b[0;32m      3\u001b[0m \u001b[43m    \u001b[49m\u001b[43mscale\u001b[49m\u001b[38;5;241;43m=\u001b[39;49m\u001b[38;5;241;43m30\u001b[39;49m\u001b[43m,\u001b[49m\n\u001b[0;32m      4\u001b[0m \u001b[43m    \u001b[49m\u001b[43mtile_scale\u001b[49m\u001b[38;5;241;43m=\u001b[39;49m\u001b[38;5;241;43m8\u001b[39;49m\n\u001b[0;32m      5\u001b[0m \u001b[43m)\u001b[49m \n",
      "File \u001b[1;32mc:\\git_repos\\dm-vegetation-types-norway\\src\\data\\eehelpers.py:357\u001b[0m, in \u001b[0;36mVTFeatureCollection.extract_from_eeimg\u001b[1;34m(self, img, scale, tile_scale)\u001b[0m\n\u001b[0;32m    353\u001b[0m \u001b[38;5;28mprint\u001b[39m(\u001b[38;5;124m\"\u001b[39m\u001b[38;5;124mStarting extraction. This process can take 5-10 minutes.\u001b[39m\u001b[38;5;124m\"\u001b[39m)\n\u001b[0;32m    355\u001b[0m \u001b[38;5;66;03m# Warning, takes time! Example timing output:\u001b[39;00m\n\u001b[0;32m    356\u001b[0m \u001b[38;5;66;03m# 5min 22s ± 0 ns per loop (mean ± std. dev. of 1 run, 1 loop each)\u001b[39;00m\n\u001b[1;32m--> 357\u001b[0m sampled_list \u001b[38;5;241m=\u001b[39m \u001b[43msampled_fc\u001b[49m\u001b[38;5;241;43m.\u001b[39;49m\u001b[43mtoList\u001b[49m\u001b[43m(\u001b[49m\u001b[38;5;28;43mself\u001b[39;49m\u001b[38;5;241;43m.\u001b[39;49m\u001b[43mn_points\u001b[49m\u001b[43m)\u001b[49m\u001b[38;5;241;43m.\u001b[39;49m\u001b[43mgetInfo\u001b[49m\u001b[43m(\u001b[49m\u001b[43m)\u001b[49m\n\u001b[0;32m    359\u001b[0m \u001b[38;5;28;01mreturn\u001b[39;00m sampled_list\n",
      "File \u001b[1;32mC:\\Anaconda3\\envs\\dmvtnor\\lib\\site-packages\\ee\\computedobject.py:96\u001b[0m, in \u001b[0;36mComputedObject.getInfo\u001b[1;34m(self)\u001b[0m\n\u001b[0;32m     90\u001b[0m \u001b[38;5;28;01mdef\u001b[39;00m \u001b[38;5;21mgetInfo\u001b[39m(\u001b[38;5;28mself\u001b[39m):\n\u001b[0;32m     91\u001b[0m \u001b[38;5;250m  \u001b[39m\u001b[38;5;124;03m\"\"\"Fetch and return information about this object.\u001b[39;00m\n\u001b[0;32m     92\u001b[0m \n\u001b[0;32m     93\u001b[0m \u001b[38;5;124;03m  Returns:\u001b[39;00m\n\u001b[0;32m     94\u001b[0m \u001b[38;5;124;03m    The object can evaluate to anything.\u001b[39;00m\n\u001b[0;32m     95\u001b[0m \u001b[38;5;124;03m  \"\"\"\u001b[39;00m\n\u001b[1;32m---> 96\u001b[0m   \u001b[38;5;28;01mreturn\u001b[39;00m \u001b[43mdata\u001b[49m\u001b[38;5;241;43m.\u001b[39;49m\u001b[43mcomputeValue\u001b[49m\u001b[43m(\u001b[49m\u001b[38;5;28;43mself\u001b[39;49m\u001b[43m)\u001b[49m\n",
      "File \u001b[1;32mC:\\Anaconda3\\envs\\dmvtnor\\lib\\site-packages\\ee\\data.py:786\u001b[0m, in \u001b[0;36mcomputeValue\u001b[1;34m(obj)\u001b[0m\n\u001b[0;32m    783\u001b[0m body \u001b[38;5;241m=\u001b[39m {\u001b[38;5;124m'\u001b[39m\u001b[38;5;124mexpression\u001b[39m\u001b[38;5;124m'\u001b[39m: serializer\u001b[38;5;241m.\u001b[39mencode(obj, for_cloud_api\u001b[38;5;241m=\u001b[39m\u001b[38;5;28;01mTrue\u001b[39;00m)}\n\u001b[0;32m    784\u001b[0m _maybe_populate_workload_tag(body)\n\u001b[1;32m--> 786\u001b[0m \u001b[38;5;28;01mreturn\u001b[39;00m \u001b[43m_execute_cloud_call\u001b[49m\u001b[43m(\u001b[49m\n\u001b[0;32m    787\u001b[0m \u001b[43m    \u001b[49m\u001b[43m_get_cloud_api_resource\u001b[49m\u001b[43m(\u001b[49m\u001b[43m)\u001b[49m\u001b[38;5;241;43m.\u001b[39;49m\u001b[43mprojects\u001b[49m\u001b[43m(\u001b[49m\u001b[43m)\u001b[49m\u001b[38;5;241;43m.\u001b[39;49m\u001b[43mvalue\u001b[49m\u001b[43m(\u001b[49m\u001b[43m)\u001b[49m\u001b[38;5;241;43m.\u001b[39;49m\u001b[43mcompute\u001b[49m\u001b[43m(\u001b[49m\n\u001b[0;32m    788\u001b[0m \u001b[43m        \u001b[49m\u001b[43mbody\u001b[49m\u001b[38;5;241;43m=\u001b[39;49m\u001b[43mbody\u001b[49m\u001b[43m,\u001b[49m\n\u001b[0;32m    789\u001b[0m \u001b[43m        \u001b[49m\u001b[43mproject\u001b[49m\u001b[38;5;241;43m=\u001b[39;49m\u001b[43m_get_projects_path\u001b[49m\u001b[43m(\u001b[49m\u001b[43m)\u001b[49m\u001b[43m,\u001b[49m\n\u001b[0;32m    790\u001b[0m \u001b[43m        \u001b[49m\u001b[43mprettyPrint\u001b[49m\u001b[38;5;241;43m=\u001b[39;49m\u001b[38;5;28;43;01mFalse\u001b[39;49;00m\u001b[43m)\u001b[49m\u001b[43m)\u001b[49m[\u001b[38;5;124m'\u001b[39m\u001b[38;5;124mresult\u001b[39m\u001b[38;5;124m'\u001b[39m]\n",
      "File \u001b[1;32mC:\\Anaconda3\\envs\\dmvtnor\\lib\\site-packages\\ee\\data.py:331\u001b[0m, in \u001b[0;36m_execute_cloud_call\u001b[1;34m(call, num_retries)\u001b[0m\n\u001b[0;32m    329\u001b[0m   \u001b[38;5;28;01mreturn\u001b[39;00m call\u001b[38;5;241m.\u001b[39mexecute(num_retries\u001b[38;5;241m=\u001b[39mnum_retries)\n\u001b[0;32m    330\u001b[0m \u001b[38;5;28;01mexcept\u001b[39;00m googleapiclient\u001b[38;5;241m.\u001b[39merrors\u001b[38;5;241m.\u001b[39mHttpError \u001b[38;5;28;01mas\u001b[39;00m e:\n\u001b[1;32m--> 331\u001b[0m   \u001b[38;5;28;01mraise\u001b[39;00m _translate_cloud_exception(e)\n",
      "\u001b[1;31mEEException\u001b[0m: User memory limit exceeded."
     ]
    }
   ],
   "source": [
    "sampled_sent_list = vt_presence_fc.extract_from_eeimg(\n",
    "    img=img_to_extract,\n",
    "    scale=30,\n",
    "    tile_scale=8\n",
    ") "
   ]
  },
  {
   "cell_type": "code",
   "execution_count": null,
   "id": "considerable-handy",
   "metadata": {},
   "outputs": [],
   "source": [
    "# Print first entry for testing\n",
    "print(sampled_sent_list[0])"
   ]
  },
  {
   "cell_type": "markdown",
   "id": "offshore-cooler",
   "metadata": {},
   "source": [
    "<h3 style=\"color:salmon\">Create result DataFrame and save as csv</h3>"
   ]
  },
  {
   "cell_type": "code",
   "execution_count": null,
   "id": "considerable-sharing",
   "metadata": {},
   "outputs": [],
   "source": [
    "feature_mat = \\\n",
    "eeh.df_from_sampled_list(\n",
    "    sampled_list=sampled_sent_list,\n",
    "    saveas=\"sent2_gs17to21_median_and_maxndvi.csv\",\n",
    "    drop_cols=[\"type\", \"geometry\", \"id\"]\n",
    ")"
   ]
  },
  {
   "cell_type": "code",
   "execution_count": null,
   "id": "270488d4-3e60-4b94-9e3e-74017ee42abd",
   "metadata": {},
   "outputs": [],
   "source": [
    "# Print results\n",
    "print(feature_mat.shape)\n",
    "feature_mat.head()"
   ]
  },
  {
   "cell_type": "markdown",
   "id": "municipal-convenience",
   "metadata": {},
   "source": [
    "<h2 style=\"color:salmon;font-weight:bold\">The end.</h2>\n",
    "\n",
    "---\n",
    "---\n",
    "---\n",
    "---\n",
    "---"
   ]
  },
  {
   "cell_type": "markdown",
   "id": "0d9f496a-6a53-48bf-8952-894745d6cf6e",
   "metadata": {},
   "source": [
    "---\n",
    "## Data visualization"
   ]
  },
  {
   "cell_type": "code",
   "execution_count": null,
   "id": "3d30f066-e1c8-4471-b8ed-d712fc111846",
   "metadata": {
    "tags": []
   },
   "outputs": [],
   "source": [
    "data_df = feature_mat.drop([\"FLATE_NR\", \"POINT_X\", \"POINT_Y\", \"layer\"], axis=1)\n",
    "\n",
    "# Round data\n",
    "for col_name in data_df.columns:\n",
    "    data_df[col_name] = data_df[col_name].apply(lambda x: round(x, 4))\n",
    "    \n",
    "data_df.head()"
   ]
  },
  {
   "cell_type": "code",
   "execution_count": null,
   "id": "ff0b03e3-650b-4450-a980-a86cebf29e52",
   "metadata": {},
   "outputs": [],
   "source": [
    "# Print mean and ranges for each column to get some feeling for the data\n",
    "import statistics\n",
    "\n",
    "for col in data_df.columns:\n",
    "    print(f\"{col} -- mean={statistics.mean(data_df[col])} ; min={min(data_df[col])} ; max={max(data_df[col])}\")"
   ]
  },
  {
   "cell_type": "code",
   "execution_count": null,
   "id": "6623eee0-3349-4378-83e4-1b0a9365cd60",
   "metadata": {},
   "outputs": [],
   "source": [
    "import matplotlib.pyplot as plt\n",
    "import seaborn as sns\n",
    "\n",
    "sr_data_df = data_df#.drop([\"B6_median_comp\"], axis=1)\n",
    "\n",
    "save_path = \"../results/plots/features/satellite_data/sentinel2/\"\n",
    "\n",
    "fig, ax = plt.subplots(figsize=(12, 8), dpi=300)\n",
    "ax.set_title(\"Sentinel 2 - pixel values at Vegetation Type\\npresence point locations\", fontsize=20)\n",
    "ax.set_xticks(ax.get_xticks())\n",
    "ax.set_xticklabels(ax.get_xticklabels(), rotation=45, ha='right')\n",
    "ax.tick_params(labelsize=18)\n",
    "ax.set_ylabel(\"Surface reflectance / spectral index\", fontsize=18)\n",
    "ax.set_ylim(-1, 1.5)\n",
    "\n",
    "sns.violinplot(data=sr_data_df, ax=ax)\n",
    "\n",
    "fig.savefig(f\"{save_path}sentinel_pixels_violin.jpg\",\n",
    "            bbox_inches = 'tight',\n",
    "            pad_inches=0)"
   ]
  },
  {
   "cell_type": "code",
   "execution_count": null,
   "id": "907623f8-94be-47d1-bfab-c4d25c7f2ac8",
   "metadata": {
    "tags": []
   },
   "outputs": [],
   "source": [
    "# Plot histograms\n",
    "import matplotlib.pyplot as plt\n",
    "import numpy as np\n",
    "\n",
    "save_path = \"../results/plots/features/satellite_data/sentinel2/\"\n",
    "\n",
    "for col in data_df.columns:\n",
    "    \n",
    "    hist, bins = np.histogram(data_df[col], bins=50)\n",
    "    width = 0.7 * (bins[1] - bins[0])\n",
    "    center = (bins[:-1] + bins[1:]) / 2\n",
    "\n",
    "    fig, ax = plt.subplots(figsize=(12,12), dpi=300)\n",
    "    ax.bar(center, hist, align='center', width=width)\n",
    "\n",
    "    if (col in [x+\"_median_comp\" for x in spectral_index_names]) or (col in [x+\"_greenest_pixel\" for x in spectral_index_names]):\n",
    "        ax.set_xlabel(col, fontsize=32)\n",
    "    else:\n",
    "        ax.set_xlabel(\"Surface reflectance\", fontsize=32)\n",
    "\n",
    "    ax.set_ylabel(\"Frequency\", fontsize=32)\n",
    "    ax.tick_params(labelsize=22)\n",
    "\n",
    "    fig.savefig(f\"{save_path}{col}_histogram.jpg\",\n",
    "                bbox_inches = 'tight',\n",
    "                pad_inches=0)"
   ]
  }
 ],
 "metadata": {
  "kernelspec": {
   "display_name": "Python 3 (ipykernel)",
   "language": "python",
   "name": "python3"
  },
  "language_info": {
   "codemirror_mode": {
    "name": "ipython",
    "version": 3
   },
   "file_extension": ".py",
   "mimetype": "text/x-python",
   "name": "python",
   "nbconvert_exporter": "python",
   "pygments_lexer": "ipython3",
   "version": "3.10.8"
  }
 },
 "nbformat": 4,
 "nbformat_minor": 5
}
